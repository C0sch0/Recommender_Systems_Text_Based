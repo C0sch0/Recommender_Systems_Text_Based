{
  "nbformat": 4,
  "nbformat_minor": 0,
  "metadata": {
    "colab": {
      "name": "RST01_Official.ipynb",
      "provenance": [],
      "collapsed_sections": [],
      "machine_shape": "hm"
    },
    "kernelspec": {
      "name": "python3",
      "display_name": "Python 3"
    },
    "language_info": {
      "name": "python"
    },
    "accelerator": "GPU",
    "widgets": {
      "application/vnd.jupyter.widget-state+json": {
        "176b1821dea74ff9a8a57da34439cf07": {
          "model_module": "@jupyter-widgets/controls",
          "model_name": "HBoxModel",
          "model_module_version": "1.5.0",
          "state": {
            "_view_name": "HBoxView",
            "_dom_classes": [],
            "_model_name": "HBoxModel",
            "_view_module": "@jupyter-widgets/controls",
            "_model_module_version": "1.5.0",
            "_view_count": null,
            "_view_module_version": "1.5.0",
            "box_style": "",
            "layout": "IPY_MODEL_e1f32d82abca4f0fa50061c3c357365d",
            "_model_module": "@jupyter-widgets/controls",
            "children": [
              "IPY_MODEL_d05ac926c3264a6997b9f93cf8627ee7",
              "IPY_MODEL_023bb4299d5a49c1909968344c20ead0",
              "IPY_MODEL_d429ce5c8dd149fd8831a10aa8a6e19d"
            ]
          }
        },
        "e1f32d82abca4f0fa50061c3c357365d": {
          "model_module": "@jupyter-widgets/base",
          "model_name": "LayoutModel",
          "model_module_version": "1.2.0",
          "state": {
            "_view_name": "LayoutView",
            "grid_template_rows": null,
            "right": null,
            "justify_content": null,
            "_view_module": "@jupyter-widgets/base",
            "overflow": null,
            "_model_module_version": "1.2.0",
            "_view_count": null,
            "flex_flow": null,
            "width": null,
            "min_width": null,
            "border": null,
            "align_items": null,
            "bottom": null,
            "_model_module": "@jupyter-widgets/base",
            "top": null,
            "grid_column": null,
            "overflow_y": null,
            "overflow_x": null,
            "grid_auto_flow": null,
            "grid_area": null,
            "grid_template_columns": null,
            "flex": null,
            "_model_name": "LayoutModel",
            "justify_items": null,
            "grid_row": null,
            "max_height": null,
            "align_content": null,
            "visibility": null,
            "align_self": null,
            "height": null,
            "min_height": null,
            "padding": null,
            "grid_auto_rows": null,
            "grid_gap": null,
            "max_width": null,
            "order": null,
            "_view_module_version": "1.2.0",
            "grid_template_areas": null,
            "object_position": null,
            "object_fit": null,
            "grid_auto_columns": null,
            "margin": null,
            "display": null,
            "left": null
          }
        },
        "d05ac926c3264a6997b9f93cf8627ee7": {
          "model_module": "@jupyter-widgets/controls",
          "model_name": "HTMLModel",
          "model_module_version": "1.5.0",
          "state": {
            "_view_name": "HTMLView",
            "style": "IPY_MODEL_c346fb75b5934031b172a09f7a226b6a",
            "_dom_classes": [],
            "description": "",
            "_model_name": "HTMLModel",
            "placeholder": "​",
            "_view_module": "@jupyter-widgets/controls",
            "_model_module_version": "1.5.0",
            "value": "100%",
            "_view_count": null,
            "_view_module_version": "1.5.0",
            "description_tooltip": null,
            "_model_module": "@jupyter-widgets/controls",
            "layout": "IPY_MODEL_e4cdbfd8116d40c39fffb48066be65f0"
          }
        },
        "023bb4299d5a49c1909968344c20ead0": {
          "model_module": "@jupyter-widgets/controls",
          "model_name": "FloatProgressModel",
          "model_module_version": "1.5.0",
          "state": {
            "_view_name": "ProgressView",
            "style": "IPY_MODEL_074b2c0ffa0145a0b2888035c02f346a",
            "_dom_classes": [],
            "description": "",
            "_model_name": "FloatProgressModel",
            "bar_style": "success",
            "max": 3,
            "_view_module": "@jupyter-widgets/controls",
            "_model_module_version": "1.5.0",
            "value": 3,
            "_view_count": null,
            "_view_module_version": "1.5.0",
            "orientation": "horizontal",
            "min": 0,
            "description_tooltip": null,
            "_model_module": "@jupyter-widgets/controls",
            "layout": "IPY_MODEL_e35d4583abcb4079a972a3b172316fca"
          }
        },
        "d429ce5c8dd149fd8831a10aa8a6e19d": {
          "model_module": "@jupyter-widgets/controls",
          "model_name": "HTMLModel",
          "model_module_version": "1.5.0",
          "state": {
            "_view_name": "HTMLView",
            "style": "IPY_MODEL_a819d23b64c34dec9ded48c71c97b437",
            "_dom_classes": [],
            "description": "",
            "_model_name": "HTMLModel",
            "placeholder": "​",
            "_view_module": "@jupyter-widgets/controls",
            "_model_module_version": "1.5.0",
            "value": " 3/3 [18:05&lt;00:00, 367.39s/it]",
            "_view_count": null,
            "_view_module_version": "1.5.0",
            "description_tooltip": null,
            "_model_module": "@jupyter-widgets/controls",
            "layout": "IPY_MODEL_1549a50e7fa54d26873109e7001dc0df"
          }
        },
        "c346fb75b5934031b172a09f7a226b6a": {
          "model_module": "@jupyter-widgets/controls",
          "model_name": "DescriptionStyleModel",
          "model_module_version": "1.5.0",
          "state": {
            "_view_name": "StyleView",
            "_model_name": "DescriptionStyleModel",
            "description_width": "",
            "_view_module": "@jupyter-widgets/base",
            "_model_module_version": "1.5.0",
            "_view_count": null,
            "_view_module_version": "1.2.0",
            "_model_module": "@jupyter-widgets/controls"
          }
        },
        "e4cdbfd8116d40c39fffb48066be65f0": {
          "model_module": "@jupyter-widgets/base",
          "model_name": "LayoutModel",
          "model_module_version": "1.2.0",
          "state": {
            "_view_name": "LayoutView",
            "grid_template_rows": null,
            "right": null,
            "justify_content": null,
            "_view_module": "@jupyter-widgets/base",
            "overflow": null,
            "_model_module_version": "1.2.0",
            "_view_count": null,
            "flex_flow": null,
            "width": null,
            "min_width": null,
            "border": null,
            "align_items": null,
            "bottom": null,
            "_model_module": "@jupyter-widgets/base",
            "top": null,
            "grid_column": null,
            "overflow_y": null,
            "overflow_x": null,
            "grid_auto_flow": null,
            "grid_area": null,
            "grid_template_columns": null,
            "flex": null,
            "_model_name": "LayoutModel",
            "justify_items": null,
            "grid_row": null,
            "max_height": null,
            "align_content": null,
            "visibility": null,
            "align_self": null,
            "height": null,
            "min_height": null,
            "padding": null,
            "grid_auto_rows": null,
            "grid_gap": null,
            "max_width": null,
            "order": null,
            "_view_module_version": "1.2.0",
            "grid_template_areas": null,
            "object_position": null,
            "object_fit": null,
            "grid_auto_columns": null,
            "margin": null,
            "display": null,
            "left": null
          }
        },
        "074b2c0ffa0145a0b2888035c02f346a": {
          "model_module": "@jupyter-widgets/controls",
          "model_name": "ProgressStyleModel",
          "model_module_version": "1.5.0",
          "state": {
            "_view_name": "StyleView",
            "_model_name": "ProgressStyleModel",
            "description_width": "",
            "_view_module": "@jupyter-widgets/base",
            "_model_module_version": "1.5.0",
            "_view_count": null,
            "_view_module_version": "1.2.0",
            "bar_color": null,
            "_model_module": "@jupyter-widgets/controls"
          }
        },
        "e35d4583abcb4079a972a3b172316fca": {
          "model_module": "@jupyter-widgets/base",
          "model_name": "LayoutModel",
          "model_module_version": "1.2.0",
          "state": {
            "_view_name": "LayoutView",
            "grid_template_rows": null,
            "right": null,
            "justify_content": null,
            "_view_module": "@jupyter-widgets/base",
            "overflow": null,
            "_model_module_version": "1.2.0",
            "_view_count": null,
            "flex_flow": null,
            "width": null,
            "min_width": null,
            "border": null,
            "align_items": null,
            "bottom": null,
            "_model_module": "@jupyter-widgets/base",
            "top": null,
            "grid_column": null,
            "overflow_y": null,
            "overflow_x": null,
            "grid_auto_flow": null,
            "grid_area": null,
            "grid_template_columns": null,
            "flex": null,
            "_model_name": "LayoutModel",
            "justify_items": null,
            "grid_row": null,
            "max_height": null,
            "align_content": null,
            "visibility": null,
            "align_self": null,
            "height": null,
            "min_height": null,
            "padding": null,
            "grid_auto_rows": null,
            "grid_gap": null,
            "max_width": null,
            "order": null,
            "_view_module_version": "1.2.0",
            "grid_template_areas": null,
            "object_position": null,
            "object_fit": null,
            "grid_auto_columns": null,
            "margin": null,
            "display": null,
            "left": null
          }
        },
        "a819d23b64c34dec9ded48c71c97b437": {
          "model_module": "@jupyter-widgets/controls",
          "model_name": "DescriptionStyleModel",
          "model_module_version": "1.5.0",
          "state": {
            "_view_name": "StyleView",
            "_model_name": "DescriptionStyleModel",
            "description_width": "",
            "_view_module": "@jupyter-widgets/base",
            "_model_module_version": "1.5.0",
            "_view_count": null,
            "_view_module_version": "1.2.0",
            "_model_module": "@jupyter-widgets/controls"
          }
        },
        "1549a50e7fa54d26873109e7001dc0df": {
          "model_module": "@jupyter-widgets/base",
          "model_name": "LayoutModel",
          "model_module_version": "1.2.0",
          "state": {
            "_view_name": "LayoutView",
            "grid_template_rows": null,
            "right": null,
            "justify_content": null,
            "_view_module": "@jupyter-widgets/base",
            "overflow": null,
            "_model_module_version": "1.2.0",
            "_view_count": null,
            "flex_flow": null,
            "width": null,
            "min_width": null,
            "border": null,
            "align_items": null,
            "bottom": null,
            "_model_module": "@jupyter-widgets/base",
            "top": null,
            "grid_column": null,
            "overflow_y": null,
            "overflow_x": null,
            "grid_auto_flow": null,
            "grid_area": null,
            "grid_template_columns": null,
            "flex": null,
            "_model_name": "LayoutModel",
            "justify_items": null,
            "grid_row": null,
            "max_height": null,
            "align_content": null,
            "visibility": null,
            "align_self": null,
            "height": null,
            "min_height": null,
            "padding": null,
            "grid_auto_rows": null,
            "grid_gap": null,
            "max_width": null,
            "order": null,
            "_view_module_version": "1.2.0",
            "grid_template_areas": null,
            "object_position": null,
            "object_fit": null,
            "grid_auto_columns": null,
            "margin": null,
            "display": null,
            "left": null
          }
        },
        "688401f8f4b04c758ae56c8548c3e59a": {
          "model_module": "@jupyter-widgets/controls",
          "model_name": "HBoxModel",
          "model_module_version": "1.5.0",
          "state": {
            "_view_name": "HBoxView",
            "_dom_classes": [],
            "_model_name": "HBoxModel",
            "_view_module": "@jupyter-widgets/controls",
            "_model_module_version": "1.5.0",
            "_view_count": null,
            "_view_module_version": "1.5.0",
            "box_style": "",
            "layout": "IPY_MODEL_bf589c0a0d894a4eb480a15b9d93f4df",
            "_model_module": "@jupyter-widgets/controls",
            "children": [
              "IPY_MODEL_7c973e180f56463ca76f78a3d8074b14",
              "IPY_MODEL_0c97ed9339dd42c39331e201f1979076",
              "IPY_MODEL_14fe78f8e9ab49daaa9283caaf6c57bb"
            ]
          }
        },
        "bf589c0a0d894a4eb480a15b9d93f4df": {
          "model_module": "@jupyter-widgets/base",
          "model_name": "LayoutModel",
          "model_module_version": "1.2.0",
          "state": {
            "_view_name": "LayoutView",
            "grid_template_rows": null,
            "right": null,
            "justify_content": null,
            "_view_module": "@jupyter-widgets/base",
            "overflow": null,
            "_model_module_version": "1.2.0",
            "_view_count": null,
            "flex_flow": null,
            "width": null,
            "min_width": null,
            "border": null,
            "align_items": null,
            "bottom": null,
            "_model_module": "@jupyter-widgets/base",
            "top": null,
            "grid_column": null,
            "overflow_y": null,
            "overflow_x": null,
            "grid_auto_flow": null,
            "grid_area": null,
            "grid_template_columns": null,
            "flex": null,
            "_model_name": "LayoutModel",
            "justify_items": null,
            "grid_row": null,
            "max_height": null,
            "align_content": null,
            "visibility": null,
            "align_self": null,
            "height": null,
            "min_height": null,
            "padding": null,
            "grid_auto_rows": null,
            "grid_gap": null,
            "max_width": null,
            "order": null,
            "_view_module_version": "1.2.0",
            "grid_template_areas": null,
            "object_position": null,
            "object_fit": null,
            "grid_auto_columns": null,
            "margin": null,
            "display": null,
            "left": null
          }
        },
        "7c973e180f56463ca76f78a3d8074b14": {
          "model_module": "@jupyter-widgets/controls",
          "model_name": "HTMLModel",
          "model_module_version": "1.5.0",
          "state": {
            "_view_name": "HTMLView",
            "style": "IPY_MODEL_d0a4214d331e4920845d8524328c3513",
            "_dom_classes": [],
            "description": "",
            "_model_name": "HTMLModel",
            "placeholder": "​",
            "_view_module": "@jupyter-widgets/controls",
            "_model_module_version": "1.5.0",
            "value": "100%",
            "_view_count": null,
            "_view_module_version": "1.5.0",
            "description_tooltip": null,
            "_model_module": "@jupyter-widgets/controls",
            "layout": "IPY_MODEL_c8e7fe90f65247dd91869f90be5000a2"
          }
        },
        "0c97ed9339dd42c39331e201f1979076": {
          "model_module": "@jupyter-widgets/controls",
          "model_name": "FloatProgressModel",
          "model_module_version": "1.5.0",
          "state": {
            "_view_name": "ProgressView",
            "style": "IPY_MODEL_9ced0baa234a470e80dc545fec2e0b11",
            "_dom_classes": [],
            "description": "",
            "_model_name": "FloatProgressModel",
            "bar_style": "success",
            "max": 3,
            "_view_module": "@jupyter-widgets/controls",
            "_model_module_version": "1.5.0",
            "value": 3,
            "_view_count": null,
            "_view_module_version": "1.5.0",
            "orientation": "horizontal",
            "min": 0,
            "description_tooltip": null,
            "_model_module": "@jupyter-widgets/controls",
            "layout": "IPY_MODEL_3cd8c972904442fb8bba74ae50ac6855"
          }
        },
        "14fe78f8e9ab49daaa9283caaf6c57bb": {
          "model_module": "@jupyter-widgets/controls",
          "model_name": "HTMLModel",
          "model_module_version": "1.5.0",
          "state": {
            "_view_name": "HTMLView",
            "style": "IPY_MODEL_8438fb07641349a5b99d9bbb406b2223",
            "_dom_classes": [],
            "description": "",
            "_model_name": "HTMLModel",
            "placeholder": "​",
            "_view_module": "@jupyter-widgets/controls",
            "_model_module_version": "1.5.0",
            "value": " 3/3 [05:34&lt;00:00, 102.17s/it]",
            "_view_count": null,
            "_view_module_version": "1.5.0",
            "description_tooltip": null,
            "_model_module": "@jupyter-widgets/controls",
            "layout": "IPY_MODEL_c78e250d45b04bf29b4c8acc3099a66f"
          }
        },
        "d0a4214d331e4920845d8524328c3513": {
          "model_module": "@jupyter-widgets/controls",
          "model_name": "DescriptionStyleModel",
          "model_module_version": "1.5.0",
          "state": {
            "_view_name": "StyleView",
            "_model_name": "DescriptionStyleModel",
            "description_width": "",
            "_view_module": "@jupyter-widgets/base",
            "_model_module_version": "1.5.0",
            "_view_count": null,
            "_view_module_version": "1.2.0",
            "_model_module": "@jupyter-widgets/controls"
          }
        },
        "c8e7fe90f65247dd91869f90be5000a2": {
          "model_module": "@jupyter-widgets/base",
          "model_name": "LayoutModel",
          "model_module_version": "1.2.0",
          "state": {
            "_view_name": "LayoutView",
            "grid_template_rows": null,
            "right": null,
            "justify_content": null,
            "_view_module": "@jupyter-widgets/base",
            "overflow": null,
            "_model_module_version": "1.2.0",
            "_view_count": null,
            "flex_flow": null,
            "width": null,
            "min_width": null,
            "border": null,
            "align_items": null,
            "bottom": null,
            "_model_module": "@jupyter-widgets/base",
            "top": null,
            "grid_column": null,
            "overflow_y": null,
            "overflow_x": null,
            "grid_auto_flow": null,
            "grid_area": null,
            "grid_template_columns": null,
            "flex": null,
            "_model_name": "LayoutModel",
            "justify_items": null,
            "grid_row": null,
            "max_height": null,
            "align_content": null,
            "visibility": null,
            "align_self": null,
            "height": null,
            "min_height": null,
            "padding": null,
            "grid_auto_rows": null,
            "grid_gap": null,
            "max_width": null,
            "order": null,
            "_view_module_version": "1.2.0",
            "grid_template_areas": null,
            "object_position": null,
            "object_fit": null,
            "grid_auto_columns": null,
            "margin": null,
            "display": null,
            "left": null
          }
        },
        "9ced0baa234a470e80dc545fec2e0b11": {
          "model_module": "@jupyter-widgets/controls",
          "model_name": "ProgressStyleModel",
          "model_module_version": "1.5.0",
          "state": {
            "_view_name": "StyleView",
            "_model_name": "ProgressStyleModel",
            "description_width": "",
            "_view_module": "@jupyter-widgets/base",
            "_model_module_version": "1.5.0",
            "_view_count": null,
            "_view_module_version": "1.2.0",
            "bar_color": null,
            "_model_module": "@jupyter-widgets/controls"
          }
        },
        "3cd8c972904442fb8bba74ae50ac6855": {
          "model_module": "@jupyter-widgets/base",
          "model_name": "LayoutModel",
          "model_module_version": "1.2.0",
          "state": {
            "_view_name": "LayoutView",
            "grid_template_rows": null,
            "right": null,
            "justify_content": null,
            "_view_module": "@jupyter-widgets/base",
            "overflow": null,
            "_model_module_version": "1.2.0",
            "_view_count": null,
            "flex_flow": null,
            "width": null,
            "min_width": null,
            "border": null,
            "align_items": null,
            "bottom": null,
            "_model_module": "@jupyter-widgets/base",
            "top": null,
            "grid_column": null,
            "overflow_y": null,
            "overflow_x": null,
            "grid_auto_flow": null,
            "grid_area": null,
            "grid_template_columns": null,
            "flex": null,
            "_model_name": "LayoutModel",
            "justify_items": null,
            "grid_row": null,
            "max_height": null,
            "align_content": null,
            "visibility": null,
            "align_self": null,
            "height": null,
            "min_height": null,
            "padding": null,
            "grid_auto_rows": null,
            "grid_gap": null,
            "max_width": null,
            "order": null,
            "_view_module_version": "1.2.0",
            "grid_template_areas": null,
            "object_position": null,
            "object_fit": null,
            "grid_auto_columns": null,
            "margin": null,
            "display": null,
            "left": null
          }
        },
        "8438fb07641349a5b99d9bbb406b2223": {
          "model_module": "@jupyter-widgets/controls",
          "model_name": "DescriptionStyleModel",
          "model_module_version": "1.5.0",
          "state": {
            "_view_name": "StyleView",
            "_model_name": "DescriptionStyleModel",
            "description_width": "",
            "_view_module": "@jupyter-widgets/base",
            "_model_module_version": "1.5.0",
            "_view_count": null,
            "_view_module_version": "1.2.0",
            "_model_module": "@jupyter-widgets/controls"
          }
        },
        "c78e250d45b04bf29b4c8acc3099a66f": {
          "model_module": "@jupyter-widgets/base",
          "model_name": "LayoutModel",
          "model_module_version": "1.2.0",
          "state": {
            "_view_name": "LayoutView",
            "grid_template_rows": null,
            "right": null,
            "justify_content": null,
            "_view_module": "@jupyter-widgets/base",
            "overflow": null,
            "_model_module_version": "1.2.0",
            "_view_count": null,
            "flex_flow": null,
            "width": null,
            "min_width": null,
            "border": null,
            "align_items": null,
            "bottom": null,
            "_model_module": "@jupyter-widgets/base",
            "top": null,
            "grid_column": null,
            "overflow_y": null,
            "overflow_x": null,
            "grid_auto_flow": null,
            "grid_area": null,
            "grid_template_columns": null,
            "flex": null,
            "_model_name": "LayoutModel",
            "justify_items": null,
            "grid_row": null,
            "max_height": null,
            "align_content": null,
            "visibility": null,
            "align_self": null,
            "height": null,
            "min_height": null,
            "padding": null,
            "grid_auto_rows": null,
            "grid_gap": null,
            "max_width": null,
            "order": null,
            "_view_module_version": "1.2.0",
            "grid_template_areas": null,
            "object_position": null,
            "object_fit": null,
            "grid_auto_columns": null,
            "margin": null,
            "display": null,
            "left": null
          }
        },
        "fafdf75d78994b79ba36ffaf045ba61b": {
          "model_module": "@jupyter-widgets/controls",
          "model_name": "HBoxModel",
          "model_module_version": "1.5.0",
          "state": {
            "_view_name": "HBoxView",
            "_dom_classes": [],
            "_model_name": "HBoxModel",
            "_view_module": "@jupyter-widgets/controls",
            "_model_module_version": "1.5.0",
            "_view_count": null,
            "_view_module_version": "1.5.0",
            "box_style": "",
            "layout": "IPY_MODEL_1c93307685584b129b335926ab11a68b",
            "_model_module": "@jupyter-widgets/controls",
            "children": [
              "IPY_MODEL_c25852d35d954e9da16e77701d0b966c",
              "IPY_MODEL_b01bbba889e146d8bb61d5f62c047895",
              "IPY_MODEL_fc99354b0e7047caaeb8058f0709756e"
            ]
          }
        },
        "1c93307685584b129b335926ab11a68b": {
          "model_module": "@jupyter-widgets/base",
          "model_name": "LayoutModel",
          "model_module_version": "1.2.0",
          "state": {
            "_view_name": "LayoutView",
            "grid_template_rows": null,
            "right": null,
            "justify_content": null,
            "_view_module": "@jupyter-widgets/base",
            "overflow": null,
            "_model_module_version": "1.2.0",
            "_view_count": null,
            "flex_flow": null,
            "width": null,
            "min_width": null,
            "border": null,
            "align_items": null,
            "bottom": null,
            "_model_module": "@jupyter-widgets/base",
            "top": null,
            "grid_column": null,
            "overflow_y": null,
            "overflow_x": null,
            "grid_auto_flow": null,
            "grid_area": null,
            "grid_template_columns": null,
            "flex": null,
            "_model_name": "LayoutModel",
            "justify_items": null,
            "grid_row": null,
            "max_height": null,
            "align_content": null,
            "visibility": null,
            "align_self": null,
            "height": null,
            "min_height": null,
            "padding": null,
            "grid_auto_rows": null,
            "grid_gap": null,
            "max_width": null,
            "order": null,
            "_view_module_version": "1.2.0",
            "grid_template_areas": null,
            "object_position": null,
            "object_fit": null,
            "grid_auto_columns": null,
            "margin": null,
            "display": null,
            "left": null
          }
        },
        "c25852d35d954e9da16e77701d0b966c": {
          "model_module": "@jupyter-widgets/controls",
          "model_name": "HTMLModel",
          "model_module_version": "1.5.0",
          "state": {
            "_view_name": "HTMLView",
            "style": "IPY_MODEL_dbbfc6b2d78445d8afd1e6845d40d40e",
            "_dom_classes": [],
            "description": "",
            "_model_name": "HTMLModel",
            "placeholder": "​",
            "_view_module": "@jupyter-widgets/controls",
            "_model_module_version": "1.5.0",
            "value": "100%",
            "_view_count": null,
            "_view_module_version": "1.5.0",
            "description_tooltip": null,
            "_model_module": "@jupyter-widgets/controls",
            "layout": "IPY_MODEL_37ae28129af3428fae6a4466393e3836"
          }
        },
        "b01bbba889e146d8bb61d5f62c047895": {
          "model_module": "@jupyter-widgets/controls",
          "model_name": "FloatProgressModel",
          "model_module_version": "1.5.0",
          "state": {
            "_view_name": "ProgressView",
            "style": "IPY_MODEL_ae2cbf7f531545aca471ee9c58f23f32",
            "_dom_classes": [],
            "description": "",
            "_model_name": "FloatProgressModel",
            "bar_style": "success",
            "max": 14751,
            "_view_module": "@jupyter-widgets/controls",
            "_model_module_version": "1.5.0",
            "value": 14751,
            "_view_count": null,
            "_view_module_version": "1.5.0",
            "orientation": "horizontal",
            "min": 0,
            "description_tooltip": null,
            "_model_module": "@jupyter-widgets/controls",
            "layout": "IPY_MODEL_e62ae4ff5b84435691d9c593e6099afd"
          }
        },
        "fc99354b0e7047caaeb8058f0709756e": {
          "model_module": "@jupyter-widgets/controls",
          "model_name": "HTMLModel",
          "model_module_version": "1.5.0",
          "state": {
            "_view_name": "HTMLView",
            "style": "IPY_MODEL_60a09cda971f4eb69b1aef4cb2f5fb39",
            "_dom_classes": [],
            "description": "",
            "_model_name": "HTMLModel",
            "placeholder": "​",
            "_view_module": "@jupyter-widgets/controls",
            "_model_module_version": "1.5.0",
            "value": " 14751/14751 [02:18&lt;00:00, 114.02it/s]",
            "_view_count": null,
            "_view_module_version": "1.5.0",
            "description_tooltip": null,
            "_model_module": "@jupyter-widgets/controls",
            "layout": "IPY_MODEL_a9077299d1994cfc8c3e2cdf3a18df0e"
          }
        },
        "dbbfc6b2d78445d8afd1e6845d40d40e": {
          "model_module": "@jupyter-widgets/controls",
          "model_name": "DescriptionStyleModel",
          "model_module_version": "1.5.0",
          "state": {
            "_view_name": "StyleView",
            "_model_name": "DescriptionStyleModel",
            "description_width": "",
            "_view_module": "@jupyter-widgets/base",
            "_model_module_version": "1.5.0",
            "_view_count": null,
            "_view_module_version": "1.2.0",
            "_model_module": "@jupyter-widgets/controls"
          }
        },
        "37ae28129af3428fae6a4466393e3836": {
          "model_module": "@jupyter-widgets/base",
          "model_name": "LayoutModel",
          "model_module_version": "1.2.0",
          "state": {
            "_view_name": "LayoutView",
            "grid_template_rows": null,
            "right": null,
            "justify_content": null,
            "_view_module": "@jupyter-widgets/base",
            "overflow": null,
            "_model_module_version": "1.2.0",
            "_view_count": null,
            "flex_flow": null,
            "width": null,
            "min_width": null,
            "border": null,
            "align_items": null,
            "bottom": null,
            "_model_module": "@jupyter-widgets/base",
            "top": null,
            "grid_column": null,
            "overflow_y": null,
            "overflow_x": null,
            "grid_auto_flow": null,
            "grid_area": null,
            "grid_template_columns": null,
            "flex": null,
            "_model_name": "LayoutModel",
            "justify_items": null,
            "grid_row": null,
            "max_height": null,
            "align_content": null,
            "visibility": null,
            "align_self": null,
            "height": null,
            "min_height": null,
            "padding": null,
            "grid_auto_rows": null,
            "grid_gap": null,
            "max_width": null,
            "order": null,
            "_view_module_version": "1.2.0",
            "grid_template_areas": null,
            "object_position": null,
            "object_fit": null,
            "grid_auto_columns": null,
            "margin": null,
            "display": null,
            "left": null
          }
        },
        "ae2cbf7f531545aca471ee9c58f23f32": {
          "model_module": "@jupyter-widgets/controls",
          "model_name": "ProgressStyleModel",
          "model_module_version": "1.5.0",
          "state": {
            "_view_name": "StyleView",
            "_model_name": "ProgressStyleModel",
            "description_width": "",
            "_view_module": "@jupyter-widgets/base",
            "_model_module_version": "1.5.0",
            "_view_count": null,
            "_view_module_version": "1.2.0",
            "bar_color": null,
            "_model_module": "@jupyter-widgets/controls"
          }
        },
        "e62ae4ff5b84435691d9c593e6099afd": {
          "model_module": "@jupyter-widgets/base",
          "model_name": "LayoutModel",
          "model_module_version": "1.2.0",
          "state": {
            "_view_name": "LayoutView",
            "grid_template_rows": null,
            "right": null,
            "justify_content": null,
            "_view_module": "@jupyter-widgets/base",
            "overflow": null,
            "_model_module_version": "1.2.0",
            "_view_count": null,
            "flex_flow": null,
            "width": null,
            "min_width": null,
            "border": null,
            "align_items": null,
            "bottom": null,
            "_model_module": "@jupyter-widgets/base",
            "top": null,
            "grid_column": null,
            "overflow_y": null,
            "overflow_x": null,
            "grid_auto_flow": null,
            "grid_area": null,
            "grid_template_columns": null,
            "flex": null,
            "_model_name": "LayoutModel",
            "justify_items": null,
            "grid_row": null,
            "max_height": null,
            "align_content": null,
            "visibility": null,
            "align_self": null,
            "height": null,
            "min_height": null,
            "padding": null,
            "grid_auto_rows": null,
            "grid_gap": null,
            "max_width": null,
            "order": null,
            "_view_module_version": "1.2.0",
            "grid_template_areas": null,
            "object_position": null,
            "object_fit": null,
            "grid_auto_columns": null,
            "margin": null,
            "display": null,
            "left": null
          }
        },
        "60a09cda971f4eb69b1aef4cb2f5fb39": {
          "model_module": "@jupyter-widgets/controls",
          "model_name": "DescriptionStyleModel",
          "model_module_version": "1.5.0",
          "state": {
            "_view_name": "StyleView",
            "_model_name": "DescriptionStyleModel",
            "description_width": "",
            "_view_module": "@jupyter-widgets/base",
            "_model_module_version": "1.5.0",
            "_view_count": null,
            "_view_module_version": "1.2.0",
            "_model_module": "@jupyter-widgets/controls"
          }
        },
        "a9077299d1994cfc8c3e2cdf3a18df0e": {
          "model_module": "@jupyter-widgets/base",
          "model_name": "LayoutModel",
          "model_module_version": "1.2.0",
          "state": {
            "_view_name": "LayoutView",
            "grid_template_rows": null,
            "right": null,
            "justify_content": null,
            "_view_module": "@jupyter-widgets/base",
            "overflow": null,
            "_model_module_version": "1.2.0",
            "_view_count": null,
            "flex_flow": null,
            "width": null,
            "min_width": null,
            "border": null,
            "align_items": null,
            "bottom": null,
            "_model_module": "@jupyter-widgets/base",
            "top": null,
            "grid_column": null,
            "overflow_y": null,
            "overflow_x": null,
            "grid_auto_flow": null,
            "grid_area": null,
            "grid_template_columns": null,
            "flex": null,
            "_model_name": "LayoutModel",
            "justify_items": null,
            "grid_row": null,
            "max_height": null,
            "align_content": null,
            "visibility": null,
            "align_self": null,
            "height": null,
            "min_height": null,
            "padding": null,
            "grid_auto_rows": null,
            "grid_gap": null,
            "max_width": null,
            "order": null,
            "_view_module_version": "1.2.0",
            "grid_template_areas": null,
            "object_position": null,
            "object_fit": null,
            "grid_auto_columns": null,
            "margin": null,
            "display": null,
            "left": null
          }
        },
        "a7a4d67dc734475f877086c2dffd9f9b": {
          "model_module": "@jupyter-widgets/controls",
          "model_name": "HBoxModel",
          "model_module_version": "1.5.0",
          "state": {
            "_view_name": "HBoxView",
            "_dom_classes": [],
            "_model_name": "HBoxModel",
            "_view_module": "@jupyter-widgets/controls",
            "_model_module_version": "1.5.0",
            "_view_count": null,
            "_view_module_version": "1.5.0",
            "box_style": "",
            "layout": "IPY_MODEL_21de7a10be3443feb64e0e44ae0692f1",
            "_model_module": "@jupyter-widgets/controls",
            "children": [
              "IPY_MODEL_f96aa9e1f856491494dc914b9560111e",
              "IPY_MODEL_99247309e5be451ea11a8cc96688e6a6",
              "IPY_MODEL_6e2fe8ed1426482c90f82d927b979eaf"
            ]
          }
        },
        "21de7a10be3443feb64e0e44ae0692f1": {
          "model_module": "@jupyter-widgets/base",
          "model_name": "LayoutModel",
          "model_module_version": "1.2.0",
          "state": {
            "_view_name": "LayoutView",
            "grid_template_rows": null,
            "right": null,
            "justify_content": null,
            "_view_module": "@jupyter-widgets/base",
            "overflow": null,
            "_model_module_version": "1.2.0",
            "_view_count": null,
            "flex_flow": null,
            "width": null,
            "min_width": null,
            "border": null,
            "align_items": null,
            "bottom": null,
            "_model_module": "@jupyter-widgets/base",
            "top": null,
            "grid_column": null,
            "overflow_y": null,
            "overflow_x": null,
            "grid_auto_flow": null,
            "grid_area": null,
            "grid_template_columns": null,
            "flex": null,
            "_model_name": "LayoutModel",
            "justify_items": null,
            "grid_row": null,
            "max_height": null,
            "align_content": null,
            "visibility": null,
            "align_self": null,
            "height": null,
            "min_height": null,
            "padding": null,
            "grid_auto_rows": null,
            "grid_gap": null,
            "max_width": null,
            "order": null,
            "_view_module_version": "1.2.0",
            "grid_template_areas": null,
            "object_position": null,
            "object_fit": null,
            "grid_auto_columns": null,
            "margin": null,
            "display": null,
            "left": null
          }
        },
        "f96aa9e1f856491494dc914b9560111e": {
          "model_module": "@jupyter-widgets/controls",
          "model_name": "HTMLModel",
          "model_module_version": "1.5.0",
          "state": {
            "_view_name": "HTMLView",
            "style": "IPY_MODEL_c6a6c5c5a7d340a5a3f68e21e85bd7b9",
            "_dom_classes": [],
            "description": "",
            "_model_name": "HTMLModel",
            "placeholder": "​",
            "_view_module": "@jupyter-widgets/controls",
            "_model_module_version": "1.5.0",
            "value": "100%",
            "_view_count": null,
            "_view_module_version": "1.5.0",
            "description_tooltip": null,
            "_model_module": "@jupyter-widgets/controls",
            "layout": "IPY_MODEL_18a6f2d637074ae8a888965ec72507fc"
          }
        },
        "99247309e5be451ea11a8cc96688e6a6": {
          "model_module": "@jupyter-widgets/controls",
          "model_name": "FloatProgressModel",
          "model_module_version": "1.5.0",
          "state": {
            "_view_name": "ProgressView",
            "style": "IPY_MODEL_11d35acf3f2e48fbb768eaf527cad308",
            "_dom_classes": [],
            "description": "",
            "_model_name": "FloatProgressModel",
            "bar_style": "success",
            "max": 14751,
            "_view_module": "@jupyter-widgets/controls",
            "_model_module_version": "1.5.0",
            "value": 14751,
            "_view_count": null,
            "_view_module_version": "1.5.0",
            "orientation": "horizontal",
            "min": 0,
            "description_tooltip": null,
            "_model_module": "@jupyter-widgets/controls",
            "layout": "IPY_MODEL_6541b0c26a4b47988ed03787a84bbbec"
          }
        },
        "6e2fe8ed1426482c90f82d927b979eaf": {
          "model_module": "@jupyter-widgets/controls",
          "model_name": "HTMLModel",
          "model_module_version": "1.5.0",
          "state": {
            "_view_name": "HTMLView",
            "style": "IPY_MODEL_6e06054500294cc69646c0276b7dc01e",
            "_dom_classes": [],
            "description": "",
            "_model_name": "HTMLModel",
            "placeholder": "​",
            "_view_module": "@jupyter-widgets/controls",
            "_model_module_version": "1.5.0",
            "value": " 14751/14751 [02:11&lt;00:00, 111.30it/s]",
            "_view_count": null,
            "_view_module_version": "1.5.0",
            "description_tooltip": null,
            "_model_module": "@jupyter-widgets/controls",
            "layout": "IPY_MODEL_a988ab84ab474b0684ff728d4414e338"
          }
        },
        "c6a6c5c5a7d340a5a3f68e21e85bd7b9": {
          "model_module": "@jupyter-widgets/controls",
          "model_name": "DescriptionStyleModel",
          "model_module_version": "1.5.0",
          "state": {
            "_view_name": "StyleView",
            "_model_name": "DescriptionStyleModel",
            "description_width": "",
            "_view_module": "@jupyter-widgets/base",
            "_model_module_version": "1.5.0",
            "_view_count": null,
            "_view_module_version": "1.2.0",
            "_model_module": "@jupyter-widgets/controls"
          }
        },
        "18a6f2d637074ae8a888965ec72507fc": {
          "model_module": "@jupyter-widgets/base",
          "model_name": "LayoutModel",
          "model_module_version": "1.2.0",
          "state": {
            "_view_name": "LayoutView",
            "grid_template_rows": null,
            "right": null,
            "justify_content": null,
            "_view_module": "@jupyter-widgets/base",
            "overflow": null,
            "_model_module_version": "1.2.0",
            "_view_count": null,
            "flex_flow": null,
            "width": null,
            "min_width": null,
            "border": null,
            "align_items": null,
            "bottom": null,
            "_model_module": "@jupyter-widgets/base",
            "top": null,
            "grid_column": null,
            "overflow_y": null,
            "overflow_x": null,
            "grid_auto_flow": null,
            "grid_area": null,
            "grid_template_columns": null,
            "flex": null,
            "_model_name": "LayoutModel",
            "justify_items": null,
            "grid_row": null,
            "max_height": null,
            "align_content": null,
            "visibility": null,
            "align_self": null,
            "height": null,
            "min_height": null,
            "padding": null,
            "grid_auto_rows": null,
            "grid_gap": null,
            "max_width": null,
            "order": null,
            "_view_module_version": "1.2.0",
            "grid_template_areas": null,
            "object_position": null,
            "object_fit": null,
            "grid_auto_columns": null,
            "margin": null,
            "display": null,
            "left": null
          }
        },
        "11d35acf3f2e48fbb768eaf527cad308": {
          "model_module": "@jupyter-widgets/controls",
          "model_name": "ProgressStyleModel",
          "model_module_version": "1.5.0",
          "state": {
            "_view_name": "StyleView",
            "_model_name": "ProgressStyleModel",
            "description_width": "",
            "_view_module": "@jupyter-widgets/base",
            "_model_module_version": "1.5.0",
            "_view_count": null,
            "_view_module_version": "1.2.0",
            "bar_color": null,
            "_model_module": "@jupyter-widgets/controls"
          }
        },
        "6541b0c26a4b47988ed03787a84bbbec": {
          "model_module": "@jupyter-widgets/base",
          "model_name": "LayoutModel",
          "model_module_version": "1.2.0",
          "state": {
            "_view_name": "LayoutView",
            "grid_template_rows": null,
            "right": null,
            "justify_content": null,
            "_view_module": "@jupyter-widgets/base",
            "overflow": null,
            "_model_module_version": "1.2.0",
            "_view_count": null,
            "flex_flow": null,
            "width": null,
            "min_width": null,
            "border": null,
            "align_items": null,
            "bottom": null,
            "_model_module": "@jupyter-widgets/base",
            "top": null,
            "grid_column": null,
            "overflow_y": null,
            "overflow_x": null,
            "grid_auto_flow": null,
            "grid_area": null,
            "grid_template_columns": null,
            "flex": null,
            "_model_name": "LayoutModel",
            "justify_items": null,
            "grid_row": null,
            "max_height": null,
            "align_content": null,
            "visibility": null,
            "align_self": null,
            "height": null,
            "min_height": null,
            "padding": null,
            "grid_auto_rows": null,
            "grid_gap": null,
            "max_width": null,
            "order": null,
            "_view_module_version": "1.2.0",
            "grid_template_areas": null,
            "object_position": null,
            "object_fit": null,
            "grid_auto_columns": null,
            "margin": null,
            "display": null,
            "left": null
          }
        },
        "6e06054500294cc69646c0276b7dc01e": {
          "model_module": "@jupyter-widgets/controls",
          "model_name": "DescriptionStyleModel",
          "model_module_version": "1.5.0",
          "state": {
            "_view_name": "StyleView",
            "_model_name": "DescriptionStyleModel",
            "description_width": "",
            "_view_module": "@jupyter-widgets/base",
            "_model_module_version": "1.5.0",
            "_view_count": null,
            "_view_module_version": "1.2.0",
            "_model_module": "@jupyter-widgets/controls"
          }
        },
        "a988ab84ab474b0684ff728d4414e338": {
          "model_module": "@jupyter-widgets/base",
          "model_name": "LayoutModel",
          "model_module_version": "1.2.0",
          "state": {
            "_view_name": "LayoutView",
            "grid_template_rows": null,
            "right": null,
            "justify_content": null,
            "_view_module": "@jupyter-widgets/base",
            "overflow": null,
            "_model_module_version": "1.2.0",
            "_view_count": null,
            "flex_flow": null,
            "width": null,
            "min_width": null,
            "border": null,
            "align_items": null,
            "bottom": null,
            "_model_module": "@jupyter-widgets/base",
            "top": null,
            "grid_column": null,
            "overflow_y": null,
            "overflow_x": null,
            "grid_auto_flow": null,
            "grid_area": null,
            "grid_template_columns": null,
            "flex": null,
            "_model_name": "LayoutModel",
            "justify_items": null,
            "grid_row": null,
            "max_height": null,
            "align_content": null,
            "visibility": null,
            "align_self": null,
            "height": null,
            "min_height": null,
            "padding": null,
            "grid_auto_rows": null,
            "grid_gap": null,
            "max_width": null,
            "order": null,
            "_view_module_version": "1.2.0",
            "grid_template_areas": null,
            "object_position": null,
            "object_fit": null,
            "grid_auto_columns": null,
            "margin": null,
            "display": null,
            "left": null
          }
        },
        "3bbc321ac10c4d04b853858013bec467": {
          "model_module": "@jupyter-widgets/controls",
          "model_name": "HBoxModel",
          "model_module_version": "1.5.0",
          "state": {
            "_view_name": "HBoxView",
            "_dom_classes": [],
            "_model_name": "HBoxModel",
            "_view_module": "@jupyter-widgets/controls",
            "_model_module_version": "1.5.0",
            "_view_count": null,
            "_view_module_version": "1.5.0",
            "box_style": "",
            "layout": "IPY_MODEL_b6a2390693ce4f8b8700ad53137401ac",
            "_model_module": "@jupyter-widgets/controls",
            "children": [
              "IPY_MODEL_537c63b85c8b43a1b098344845148249",
              "IPY_MODEL_0431db9a20ff4d57a1c7e137a974bdf1",
              "IPY_MODEL_8b77ad3e84ea44b38229e16d77a92589"
            ]
          }
        },
        "b6a2390693ce4f8b8700ad53137401ac": {
          "model_module": "@jupyter-widgets/base",
          "model_name": "LayoutModel",
          "model_module_version": "1.2.0",
          "state": {
            "_view_name": "LayoutView",
            "grid_template_rows": null,
            "right": null,
            "justify_content": null,
            "_view_module": "@jupyter-widgets/base",
            "overflow": null,
            "_model_module_version": "1.2.0",
            "_view_count": null,
            "flex_flow": null,
            "width": null,
            "min_width": null,
            "border": null,
            "align_items": null,
            "bottom": null,
            "_model_module": "@jupyter-widgets/base",
            "top": null,
            "grid_column": null,
            "overflow_y": null,
            "overflow_x": null,
            "grid_auto_flow": null,
            "grid_area": null,
            "grid_template_columns": null,
            "flex": null,
            "_model_name": "LayoutModel",
            "justify_items": null,
            "grid_row": null,
            "max_height": null,
            "align_content": null,
            "visibility": null,
            "align_self": null,
            "height": null,
            "min_height": null,
            "padding": null,
            "grid_auto_rows": null,
            "grid_gap": null,
            "max_width": null,
            "order": null,
            "_view_module_version": "1.2.0",
            "grid_template_areas": null,
            "object_position": null,
            "object_fit": null,
            "grid_auto_columns": null,
            "margin": null,
            "display": null,
            "left": null
          }
        },
        "537c63b85c8b43a1b098344845148249": {
          "model_module": "@jupyter-widgets/controls",
          "model_name": "HTMLModel",
          "model_module_version": "1.5.0",
          "state": {
            "_view_name": "HTMLView",
            "style": "IPY_MODEL_817bd23113e346b084463a281547a212",
            "_dom_classes": [],
            "description": "",
            "_model_name": "HTMLModel",
            "placeholder": "​",
            "_view_module": "@jupyter-widgets/controls",
            "_model_module_version": "1.5.0",
            "value": "100%",
            "_view_count": null,
            "_view_module_version": "1.5.0",
            "description_tooltip": null,
            "_model_module": "@jupyter-widgets/controls",
            "layout": "IPY_MODEL_ad0d62b75c514505a46c7ba49ad21216"
          }
        },
        "0431db9a20ff4d57a1c7e137a974bdf1": {
          "model_module": "@jupyter-widgets/controls",
          "model_name": "FloatProgressModel",
          "model_module_version": "1.5.0",
          "state": {
            "_view_name": "ProgressView",
            "style": "IPY_MODEL_3195bd9ca95e4fddb9ccd06855cf61a1",
            "_dom_classes": [],
            "description": "",
            "_model_name": "FloatProgressModel",
            "bar_style": "success",
            "max": 14751,
            "_view_module": "@jupyter-widgets/controls",
            "_model_module_version": "1.5.0",
            "value": 14751,
            "_view_count": null,
            "_view_module_version": "1.5.0",
            "orientation": "horizontal",
            "min": 0,
            "description_tooltip": null,
            "_model_module": "@jupyter-widgets/controls",
            "layout": "IPY_MODEL_544aed13e22f4fea9d99e5d2381ba114"
          }
        },
        "8b77ad3e84ea44b38229e16d77a92589": {
          "model_module": "@jupyter-widgets/controls",
          "model_name": "HTMLModel",
          "model_module_version": "1.5.0",
          "state": {
            "_view_name": "HTMLView",
            "style": "IPY_MODEL_b6620459277549d5ae4ed2b124e749fc",
            "_dom_classes": [],
            "description": "",
            "_model_name": "HTMLModel",
            "placeholder": "​",
            "_view_module": "@jupyter-widgets/controls",
            "_model_module_version": "1.5.0",
            "value": " 14751/14751 [01:03&lt;00:00, 233.41it/s]",
            "_view_count": null,
            "_view_module_version": "1.5.0",
            "description_tooltip": null,
            "_model_module": "@jupyter-widgets/controls",
            "layout": "IPY_MODEL_c59966c649dc48238a0588dccc6d922d"
          }
        },
        "817bd23113e346b084463a281547a212": {
          "model_module": "@jupyter-widgets/controls",
          "model_name": "DescriptionStyleModel",
          "model_module_version": "1.5.0",
          "state": {
            "_view_name": "StyleView",
            "_model_name": "DescriptionStyleModel",
            "description_width": "",
            "_view_module": "@jupyter-widgets/base",
            "_model_module_version": "1.5.0",
            "_view_count": null,
            "_view_module_version": "1.2.0",
            "_model_module": "@jupyter-widgets/controls"
          }
        },
        "ad0d62b75c514505a46c7ba49ad21216": {
          "model_module": "@jupyter-widgets/base",
          "model_name": "LayoutModel",
          "model_module_version": "1.2.0",
          "state": {
            "_view_name": "LayoutView",
            "grid_template_rows": null,
            "right": null,
            "justify_content": null,
            "_view_module": "@jupyter-widgets/base",
            "overflow": null,
            "_model_module_version": "1.2.0",
            "_view_count": null,
            "flex_flow": null,
            "width": null,
            "min_width": null,
            "border": null,
            "align_items": null,
            "bottom": null,
            "_model_module": "@jupyter-widgets/base",
            "top": null,
            "grid_column": null,
            "overflow_y": null,
            "overflow_x": null,
            "grid_auto_flow": null,
            "grid_area": null,
            "grid_template_columns": null,
            "flex": null,
            "_model_name": "LayoutModel",
            "justify_items": null,
            "grid_row": null,
            "max_height": null,
            "align_content": null,
            "visibility": null,
            "align_self": null,
            "height": null,
            "min_height": null,
            "padding": null,
            "grid_auto_rows": null,
            "grid_gap": null,
            "max_width": null,
            "order": null,
            "_view_module_version": "1.2.0",
            "grid_template_areas": null,
            "object_position": null,
            "object_fit": null,
            "grid_auto_columns": null,
            "margin": null,
            "display": null,
            "left": null
          }
        },
        "3195bd9ca95e4fddb9ccd06855cf61a1": {
          "model_module": "@jupyter-widgets/controls",
          "model_name": "ProgressStyleModel",
          "model_module_version": "1.5.0",
          "state": {
            "_view_name": "StyleView",
            "_model_name": "ProgressStyleModel",
            "description_width": "",
            "_view_module": "@jupyter-widgets/base",
            "_model_module_version": "1.5.0",
            "_view_count": null,
            "_view_module_version": "1.2.0",
            "bar_color": null,
            "_model_module": "@jupyter-widgets/controls"
          }
        },
        "544aed13e22f4fea9d99e5d2381ba114": {
          "model_module": "@jupyter-widgets/base",
          "model_name": "LayoutModel",
          "model_module_version": "1.2.0",
          "state": {
            "_view_name": "LayoutView",
            "grid_template_rows": null,
            "right": null,
            "justify_content": null,
            "_view_module": "@jupyter-widgets/base",
            "overflow": null,
            "_model_module_version": "1.2.0",
            "_view_count": null,
            "flex_flow": null,
            "width": null,
            "min_width": null,
            "border": null,
            "align_items": null,
            "bottom": null,
            "_model_module": "@jupyter-widgets/base",
            "top": null,
            "grid_column": null,
            "overflow_y": null,
            "overflow_x": null,
            "grid_auto_flow": null,
            "grid_area": null,
            "grid_template_columns": null,
            "flex": null,
            "_model_name": "LayoutModel",
            "justify_items": null,
            "grid_row": null,
            "max_height": null,
            "align_content": null,
            "visibility": null,
            "align_self": null,
            "height": null,
            "min_height": null,
            "padding": null,
            "grid_auto_rows": null,
            "grid_gap": null,
            "max_width": null,
            "order": null,
            "_view_module_version": "1.2.0",
            "grid_template_areas": null,
            "object_position": null,
            "object_fit": null,
            "grid_auto_columns": null,
            "margin": null,
            "display": null,
            "left": null
          }
        },
        "b6620459277549d5ae4ed2b124e749fc": {
          "model_module": "@jupyter-widgets/controls",
          "model_name": "DescriptionStyleModel",
          "model_module_version": "1.5.0",
          "state": {
            "_view_name": "StyleView",
            "_model_name": "DescriptionStyleModel",
            "description_width": "",
            "_view_module": "@jupyter-widgets/base",
            "_model_module_version": "1.5.0",
            "_view_count": null,
            "_view_module_version": "1.2.0",
            "_model_module": "@jupyter-widgets/controls"
          }
        },
        "c59966c649dc48238a0588dccc6d922d": {
          "model_module": "@jupyter-widgets/base",
          "model_name": "LayoutModel",
          "model_module_version": "1.2.0",
          "state": {
            "_view_name": "LayoutView",
            "grid_template_rows": null,
            "right": null,
            "justify_content": null,
            "_view_module": "@jupyter-widgets/base",
            "overflow": null,
            "_model_module_version": "1.2.0",
            "_view_count": null,
            "flex_flow": null,
            "width": null,
            "min_width": null,
            "border": null,
            "align_items": null,
            "bottom": null,
            "_model_module": "@jupyter-widgets/base",
            "top": null,
            "grid_column": null,
            "overflow_y": null,
            "overflow_x": null,
            "grid_auto_flow": null,
            "grid_area": null,
            "grid_template_columns": null,
            "flex": null,
            "_model_name": "LayoutModel",
            "justify_items": null,
            "grid_row": null,
            "max_height": null,
            "align_content": null,
            "visibility": null,
            "align_self": null,
            "height": null,
            "min_height": null,
            "padding": null,
            "grid_auto_rows": null,
            "grid_gap": null,
            "max_width": null,
            "order": null,
            "_view_module_version": "1.2.0",
            "grid_template_areas": null,
            "object_position": null,
            "object_fit": null,
            "grid_auto_columns": null,
            "margin": null,
            "display": null,
            "left": null
          }
        },
        "5dc8726a0a714ac59065062d44196200": {
          "model_module": "@jupyter-widgets/controls",
          "model_name": "HBoxModel",
          "model_module_version": "1.5.0",
          "state": {
            "_view_name": "HBoxView",
            "_dom_classes": [],
            "_model_name": "HBoxModel",
            "_view_module": "@jupyter-widgets/controls",
            "_model_module_version": "1.5.0",
            "_view_count": null,
            "_view_module_version": "1.5.0",
            "box_style": "",
            "layout": "IPY_MODEL_e46870f97fce42acb14fac46706a231f",
            "_model_module": "@jupyter-widgets/controls",
            "children": [
              "IPY_MODEL_673d1dc95000400a956331315af0495a",
              "IPY_MODEL_664cf6b7c9c143ae93988513da38cc34",
              "IPY_MODEL_95c2945a9edb4fb687c62bd060ed2bf9"
            ]
          }
        },
        "e46870f97fce42acb14fac46706a231f": {
          "model_module": "@jupyter-widgets/base",
          "model_name": "LayoutModel",
          "model_module_version": "1.2.0",
          "state": {
            "_view_name": "LayoutView",
            "grid_template_rows": null,
            "right": null,
            "justify_content": null,
            "_view_module": "@jupyter-widgets/base",
            "overflow": null,
            "_model_module_version": "1.2.0",
            "_view_count": null,
            "flex_flow": null,
            "width": null,
            "min_width": null,
            "border": null,
            "align_items": null,
            "bottom": null,
            "_model_module": "@jupyter-widgets/base",
            "top": null,
            "grid_column": null,
            "overflow_y": null,
            "overflow_x": null,
            "grid_auto_flow": null,
            "grid_area": null,
            "grid_template_columns": null,
            "flex": null,
            "_model_name": "LayoutModel",
            "justify_items": null,
            "grid_row": null,
            "max_height": null,
            "align_content": null,
            "visibility": null,
            "align_self": null,
            "height": null,
            "min_height": null,
            "padding": null,
            "grid_auto_rows": null,
            "grid_gap": null,
            "max_width": null,
            "order": null,
            "_view_module_version": "1.2.0",
            "grid_template_areas": null,
            "object_position": null,
            "object_fit": null,
            "grid_auto_columns": null,
            "margin": null,
            "display": null,
            "left": null
          }
        },
        "673d1dc95000400a956331315af0495a": {
          "model_module": "@jupyter-widgets/controls",
          "model_name": "HTMLModel",
          "model_module_version": "1.5.0",
          "state": {
            "_view_name": "HTMLView",
            "style": "IPY_MODEL_f4545a95cf8f4ce997d1b9ad15e78b6a",
            "_dom_classes": [],
            "description": "",
            "_model_name": "HTMLModel",
            "placeholder": "​",
            "_view_module": "@jupyter-widgets/controls",
            "_model_module_version": "1.5.0",
            "value": "100%",
            "_view_count": null,
            "_view_module_version": "1.5.0",
            "description_tooltip": null,
            "_model_module": "@jupyter-widgets/controls",
            "layout": "IPY_MODEL_05d761c8ad164442a7fbe8e3d2608588"
          }
        },
        "664cf6b7c9c143ae93988513da38cc34": {
          "model_module": "@jupyter-widgets/controls",
          "model_name": "FloatProgressModel",
          "model_module_version": "1.5.0",
          "state": {
            "_view_name": "ProgressView",
            "style": "IPY_MODEL_54b44653e2c2432396ee2868f807075e",
            "_dom_classes": [],
            "description": "",
            "_model_name": "FloatProgressModel",
            "bar_style": "success",
            "max": 3,
            "_view_module": "@jupyter-widgets/controls",
            "_model_module_version": "1.5.0",
            "value": 3,
            "_view_count": null,
            "_view_module_version": "1.5.0",
            "orientation": "horizontal",
            "min": 0,
            "description_tooltip": null,
            "_model_module": "@jupyter-widgets/controls",
            "layout": "IPY_MODEL_054b25b880ac45409532f0efefa9993b"
          }
        },
        "95c2945a9edb4fb687c62bd060ed2bf9": {
          "model_module": "@jupyter-widgets/controls",
          "model_name": "HTMLModel",
          "model_module_version": "1.5.0",
          "state": {
            "_view_name": "HTMLView",
            "style": "IPY_MODEL_2dd7601a46154c5c95586be5c25747c2",
            "_dom_classes": [],
            "description": "",
            "_model_name": "HTMLModel",
            "placeholder": "​",
            "_view_module": "@jupyter-widgets/controls",
            "_model_module_version": "1.5.0",
            "value": " 3/3 [06:08&lt;00:00, 113.21s/it]",
            "_view_count": null,
            "_view_module_version": "1.5.0",
            "description_tooltip": null,
            "_model_module": "@jupyter-widgets/controls",
            "layout": "IPY_MODEL_60fd6a251ae246a1a64eab817d6fede5"
          }
        },
        "f4545a95cf8f4ce997d1b9ad15e78b6a": {
          "model_module": "@jupyter-widgets/controls",
          "model_name": "DescriptionStyleModel",
          "model_module_version": "1.5.0",
          "state": {
            "_view_name": "StyleView",
            "_model_name": "DescriptionStyleModel",
            "description_width": "",
            "_view_module": "@jupyter-widgets/base",
            "_model_module_version": "1.5.0",
            "_view_count": null,
            "_view_module_version": "1.2.0",
            "_model_module": "@jupyter-widgets/controls"
          }
        },
        "05d761c8ad164442a7fbe8e3d2608588": {
          "model_module": "@jupyter-widgets/base",
          "model_name": "LayoutModel",
          "model_module_version": "1.2.0",
          "state": {
            "_view_name": "LayoutView",
            "grid_template_rows": null,
            "right": null,
            "justify_content": null,
            "_view_module": "@jupyter-widgets/base",
            "overflow": null,
            "_model_module_version": "1.2.0",
            "_view_count": null,
            "flex_flow": null,
            "width": null,
            "min_width": null,
            "border": null,
            "align_items": null,
            "bottom": null,
            "_model_module": "@jupyter-widgets/base",
            "top": null,
            "grid_column": null,
            "overflow_y": null,
            "overflow_x": null,
            "grid_auto_flow": null,
            "grid_area": null,
            "grid_template_columns": null,
            "flex": null,
            "_model_name": "LayoutModel",
            "justify_items": null,
            "grid_row": null,
            "max_height": null,
            "align_content": null,
            "visibility": null,
            "align_self": null,
            "height": null,
            "min_height": null,
            "padding": null,
            "grid_auto_rows": null,
            "grid_gap": null,
            "max_width": null,
            "order": null,
            "_view_module_version": "1.2.0",
            "grid_template_areas": null,
            "object_position": null,
            "object_fit": null,
            "grid_auto_columns": null,
            "margin": null,
            "display": null,
            "left": null
          }
        },
        "54b44653e2c2432396ee2868f807075e": {
          "model_module": "@jupyter-widgets/controls",
          "model_name": "ProgressStyleModel",
          "model_module_version": "1.5.0",
          "state": {
            "_view_name": "StyleView",
            "_model_name": "ProgressStyleModel",
            "description_width": "",
            "_view_module": "@jupyter-widgets/base",
            "_model_module_version": "1.5.0",
            "_view_count": null,
            "_view_module_version": "1.2.0",
            "bar_color": null,
            "_model_module": "@jupyter-widgets/controls"
          }
        },
        "054b25b880ac45409532f0efefa9993b": {
          "model_module": "@jupyter-widgets/base",
          "model_name": "LayoutModel",
          "model_module_version": "1.2.0",
          "state": {
            "_view_name": "LayoutView",
            "grid_template_rows": null,
            "right": null,
            "justify_content": null,
            "_view_module": "@jupyter-widgets/base",
            "overflow": null,
            "_model_module_version": "1.2.0",
            "_view_count": null,
            "flex_flow": null,
            "width": null,
            "min_width": null,
            "border": null,
            "align_items": null,
            "bottom": null,
            "_model_module": "@jupyter-widgets/base",
            "top": null,
            "grid_column": null,
            "overflow_y": null,
            "overflow_x": null,
            "grid_auto_flow": null,
            "grid_area": null,
            "grid_template_columns": null,
            "flex": null,
            "_model_name": "LayoutModel",
            "justify_items": null,
            "grid_row": null,
            "max_height": null,
            "align_content": null,
            "visibility": null,
            "align_self": null,
            "height": null,
            "min_height": null,
            "padding": null,
            "grid_auto_rows": null,
            "grid_gap": null,
            "max_width": null,
            "order": null,
            "_view_module_version": "1.2.0",
            "grid_template_areas": null,
            "object_position": null,
            "object_fit": null,
            "grid_auto_columns": null,
            "margin": null,
            "display": null,
            "left": null
          }
        },
        "2dd7601a46154c5c95586be5c25747c2": {
          "model_module": "@jupyter-widgets/controls",
          "model_name": "DescriptionStyleModel",
          "model_module_version": "1.5.0",
          "state": {
            "_view_name": "StyleView",
            "_model_name": "DescriptionStyleModel",
            "description_width": "",
            "_view_module": "@jupyter-widgets/base",
            "_model_module_version": "1.5.0",
            "_view_count": null,
            "_view_module_version": "1.2.0",
            "_model_module": "@jupyter-widgets/controls"
          }
        },
        "60fd6a251ae246a1a64eab817d6fede5": {
          "model_module": "@jupyter-widgets/base",
          "model_name": "LayoutModel",
          "model_module_version": "1.2.0",
          "state": {
            "_view_name": "LayoutView",
            "grid_template_rows": null,
            "right": null,
            "justify_content": null,
            "_view_module": "@jupyter-widgets/base",
            "overflow": null,
            "_model_module_version": "1.2.0",
            "_view_count": null,
            "flex_flow": null,
            "width": null,
            "min_width": null,
            "border": null,
            "align_items": null,
            "bottom": null,
            "_model_module": "@jupyter-widgets/base",
            "top": null,
            "grid_column": null,
            "overflow_y": null,
            "overflow_x": null,
            "grid_auto_flow": null,
            "grid_area": null,
            "grid_template_columns": null,
            "flex": null,
            "_model_name": "LayoutModel",
            "justify_items": null,
            "grid_row": null,
            "max_height": null,
            "align_content": null,
            "visibility": null,
            "align_self": null,
            "height": null,
            "min_height": null,
            "padding": null,
            "grid_auto_rows": null,
            "grid_gap": null,
            "max_width": null,
            "order": null,
            "_view_module_version": "1.2.0",
            "grid_template_areas": null,
            "object_position": null,
            "object_fit": null,
            "grid_auto_columns": null,
            "margin": null,
            "display": null,
            "left": null
          }
        },
        "48c0e2a6a0a14af09596915d16a4e813": {
          "model_module": "@jupyter-widgets/controls",
          "model_name": "HBoxModel",
          "model_module_version": "1.5.0",
          "state": {
            "_view_name": "HBoxView",
            "_dom_classes": [],
            "_model_name": "HBoxModel",
            "_view_module": "@jupyter-widgets/controls",
            "_model_module_version": "1.5.0",
            "_view_count": null,
            "_view_module_version": "1.5.0",
            "box_style": "",
            "layout": "IPY_MODEL_57f7b64107314e3480f3c6a9fe15a273",
            "_model_module": "@jupyter-widgets/controls",
            "children": [
              "IPY_MODEL_d82c204f033a49ed90be5a8a07b8b1b8",
              "IPY_MODEL_241e89ee30e84bb7afebcb776d4ee645",
              "IPY_MODEL_9910935e9c1a432b9b6829370bd7e56a"
            ]
          }
        },
        "57f7b64107314e3480f3c6a9fe15a273": {
          "model_module": "@jupyter-widgets/base",
          "model_name": "LayoutModel",
          "model_module_version": "1.2.0",
          "state": {
            "_view_name": "LayoutView",
            "grid_template_rows": null,
            "right": null,
            "justify_content": null,
            "_view_module": "@jupyter-widgets/base",
            "overflow": null,
            "_model_module_version": "1.2.0",
            "_view_count": null,
            "flex_flow": null,
            "width": null,
            "min_width": null,
            "border": null,
            "align_items": null,
            "bottom": null,
            "_model_module": "@jupyter-widgets/base",
            "top": null,
            "grid_column": null,
            "overflow_y": null,
            "overflow_x": null,
            "grid_auto_flow": null,
            "grid_area": null,
            "grid_template_columns": null,
            "flex": null,
            "_model_name": "LayoutModel",
            "justify_items": null,
            "grid_row": null,
            "max_height": null,
            "align_content": null,
            "visibility": null,
            "align_self": null,
            "height": null,
            "min_height": null,
            "padding": null,
            "grid_auto_rows": null,
            "grid_gap": null,
            "max_width": null,
            "order": null,
            "_view_module_version": "1.2.0",
            "grid_template_areas": null,
            "object_position": null,
            "object_fit": null,
            "grid_auto_columns": null,
            "margin": null,
            "display": null,
            "left": null
          }
        },
        "d82c204f033a49ed90be5a8a07b8b1b8": {
          "model_module": "@jupyter-widgets/controls",
          "model_name": "HTMLModel",
          "model_module_version": "1.5.0",
          "state": {
            "_view_name": "HTMLView",
            "style": "IPY_MODEL_7d7df5f492c24500997153490f98be3d",
            "_dom_classes": [],
            "description": "",
            "_model_name": "HTMLModel",
            "placeholder": "​",
            "_view_module": "@jupyter-widgets/controls",
            "_model_module_version": "1.5.0",
            "value": "100%",
            "_view_count": null,
            "_view_module_version": "1.5.0",
            "description_tooltip": null,
            "_model_module": "@jupyter-widgets/controls",
            "layout": "IPY_MODEL_d2a4aadfe1db46ed85d5ff7105ee7790"
          }
        },
        "241e89ee30e84bb7afebcb776d4ee645": {
          "model_module": "@jupyter-widgets/controls",
          "model_name": "FloatProgressModel",
          "model_module_version": "1.5.0",
          "state": {
            "_view_name": "ProgressView",
            "style": "IPY_MODEL_825527c57ae64209961b27a2d0aff316",
            "_dom_classes": [],
            "description": "",
            "_model_name": "FloatProgressModel",
            "bar_style": "success",
            "max": 14751,
            "_view_module": "@jupyter-widgets/controls",
            "_model_module_version": "1.5.0",
            "value": 14751,
            "_view_count": null,
            "_view_module_version": "1.5.0",
            "orientation": "horizontal",
            "min": 0,
            "description_tooltip": null,
            "_model_module": "@jupyter-widgets/controls",
            "layout": "IPY_MODEL_e8695a7a01a8405db0ab1677aaf114e2"
          }
        },
        "9910935e9c1a432b9b6829370bd7e56a": {
          "model_module": "@jupyter-widgets/controls",
          "model_name": "HTMLModel",
          "model_module_version": "1.5.0",
          "state": {
            "_view_name": "HTMLView",
            "style": "IPY_MODEL_1a73414233fe4a73b9f9a5e0a621ebdb",
            "_dom_classes": [],
            "description": "",
            "_model_name": "HTMLModel",
            "placeholder": "​",
            "_view_module": "@jupyter-widgets/controls",
            "_model_module_version": "1.5.0",
            "value": " 14751/14751 [02:24&lt;00:00, 99.84it/s]",
            "_view_count": null,
            "_view_module_version": "1.5.0",
            "description_tooltip": null,
            "_model_module": "@jupyter-widgets/controls",
            "layout": "IPY_MODEL_8890723613714211bebd0a7f288ec4e6"
          }
        },
        "7d7df5f492c24500997153490f98be3d": {
          "model_module": "@jupyter-widgets/controls",
          "model_name": "DescriptionStyleModel",
          "model_module_version": "1.5.0",
          "state": {
            "_view_name": "StyleView",
            "_model_name": "DescriptionStyleModel",
            "description_width": "",
            "_view_module": "@jupyter-widgets/base",
            "_model_module_version": "1.5.0",
            "_view_count": null,
            "_view_module_version": "1.2.0",
            "_model_module": "@jupyter-widgets/controls"
          }
        },
        "d2a4aadfe1db46ed85d5ff7105ee7790": {
          "model_module": "@jupyter-widgets/base",
          "model_name": "LayoutModel",
          "model_module_version": "1.2.0",
          "state": {
            "_view_name": "LayoutView",
            "grid_template_rows": null,
            "right": null,
            "justify_content": null,
            "_view_module": "@jupyter-widgets/base",
            "overflow": null,
            "_model_module_version": "1.2.0",
            "_view_count": null,
            "flex_flow": null,
            "width": null,
            "min_width": null,
            "border": null,
            "align_items": null,
            "bottom": null,
            "_model_module": "@jupyter-widgets/base",
            "top": null,
            "grid_column": null,
            "overflow_y": null,
            "overflow_x": null,
            "grid_auto_flow": null,
            "grid_area": null,
            "grid_template_columns": null,
            "flex": null,
            "_model_name": "LayoutModel",
            "justify_items": null,
            "grid_row": null,
            "max_height": null,
            "align_content": null,
            "visibility": null,
            "align_self": null,
            "height": null,
            "min_height": null,
            "padding": null,
            "grid_auto_rows": null,
            "grid_gap": null,
            "max_width": null,
            "order": null,
            "_view_module_version": "1.2.0",
            "grid_template_areas": null,
            "object_position": null,
            "object_fit": null,
            "grid_auto_columns": null,
            "margin": null,
            "display": null,
            "left": null
          }
        },
        "825527c57ae64209961b27a2d0aff316": {
          "model_module": "@jupyter-widgets/controls",
          "model_name": "ProgressStyleModel",
          "model_module_version": "1.5.0",
          "state": {
            "_view_name": "StyleView",
            "_model_name": "ProgressStyleModel",
            "description_width": "",
            "_view_module": "@jupyter-widgets/base",
            "_model_module_version": "1.5.0",
            "_view_count": null,
            "_view_module_version": "1.2.0",
            "bar_color": null,
            "_model_module": "@jupyter-widgets/controls"
          }
        },
        "e8695a7a01a8405db0ab1677aaf114e2": {
          "model_module": "@jupyter-widgets/base",
          "model_name": "LayoutModel",
          "model_module_version": "1.2.0",
          "state": {
            "_view_name": "LayoutView",
            "grid_template_rows": null,
            "right": null,
            "justify_content": null,
            "_view_module": "@jupyter-widgets/base",
            "overflow": null,
            "_model_module_version": "1.2.0",
            "_view_count": null,
            "flex_flow": null,
            "width": null,
            "min_width": null,
            "border": null,
            "align_items": null,
            "bottom": null,
            "_model_module": "@jupyter-widgets/base",
            "top": null,
            "grid_column": null,
            "overflow_y": null,
            "overflow_x": null,
            "grid_auto_flow": null,
            "grid_area": null,
            "grid_template_columns": null,
            "flex": null,
            "_model_name": "LayoutModel",
            "justify_items": null,
            "grid_row": null,
            "max_height": null,
            "align_content": null,
            "visibility": null,
            "align_self": null,
            "height": null,
            "min_height": null,
            "padding": null,
            "grid_auto_rows": null,
            "grid_gap": null,
            "max_width": null,
            "order": null,
            "_view_module_version": "1.2.0",
            "grid_template_areas": null,
            "object_position": null,
            "object_fit": null,
            "grid_auto_columns": null,
            "margin": null,
            "display": null,
            "left": null
          }
        },
        "1a73414233fe4a73b9f9a5e0a621ebdb": {
          "model_module": "@jupyter-widgets/controls",
          "model_name": "DescriptionStyleModel",
          "model_module_version": "1.5.0",
          "state": {
            "_view_name": "StyleView",
            "_model_name": "DescriptionStyleModel",
            "description_width": "",
            "_view_module": "@jupyter-widgets/base",
            "_model_module_version": "1.5.0",
            "_view_count": null,
            "_view_module_version": "1.2.0",
            "_model_module": "@jupyter-widgets/controls"
          }
        },
        "8890723613714211bebd0a7f288ec4e6": {
          "model_module": "@jupyter-widgets/base",
          "model_name": "LayoutModel",
          "model_module_version": "1.2.0",
          "state": {
            "_view_name": "LayoutView",
            "grid_template_rows": null,
            "right": null,
            "justify_content": null,
            "_view_module": "@jupyter-widgets/base",
            "overflow": null,
            "_model_module_version": "1.2.0",
            "_view_count": null,
            "flex_flow": null,
            "width": null,
            "min_width": null,
            "border": null,
            "align_items": null,
            "bottom": null,
            "_model_module": "@jupyter-widgets/base",
            "top": null,
            "grid_column": null,
            "overflow_y": null,
            "overflow_x": null,
            "grid_auto_flow": null,
            "grid_area": null,
            "grid_template_columns": null,
            "flex": null,
            "_model_name": "LayoutModel",
            "justify_items": null,
            "grid_row": null,
            "max_height": null,
            "align_content": null,
            "visibility": null,
            "align_self": null,
            "height": null,
            "min_height": null,
            "padding": null,
            "grid_auto_rows": null,
            "grid_gap": null,
            "max_width": null,
            "order": null,
            "_view_module_version": "1.2.0",
            "grid_template_areas": null,
            "object_position": null,
            "object_fit": null,
            "grid_auto_columns": null,
            "margin": null,
            "display": null,
            "left": null
          }
        },
        "6276773683ce41ca9543d873d4cf7aaa": {
          "model_module": "@jupyter-widgets/controls",
          "model_name": "HBoxModel",
          "model_module_version": "1.5.0",
          "state": {
            "_view_name": "HBoxView",
            "_dom_classes": [],
            "_model_name": "HBoxModel",
            "_view_module": "@jupyter-widgets/controls",
            "_model_module_version": "1.5.0",
            "_view_count": null,
            "_view_module_version": "1.5.0",
            "box_style": "",
            "layout": "IPY_MODEL_e65315bda91b4b6981b4572de3eae519",
            "_model_module": "@jupyter-widgets/controls",
            "children": [
              "IPY_MODEL_efe8f3358e8e4d0281badcbd3a2cc2b7",
              "IPY_MODEL_23736d8de85448babef36c4bbfe11d77",
              "IPY_MODEL_93abd674bdb24b54a0cb152579efacfd"
            ]
          }
        },
        "e65315bda91b4b6981b4572de3eae519": {
          "model_module": "@jupyter-widgets/base",
          "model_name": "LayoutModel",
          "model_module_version": "1.2.0",
          "state": {
            "_view_name": "LayoutView",
            "grid_template_rows": null,
            "right": null,
            "justify_content": null,
            "_view_module": "@jupyter-widgets/base",
            "overflow": null,
            "_model_module_version": "1.2.0",
            "_view_count": null,
            "flex_flow": null,
            "width": null,
            "min_width": null,
            "border": null,
            "align_items": null,
            "bottom": null,
            "_model_module": "@jupyter-widgets/base",
            "top": null,
            "grid_column": null,
            "overflow_y": null,
            "overflow_x": null,
            "grid_auto_flow": null,
            "grid_area": null,
            "grid_template_columns": null,
            "flex": null,
            "_model_name": "LayoutModel",
            "justify_items": null,
            "grid_row": null,
            "max_height": null,
            "align_content": null,
            "visibility": null,
            "align_self": null,
            "height": null,
            "min_height": null,
            "padding": null,
            "grid_auto_rows": null,
            "grid_gap": null,
            "max_width": null,
            "order": null,
            "_view_module_version": "1.2.0",
            "grid_template_areas": null,
            "object_position": null,
            "object_fit": null,
            "grid_auto_columns": null,
            "margin": null,
            "display": null,
            "left": null
          }
        },
        "efe8f3358e8e4d0281badcbd3a2cc2b7": {
          "model_module": "@jupyter-widgets/controls",
          "model_name": "HTMLModel",
          "model_module_version": "1.5.0",
          "state": {
            "_view_name": "HTMLView",
            "style": "IPY_MODEL_3c268f4c199f476d884ea5fdfddf5903",
            "_dom_classes": [],
            "description": "",
            "_model_name": "HTMLModel",
            "placeholder": "​",
            "_view_module": "@jupyter-widgets/controls",
            "_model_module_version": "1.5.0",
            "value": "100%",
            "_view_count": null,
            "_view_module_version": "1.5.0",
            "description_tooltip": null,
            "_model_module": "@jupyter-widgets/controls",
            "layout": "IPY_MODEL_293e699d6a49454b953e8c2c57dbbab0"
          }
        },
        "23736d8de85448babef36c4bbfe11d77": {
          "model_module": "@jupyter-widgets/controls",
          "model_name": "FloatProgressModel",
          "model_module_version": "1.5.0",
          "state": {
            "_view_name": "ProgressView",
            "style": "IPY_MODEL_22984d46cf6241b38980c938b3ab0915",
            "_dom_classes": [],
            "description": "",
            "_model_name": "FloatProgressModel",
            "bar_style": "success",
            "max": 14751,
            "_view_module": "@jupyter-widgets/controls",
            "_model_module_version": "1.5.0",
            "value": 14751,
            "_view_count": null,
            "_view_module_version": "1.5.0",
            "orientation": "horizontal",
            "min": 0,
            "description_tooltip": null,
            "_model_module": "@jupyter-widgets/controls",
            "layout": "IPY_MODEL_752883df446842d5b16d47ff1c706545"
          }
        },
        "93abd674bdb24b54a0cb152579efacfd": {
          "model_module": "@jupyter-widgets/controls",
          "model_name": "HTMLModel",
          "model_module_version": "1.5.0",
          "state": {
            "_view_name": "HTMLView",
            "style": "IPY_MODEL_2047bcacc74a4133a86570a176e403b6",
            "_dom_classes": [],
            "description": "",
            "_model_name": "HTMLModel",
            "placeholder": "​",
            "_view_module": "@jupyter-widgets/controls",
            "_model_module_version": "1.5.0",
            "value": " 14751/14751 [02:32&lt;00:00, 105.70it/s]",
            "_view_count": null,
            "_view_module_version": "1.5.0",
            "description_tooltip": null,
            "_model_module": "@jupyter-widgets/controls",
            "layout": "IPY_MODEL_ed72c49283634d1cb30eea7b5a69f668"
          }
        },
        "3c268f4c199f476d884ea5fdfddf5903": {
          "model_module": "@jupyter-widgets/controls",
          "model_name": "DescriptionStyleModel",
          "model_module_version": "1.5.0",
          "state": {
            "_view_name": "StyleView",
            "_model_name": "DescriptionStyleModel",
            "description_width": "",
            "_view_module": "@jupyter-widgets/base",
            "_model_module_version": "1.5.0",
            "_view_count": null,
            "_view_module_version": "1.2.0",
            "_model_module": "@jupyter-widgets/controls"
          }
        },
        "293e699d6a49454b953e8c2c57dbbab0": {
          "model_module": "@jupyter-widgets/base",
          "model_name": "LayoutModel",
          "model_module_version": "1.2.0",
          "state": {
            "_view_name": "LayoutView",
            "grid_template_rows": null,
            "right": null,
            "justify_content": null,
            "_view_module": "@jupyter-widgets/base",
            "overflow": null,
            "_model_module_version": "1.2.0",
            "_view_count": null,
            "flex_flow": null,
            "width": null,
            "min_width": null,
            "border": null,
            "align_items": null,
            "bottom": null,
            "_model_module": "@jupyter-widgets/base",
            "top": null,
            "grid_column": null,
            "overflow_y": null,
            "overflow_x": null,
            "grid_auto_flow": null,
            "grid_area": null,
            "grid_template_columns": null,
            "flex": null,
            "_model_name": "LayoutModel",
            "justify_items": null,
            "grid_row": null,
            "max_height": null,
            "align_content": null,
            "visibility": null,
            "align_self": null,
            "height": null,
            "min_height": null,
            "padding": null,
            "grid_auto_rows": null,
            "grid_gap": null,
            "max_width": null,
            "order": null,
            "_view_module_version": "1.2.0",
            "grid_template_areas": null,
            "object_position": null,
            "object_fit": null,
            "grid_auto_columns": null,
            "margin": null,
            "display": null,
            "left": null
          }
        },
        "22984d46cf6241b38980c938b3ab0915": {
          "model_module": "@jupyter-widgets/controls",
          "model_name": "ProgressStyleModel",
          "model_module_version": "1.5.0",
          "state": {
            "_view_name": "StyleView",
            "_model_name": "ProgressStyleModel",
            "description_width": "",
            "_view_module": "@jupyter-widgets/base",
            "_model_module_version": "1.5.0",
            "_view_count": null,
            "_view_module_version": "1.2.0",
            "bar_color": null,
            "_model_module": "@jupyter-widgets/controls"
          }
        },
        "752883df446842d5b16d47ff1c706545": {
          "model_module": "@jupyter-widgets/base",
          "model_name": "LayoutModel",
          "model_module_version": "1.2.0",
          "state": {
            "_view_name": "LayoutView",
            "grid_template_rows": null,
            "right": null,
            "justify_content": null,
            "_view_module": "@jupyter-widgets/base",
            "overflow": null,
            "_model_module_version": "1.2.0",
            "_view_count": null,
            "flex_flow": null,
            "width": null,
            "min_width": null,
            "border": null,
            "align_items": null,
            "bottom": null,
            "_model_module": "@jupyter-widgets/base",
            "top": null,
            "grid_column": null,
            "overflow_y": null,
            "overflow_x": null,
            "grid_auto_flow": null,
            "grid_area": null,
            "grid_template_columns": null,
            "flex": null,
            "_model_name": "LayoutModel",
            "justify_items": null,
            "grid_row": null,
            "max_height": null,
            "align_content": null,
            "visibility": null,
            "align_self": null,
            "height": null,
            "min_height": null,
            "padding": null,
            "grid_auto_rows": null,
            "grid_gap": null,
            "max_width": null,
            "order": null,
            "_view_module_version": "1.2.0",
            "grid_template_areas": null,
            "object_position": null,
            "object_fit": null,
            "grid_auto_columns": null,
            "margin": null,
            "display": null,
            "left": null
          }
        },
        "2047bcacc74a4133a86570a176e403b6": {
          "model_module": "@jupyter-widgets/controls",
          "model_name": "DescriptionStyleModel",
          "model_module_version": "1.5.0",
          "state": {
            "_view_name": "StyleView",
            "_model_name": "DescriptionStyleModel",
            "description_width": "",
            "_view_module": "@jupyter-widgets/base",
            "_model_module_version": "1.5.0",
            "_view_count": null,
            "_view_module_version": "1.2.0",
            "_model_module": "@jupyter-widgets/controls"
          }
        },
        "ed72c49283634d1cb30eea7b5a69f668": {
          "model_module": "@jupyter-widgets/base",
          "model_name": "LayoutModel",
          "model_module_version": "1.2.0",
          "state": {
            "_view_name": "LayoutView",
            "grid_template_rows": null,
            "right": null,
            "justify_content": null,
            "_view_module": "@jupyter-widgets/base",
            "overflow": null,
            "_model_module_version": "1.2.0",
            "_view_count": null,
            "flex_flow": null,
            "width": null,
            "min_width": null,
            "border": null,
            "align_items": null,
            "bottom": null,
            "_model_module": "@jupyter-widgets/base",
            "top": null,
            "grid_column": null,
            "overflow_y": null,
            "overflow_x": null,
            "grid_auto_flow": null,
            "grid_area": null,
            "grid_template_columns": null,
            "flex": null,
            "_model_name": "LayoutModel",
            "justify_items": null,
            "grid_row": null,
            "max_height": null,
            "align_content": null,
            "visibility": null,
            "align_self": null,
            "height": null,
            "min_height": null,
            "padding": null,
            "grid_auto_rows": null,
            "grid_gap": null,
            "max_width": null,
            "order": null,
            "_view_module_version": "1.2.0",
            "grid_template_areas": null,
            "object_position": null,
            "object_fit": null,
            "grid_auto_columns": null,
            "margin": null,
            "display": null,
            "left": null
          }
        },
        "2099f158066e49e2872e6a253fe7fc8e": {
          "model_module": "@jupyter-widgets/controls",
          "model_name": "HBoxModel",
          "model_module_version": "1.5.0",
          "state": {
            "_view_name": "HBoxView",
            "_dom_classes": [],
            "_model_name": "HBoxModel",
            "_view_module": "@jupyter-widgets/controls",
            "_model_module_version": "1.5.0",
            "_view_count": null,
            "_view_module_version": "1.5.0",
            "box_style": "",
            "layout": "IPY_MODEL_a0d544a64e434175954e4c7d326f0fa2",
            "_model_module": "@jupyter-widgets/controls",
            "children": [
              "IPY_MODEL_a9a0a263ff2c4d69846f30c9bb48b6ca",
              "IPY_MODEL_84866a055ad84389a4616339d0658830",
              "IPY_MODEL_447dfecf9b234ac4bbc3f9f3ff15cb8e"
            ]
          }
        },
        "a0d544a64e434175954e4c7d326f0fa2": {
          "model_module": "@jupyter-widgets/base",
          "model_name": "LayoutModel",
          "model_module_version": "1.2.0",
          "state": {
            "_view_name": "LayoutView",
            "grid_template_rows": null,
            "right": null,
            "justify_content": null,
            "_view_module": "@jupyter-widgets/base",
            "overflow": null,
            "_model_module_version": "1.2.0",
            "_view_count": null,
            "flex_flow": null,
            "width": null,
            "min_width": null,
            "border": null,
            "align_items": null,
            "bottom": null,
            "_model_module": "@jupyter-widgets/base",
            "top": null,
            "grid_column": null,
            "overflow_y": null,
            "overflow_x": null,
            "grid_auto_flow": null,
            "grid_area": null,
            "grid_template_columns": null,
            "flex": null,
            "_model_name": "LayoutModel",
            "justify_items": null,
            "grid_row": null,
            "max_height": null,
            "align_content": null,
            "visibility": null,
            "align_self": null,
            "height": null,
            "min_height": null,
            "padding": null,
            "grid_auto_rows": null,
            "grid_gap": null,
            "max_width": null,
            "order": null,
            "_view_module_version": "1.2.0",
            "grid_template_areas": null,
            "object_position": null,
            "object_fit": null,
            "grid_auto_columns": null,
            "margin": null,
            "display": null,
            "left": null
          }
        },
        "a9a0a263ff2c4d69846f30c9bb48b6ca": {
          "model_module": "@jupyter-widgets/controls",
          "model_name": "HTMLModel",
          "model_module_version": "1.5.0",
          "state": {
            "_view_name": "HTMLView",
            "style": "IPY_MODEL_7a67bdd43013485583be1208e7f0afb5",
            "_dom_classes": [],
            "description": "",
            "_model_name": "HTMLModel",
            "placeholder": "​",
            "_view_module": "@jupyter-widgets/controls",
            "_model_module_version": "1.5.0",
            "value": "100%",
            "_view_count": null,
            "_view_module_version": "1.5.0",
            "description_tooltip": null,
            "_model_module": "@jupyter-widgets/controls",
            "layout": "IPY_MODEL_0f739656b8484833b4bbcbfd8ef5e9e5"
          }
        },
        "84866a055ad84389a4616339d0658830": {
          "model_module": "@jupyter-widgets/controls",
          "model_name": "FloatProgressModel",
          "model_module_version": "1.5.0",
          "state": {
            "_view_name": "ProgressView",
            "style": "IPY_MODEL_36478a53be934ac790743c1e49302a46",
            "_dom_classes": [],
            "description": "",
            "_model_name": "FloatProgressModel",
            "bar_style": "success",
            "max": 14751,
            "_view_module": "@jupyter-widgets/controls",
            "_model_module_version": "1.5.0",
            "value": 14751,
            "_view_count": null,
            "_view_module_version": "1.5.0",
            "orientation": "horizontal",
            "min": 0,
            "description_tooltip": null,
            "_model_module": "@jupyter-widgets/controls",
            "layout": "IPY_MODEL_1fc9f48cd1044ca393774170c16c087e"
          }
        },
        "447dfecf9b234ac4bbc3f9f3ff15cb8e": {
          "model_module": "@jupyter-widgets/controls",
          "model_name": "HTMLModel",
          "model_module_version": "1.5.0",
          "state": {
            "_view_name": "HTMLView",
            "style": "IPY_MODEL_be58b0ade6c849d39fca74f59fb4bc80",
            "_dom_classes": [],
            "description": "",
            "_model_name": "HTMLModel",
            "placeholder": "​",
            "_view_module": "@jupyter-widgets/controls",
            "_model_module_version": "1.5.0",
            "value": " 14751/14751 [01:08&lt;00:00, 223.59it/s]",
            "_view_count": null,
            "_view_module_version": "1.5.0",
            "description_tooltip": null,
            "_model_module": "@jupyter-widgets/controls",
            "layout": "IPY_MODEL_2a5422dcbf0a4c6bbb1878d4d74354c1"
          }
        },
        "7a67bdd43013485583be1208e7f0afb5": {
          "model_module": "@jupyter-widgets/controls",
          "model_name": "DescriptionStyleModel",
          "model_module_version": "1.5.0",
          "state": {
            "_view_name": "StyleView",
            "_model_name": "DescriptionStyleModel",
            "description_width": "",
            "_view_module": "@jupyter-widgets/base",
            "_model_module_version": "1.5.0",
            "_view_count": null,
            "_view_module_version": "1.2.0",
            "_model_module": "@jupyter-widgets/controls"
          }
        },
        "0f739656b8484833b4bbcbfd8ef5e9e5": {
          "model_module": "@jupyter-widgets/base",
          "model_name": "LayoutModel",
          "model_module_version": "1.2.0",
          "state": {
            "_view_name": "LayoutView",
            "grid_template_rows": null,
            "right": null,
            "justify_content": null,
            "_view_module": "@jupyter-widgets/base",
            "overflow": null,
            "_model_module_version": "1.2.0",
            "_view_count": null,
            "flex_flow": null,
            "width": null,
            "min_width": null,
            "border": null,
            "align_items": null,
            "bottom": null,
            "_model_module": "@jupyter-widgets/base",
            "top": null,
            "grid_column": null,
            "overflow_y": null,
            "overflow_x": null,
            "grid_auto_flow": null,
            "grid_area": null,
            "grid_template_columns": null,
            "flex": null,
            "_model_name": "LayoutModel",
            "justify_items": null,
            "grid_row": null,
            "max_height": null,
            "align_content": null,
            "visibility": null,
            "align_self": null,
            "height": null,
            "min_height": null,
            "padding": null,
            "grid_auto_rows": null,
            "grid_gap": null,
            "max_width": null,
            "order": null,
            "_view_module_version": "1.2.0",
            "grid_template_areas": null,
            "object_position": null,
            "object_fit": null,
            "grid_auto_columns": null,
            "margin": null,
            "display": null,
            "left": null
          }
        },
        "36478a53be934ac790743c1e49302a46": {
          "model_module": "@jupyter-widgets/controls",
          "model_name": "ProgressStyleModel",
          "model_module_version": "1.5.0",
          "state": {
            "_view_name": "StyleView",
            "_model_name": "ProgressStyleModel",
            "description_width": "",
            "_view_module": "@jupyter-widgets/base",
            "_model_module_version": "1.5.0",
            "_view_count": null,
            "_view_module_version": "1.2.0",
            "bar_color": null,
            "_model_module": "@jupyter-widgets/controls"
          }
        },
        "1fc9f48cd1044ca393774170c16c087e": {
          "model_module": "@jupyter-widgets/base",
          "model_name": "LayoutModel",
          "model_module_version": "1.2.0",
          "state": {
            "_view_name": "LayoutView",
            "grid_template_rows": null,
            "right": null,
            "justify_content": null,
            "_view_module": "@jupyter-widgets/base",
            "overflow": null,
            "_model_module_version": "1.2.0",
            "_view_count": null,
            "flex_flow": null,
            "width": null,
            "min_width": null,
            "border": null,
            "align_items": null,
            "bottom": null,
            "_model_module": "@jupyter-widgets/base",
            "top": null,
            "grid_column": null,
            "overflow_y": null,
            "overflow_x": null,
            "grid_auto_flow": null,
            "grid_area": null,
            "grid_template_columns": null,
            "flex": null,
            "_model_name": "LayoutModel",
            "justify_items": null,
            "grid_row": null,
            "max_height": null,
            "align_content": null,
            "visibility": null,
            "align_self": null,
            "height": null,
            "min_height": null,
            "padding": null,
            "grid_auto_rows": null,
            "grid_gap": null,
            "max_width": null,
            "order": null,
            "_view_module_version": "1.2.0",
            "grid_template_areas": null,
            "object_position": null,
            "object_fit": null,
            "grid_auto_columns": null,
            "margin": null,
            "display": null,
            "left": null
          }
        },
        "be58b0ade6c849d39fca74f59fb4bc80": {
          "model_module": "@jupyter-widgets/controls",
          "model_name": "DescriptionStyleModel",
          "model_module_version": "1.5.0",
          "state": {
            "_view_name": "StyleView",
            "_model_name": "DescriptionStyleModel",
            "description_width": "",
            "_view_module": "@jupyter-widgets/base",
            "_model_module_version": "1.5.0",
            "_view_count": null,
            "_view_module_version": "1.2.0",
            "_model_module": "@jupyter-widgets/controls"
          }
        },
        "2a5422dcbf0a4c6bbb1878d4d74354c1": {
          "model_module": "@jupyter-widgets/base",
          "model_name": "LayoutModel",
          "model_module_version": "1.2.0",
          "state": {
            "_view_name": "LayoutView",
            "grid_template_rows": null,
            "right": null,
            "justify_content": null,
            "_view_module": "@jupyter-widgets/base",
            "overflow": null,
            "_model_module_version": "1.2.0",
            "_view_count": null,
            "flex_flow": null,
            "width": null,
            "min_width": null,
            "border": null,
            "align_items": null,
            "bottom": null,
            "_model_module": "@jupyter-widgets/base",
            "top": null,
            "grid_column": null,
            "overflow_y": null,
            "overflow_x": null,
            "grid_auto_flow": null,
            "grid_area": null,
            "grid_template_columns": null,
            "flex": null,
            "_model_name": "LayoutModel",
            "justify_items": null,
            "grid_row": null,
            "max_height": null,
            "align_content": null,
            "visibility": null,
            "align_self": null,
            "height": null,
            "min_height": null,
            "padding": null,
            "grid_auto_rows": null,
            "grid_gap": null,
            "max_width": null,
            "order": null,
            "_view_module_version": "1.2.0",
            "grid_template_areas": null,
            "object_position": null,
            "object_fit": null,
            "grid_auto_columns": null,
            "margin": null,
            "display": null,
            "left": null
          }
        },
        "8d84fd12f1e64978856d6386d7ed71f5": {
          "model_module": "@jupyter-widgets/controls",
          "model_name": "HBoxModel",
          "model_module_version": "1.5.0",
          "state": {
            "_view_name": "HBoxView",
            "_dom_classes": [],
            "_model_name": "HBoxModel",
            "_view_module": "@jupyter-widgets/controls",
            "_model_module_version": "1.5.0",
            "_view_count": null,
            "_view_module_version": "1.5.0",
            "box_style": "",
            "layout": "IPY_MODEL_38949351d62d4627954a017d6dbb74f6",
            "_model_module": "@jupyter-widgets/controls",
            "children": [
              "IPY_MODEL_b29441bfac8f47dcac3653fa41b32a5d",
              "IPY_MODEL_8b3a028f8f164f3f8349dafd8f430eca",
              "IPY_MODEL_041369b39a5f4751938ece142aea38fc"
            ]
          }
        },
        "38949351d62d4627954a017d6dbb74f6": {
          "model_module": "@jupyter-widgets/base",
          "model_name": "LayoutModel",
          "model_module_version": "1.2.0",
          "state": {
            "_view_name": "LayoutView",
            "grid_template_rows": null,
            "right": null,
            "justify_content": null,
            "_view_module": "@jupyter-widgets/base",
            "overflow": null,
            "_model_module_version": "1.2.0",
            "_view_count": null,
            "flex_flow": null,
            "width": null,
            "min_width": null,
            "border": null,
            "align_items": null,
            "bottom": null,
            "_model_module": "@jupyter-widgets/base",
            "top": null,
            "grid_column": null,
            "overflow_y": null,
            "overflow_x": null,
            "grid_auto_flow": null,
            "grid_area": null,
            "grid_template_columns": null,
            "flex": null,
            "_model_name": "LayoutModel",
            "justify_items": null,
            "grid_row": null,
            "max_height": null,
            "align_content": null,
            "visibility": null,
            "align_self": null,
            "height": null,
            "min_height": null,
            "padding": null,
            "grid_auto_rows": null,
            "grid_gap": null,
            "max_width": null,
            "order": null,
            "_view_module_version": "1.2.0",
            "grid_template_areas": null,
            "object_position": null,
            "object_fit": null,
            "grid_auto_columns": null,
            "margin": null,
            "display": null,
            "left": null
          }
        },
        "b29441bfac8f47dcac3653fa41b32a5d": {
          "model_module": "@jupyter-widgets/controls",
          "model_name": "HTMLModel",
          "model_module_version": "1.5.0",
          "state": {
            "_view_name": "HTMLView",
            "style": "IPY_MODEL_ccd7acccbf8c448fb5bf09cdee909022",
            "_dom_classes": [],
            "description": "",
            "_model_name": "HTMLModel",
            "placeholder": "​",
            "_view_module": "@jupyter-widgets/controls",
            "_model_module_version": "1.5.0",
            "value": "100%",
            "_view_count": null,
            "_view_module_version": "1.5.0",
            "description_tooltip": null,
            "_model_module": "@jupyter-widgets/controls",
            "layout": "IPY_MODEL_5b4acebd57df4e7cb6aef616e7b3a13c"
          }
        },
        "8b3a028f8f164f3f8349dafd8f430eca": {
          "model_module": "@jupyter-widgets/controls",
          "model_name": "FloatProgressModel",
          "model_module_version": "1.5.0",
          "state": {
            "_view_name": "ProgressView",
            "style": "IPY_MODEL_cb33f8a9d3744d9799060ea2104e2ed2",
            "_dom_classes": [],
            "description": "",
            "_model_name": "FloatProgressModel",
            "bar_style": "success",
            "max": 3,
            "_view_module": "@jupyter-widgets/controls",
            "_model_module_version": "1.5.0",
            "value": 3,
            "_view_count": null,
            "_view_module_version": "1.5.0",
            "orientation": "horizontal",
            "min": 0,
            "description_tooltip": null,
            "_model_module": "@jupyter-widgets/controls",
            "layout": "IPY_MODEL_37bdbf620b974fd38d752d83778bc2ff"
          }
        },
        "041369b39a5f4751938ece142aea38fc": {
          "model_module": "@jupyter-widgets/controls",
          "model_name": "HTMLModel",
          "model_module_version": "1.5.0",
          "state": {
            "_view_name": "HTMLView",
            "style": "IPY_MODEL_2e4a223396344f4f88877ba545f7c24e",
            "_dom_classes": [],
            "description": "",
            "_model_name": "HTMLModel",
            "placeholder": "​",
            "_view_module": "@jupyter-widgets/controls",
            "_model_module_version": "1.5.0",
            "value": " 3/3 [06:23&lt;00:00, 116.74s/it]",
            "_view_count": null,
            "_view_module_version": "1.5.0",
            "description_tooltip": null,
            "_model_module": "@jupyter-widgets/controls",
            "layout": "IPY_MODEL_a6790cd090e0428382b71a5045d6c7ea"
          }
        },
        "ccd7acccbf8c448fb5bf09cdee909022": {
          "model_module": "@jupyter-widgets/controls",
          "model_name": "DescriptionStyleModel",
          "model_module_version": "1.5.0",
          "state": {
            "_view_name": "StyleView",
            "_model_name": "DescriptionStyleModel",
            "description_width": "",
            "_view_module": "@jupyter-widgets/base",
            "_model_module_version": "1.5.0",
            "_view_count": null,
            "_view_module_version": "1.2.0",
            "_model_module": "@jupyter-widgets/controls"
          }
        },
        "5b4acebd57df4e7cb6aef616e7b3a13c": {
          "model_module": "@jupyter-widgets/base",
          "model_name": "LayoutModel",
          "model_module_version": "1.2.0",
          "state": {
            "_view_name": "LayoutView",
            "grid_template_rows": null,
            "right": null,
            "justify_content": null,
            "_view_module": "@jupyter-widgets/base",
            "overflow": null,
            "_model_module_version": "1.2.0",
            "_view_count": null,
            "flex_flow": null,
            "width": null,
            "min_width": null,
            "border": null,
            "align_items": null,
            "bottom": null,
            "_model_module": "@jupyter-widgets/base",
            "top": null,
            "grid_column": null,
            "overflow_y": null,
            "overflow_x": null,
            "grid_auto_flow": null,
            "grid_area": null,
            "grid_template_columns": null,
            "flex": null,
            "_model_name": "LayoutModel",
            "justify_items": null,
            "grid_row": null,
            "max_height": null,
            "align_content": null,
            "visibility": null,
            "align_self": null,
            "height": null,
            "min_height": null,
            "padding": null,
            "grid_auto_rows": null,
            "grid_gap": null,
            "max_width": null,
            "order": null,
            "_view_module_version": "1.2.0",
            "grid_template_areas": null,
            "object_position": null,
            "object_fit": null,
            "grid_auto_columns": null,
            "margin": null,
            "display": null,
            "left": null
          }
        },
        "cb33f8a9d3744d9799060ea2104e2ed2": {
          "model_module": "@jupyter-widgets/controls",
          "model_name": "ProgressStyleModel",
          "model_module_version": "1.5.0",
          "state": {
            "_view_name": "StyleView",
            "_model_name": "ProgressStyleModel",
            "description_width": "",
            "_view_module": "@jupyter-widgets/base",
            "_model_module_version": "1.5.0",
            "_view_count": null,
            "_view_module_version": "1.2.0",
            "bar_color": null,
            "_model_module": "@jupyter-widgets/controls"
          }
        },
        "37bdbf620b974fd38d752d83778bc2ff": {
          "model_module": "@jupyter-widgets/base",
          "model_name": "LayoutModel",
          "model_module_version": "1.2.0",
          "state": {
            "_view_name": "LayoutView",
            "grid_template_rows": null,
            "right": null,
            "justify_content": null,
            "_view_module": "@jupyter-widgets/base",
            "overflow": null,
            "_model_module_version": "1.2.0",
            "_view_count": null,
            "flex_flow": null,
            "width": null,
            "min_width": null,
            "border": null,
            "align_items": null,
            "bottom": null,
            "_model_module": "@jupyter-widgets/base",
            "top": null,
            "grid_column": null,
            "overflow_y": null,
            "overflow_x": null,
            "grid_auto_flow": null,
            "grid_area": null,
            "grid_template_columns": null,
            "flex": null,
            "_model_name": "LayoutModel",
            "justify_items": null,
            "grid_row": null,
            "max_height": null,
            "align_content": null,
            "visibility": null,
            "align_self": null,
            "height": null,
            "min_height": null,
            "padding": null,
            "grid_auto_rows": null,
            "grid_gap": null,
            "max_width": null,
            "order": null,
            "_view_module_version": "1.2.0",
            "grid_template_areas": null,
            "object_position": null,
            "object_fit": null,
            "grid_auto_columns": null,
            "margin": null,
            "display": null,
            "left": null
          }
        },
        "2e4a223396344f4f88877ba545f7c24e": {
          "model_module": "@jupyter-widgets/controls",
          "model_name": "DescriptionStyleModel",
          "model_module_version": "1.5.0",
          "state": {
            "_view_name": "StyleView",
            "_model_name": "DescriptionStyleModel",
            "description_width": "",
            "_view_module": "@jupyter-widgets/base",
            "_model_module_version": "1.5.0",
            "_view_count": null,
            "_view_module_version": "1.2.0",
            "_model_module": "@jupyter-widgets/controls"
          }
        },
        "a6790cd090e0428382b71a5045d6c7ea": {
          "model_module": "@jupyter-widgets/base",
          "model_name": "LayoutModel",
          "model_module_version": "1.2.0",
          "state": {
            "_view_name": "LayoutView",
            "grid_template_rows": null,
            "right": null,
            "justify_content": null,
            "_view_module": "@jupyter-widgets/base",
            "overflow": null,
            "_model_module_version": "1.2.0",
            "_view_count": null,
            "flex_flow": null,
            "width": null,
            "min_width": null,
            "border": null,
            "align_items": null,
            "bottom": null,
            "_model_module": "@jupyter-widgets/base",
            "top": null,
            "grid_column": null,
            "overflow_y": null,
            "overflow_x": null,
            "grid_auto_flow": null,
            "grid_area": null,
            "grid_template_columns": null,
            "flex": null,
            "_model_name": "LayoutModel",
            "justify_items": null,
            "grid_row": null,
            "max_height": null,
            "align_content": null,
            "visibility": null,
            "align_self": null,
            "height": null,
            "min_height": null,
            "padding": null,
            "grid_auto_rows": null,
            "grid_gap": null,
            "max_width": null,
            "order": null,
            "_view_module_version": "1.2.0",
            "grid_template_areas": null,
            "object_position": null,
            "object_fit": null,
            "grid_auto_columns": null,
            "margin": null,
            "display": null,
            "left": null
          }
        },
        "af7892939eab4ab6ab1606ea7a4b22f4": {
          "model_module": "@jupyter-widgets/controls",
          "model_name": "HBoxModel",
          "model_module_version": "1.5.0",
          "state": {
            "_view_name": "HBoxView",
            "_dom_classes": [],
            "_model_name": "HBoxModel",
            "_view_module": "@jupyter-widgets/controls",
            "_model_module_version": "1.5.0",
            "_view_count": null,
            "_view_module_version": "1.5.0",
            "box_style": "",
            "layout": "IPY_MODEL_e44934f7014d4caca6bae9bbb91ee9c1",
            "_model_module": "@jupyter-widgets/controls",
            "children": [
              "IPY_MODEL_a127f1740dac4001b09e6a3ed93d20f3",
              "IPY_MODEL_1fd132fbd6784adc8125579dc2756666",
              "IPY_MODEL_ef948bb0d2e243778dd922a2b07e6fc4"
            ]
          }
        },
        "e44934f7014d4caca6bae9bbb91ee9c1": {
          "model_module": "@jupyter-widgets/base",
          "model_name": "LayoutModel",
          "model_module_version": "1.2.0",
          "state": {
            "_view_name": "LayoutView",
            "grid_template_rows": null,
            "right": null,
            "justify_content": null,
            "_view_module": "@jupyter-widgets/base",
            "overflow": null,
            "_model_module_version": "1.2.0",
            "_view_count": null,
            "flex_flow": null,
            "width": null,
            "min_width": null,
            "border": null,
            "align_items": null,
            "bottom": null,
            "_model_module": "@jupyter-widgets/base",
            "top": null,
            "grid_column": null,
            "overflow_y": null,
            "overflow_x": null,
            "grid_auto_flow": null,
            "grid_area": null,
            "grid_template_columns": null,
            "flex": null,
            "_model_name": "LayoutModel",
            "justify_items": null,
            "grid_row": null,
            "max_height": null,
            "align_content": null,
            "visibility": null,
            "align_self": null,
            "height": null,
            "min_height": null,
            "padding": null,
            "grid_auto_rows": null,
            "grid_gap": null,
            "max_width": null,
            "order": null,
            "_view_module_version": "1.2.0",
            "grid_template_areas": null,
            "object_position": null,
            "object_fit": null,
            "grid_auto_columns": null,
            "margin": null,
            "display": null,
            "left": null
          }
        },
        "a127f1740dac4001b09e6a3ed93d20f3": {
          "model_module": "@jupyter-widgets/controls",
          "model_name": "HTMLModel",
          "model_module_version": "1.5.0",
          "state": {
            "_view_name": "HTMLView",
            "style": "IPY_MODEL_d3ea533886d24d41a833afd5c668fdea",
            "_dom_classes": [],
            "description": "",
            "_model_name": "HTMLModel",
            "placeholder": "​",
            "_view_module": "@jupyter-widgets/controls",
            "_model_module_version": "1.5.0",
            "value": "100%",
            "_view_count": null,
            "_view_module_version": "1.5.0",
            "description_tooltip": null,
            "_model_module": "@jupyter-widgets/controls",
            "layout": "IPY_MODEL_e967e7b88b274b479eabff3d6ae3a2dd"
          }
        },
        "1fd132fbd6784adc8125579dc2756666": {
          "model_module": "@jupyter-widgets/controls",
          "model_name": "FloatProgressModel",
          "model_module_version": "1.5.0",
          "state": {
            "_view_name": "ProgressView",
            "style": "IPY_MODEL_9e5a4c05380d4a059f40e172cdd322d5",
            "_dom_classes": [],
            "description": "",
            "_model_name": "FloatProgressModel",
            "bar_style": "success",
            "max": 14751,
            "_view_module": "@jupyter-widgets/controls",
            "_model_module_version": "1.5.0",
            "value": 14751,
            "_view_count": null,
            "_view_module_version": "1.5.0",
            "orientation": "horizontal",
            "min": 0,
            "description_tooltip": null,
            "_model_module": "@jupyter-widgets/controls",
            "layout": "IPY_MODEL_8fb2b3de35da4c678d98e95c6fe27e7d"
          }
        },
        "ef948bb0d2e243778dd922a2b07e6fc4": {
          "model_module": "@jupyter-widgets/controls",
          "model_name": "HTMLModel",
          "model_module_version": "1.5.0",
          "state": {
            "_view_name": "HTMLView",
            "style": "IPY_MODEL_f418bc66f5d04ab9b3f17d0b8b076181",
            "_dom_classes": [],
            "description": "",
            "_model_name": "HTMLModel",
            "placeholder": "​",
            "_view_module": "@jupyter-widgets/controls",
            "_model_module_version": "1.5.0",
            "value": " 14751/14751 [02:42&lt;00:00, 93.22it/s]",
            "_view_count": null,
            "_view_module_version": "1.5.0",
            "description_tooltip": null,
            "_model_module": "@jupyter-widgets/controls",
            "layout": "IPY_MODEL_7dd2ed38de2c40ea8dc9e5d002e46c8d"
          }
        },
        "d3ea533886d24d41a833afd5c668fdea": {
          "model_module": "@jupyter-widgets/controls",
          "model_name": "DescriptionStyleModel",
          "model_module_version": "1.5.0",
          "state": {
            "_view_name": "StyleView",
            "_model_name": "DescriptionStyleModel",
            "description_width": "",
            "_view_module": "@jupyter-widgets/base",
            "_model_module_version": "1.5.0",
            "_view_count": null,
            "_view_module_version": "1.2.0",
            "_model_module": "@jupyter-widgets/controls"
          }
        },
        "e967e7b88b274b479eabff3d6ae3a2dd": {
          "model_module": "@jupyter-widgets/base",
          "model_name": "LayoutModel",
          "model_module_version": "1.2.0",
          "state": {
            "_view_name": "LayoutView",
            "grid_template_rows": null,
            "right": null,
            "justify_content": null,
            "_view_module": "@jupyter-widgets/base",
            "overflow": null,
            "_model_module_version": "1.2.0",
            "_view_count": null,
            "flex_flow": null,
            "width": null,
            "min_width": null,
            "border": null,
            "align_items": null,
            "bottom": null,
            "_model_module": "@jupyter-widgets/base",
            "top": null,
            "grid_column": null,
            "overflow_y": null,
            "overflow_x": null,
            "grid_auto_flow": null,
            "grid_area": null,
            "grid_template_columns": null,
            "flex": null,
            "_model_name": "LayoutModel",
            "justify_items": null,
            "grid_row": null,
            "max_height": null,
            "align_content": null,
            "visibility": null,
            "align_self": null,
            "height": null,
            "min_height": null,
            "padding": null,
            "grid_auto_rows": null,
            "grid_gap": null,
            "max_width": null,
            "order": null,
            "_view_module_version": "1.2.0",
            "grid_template_areas": null,
            "object_position": null,
            "object_fit": null,
            "grid_auto_columns": null,
            "margin": null,
            "display": null,
            "left": null
          }
        },
        "9e5a4c05380d4a059f40e172cdd322d5": {
          "model_module": "@jupyter-widgets/controls",
          "model_name": "ProgressStyleModel",
          "model_module_version": "1.5.0",
          "state": {
            "_view_name": "StyleView",
            "_model_name": "ProgressStyleModel",
            "description_width": "",
            "_view_module": "@jupyter-widgets/base",
            "_model_module_version": "1.5.0",
            "_view_count": null,
            "_view_module_version": "1.2.0",
            "bar_color": null,
            "_model_module": "@jupyter-widgets/controls"
          }
        },
        "8fb2b3de35da4c678d98e95c6fe27e7d": {
          "model_module": "@jupyter-widgets/base",
          "model_name": "LayoutModel",
          "model_module_version": "1.2.0",
          "state": {
            "_view_name": "LayoutView",
            "grid_template_rows": null,
            "right": null,
            "justify_content": null,
            "_view_module": "@jupyter-widgets/base",
            "overflow": null,
            "_model_module_version": "1.2.0",
            "_view_count": null,
            "flex_flow": null,
            "width": null,
            "min_width": null,
            "border": null,
            "align_items": null,
            "bottom": null,
            "_model_module": "@jupyter-widgets/base",
            "top": null,
            "grid_column": null,
            "overflow_y": null,
            "overflow_x": null,
            "grid_auto_flow": null,
            "grid_area": null,
            "grid_template_columns": null,
            "flex": null,
            "_model_name": "LayoutModel",
            "justify_items": null,
            "grid_row": null,
            "max_height": null,
            "align_content": null,
            "visibility": null,
            "align_self": null,
            "height": null,
            "min_height": null,
            "padding": null,
            "grid_auto_rows": null,
            "grid_gap": null,
            "max_width": null,
            "order": null,
            "_view_module_version": "1.2.0",
            "grid_template_areas": null,
            "object_position": null,
            "object_fit": null,
            "grid_auto_columns": null,
            "margin": null,
            "display": null,
            "left": null
          }
        },
        "f418bc66f5d04ab9b3f17d0b8b076181": {
          "model_module": "@jupyter-widgets/controls",
          "model_name": "DescriptionStyleModel",
          "model_module_version": "1.5.0",
          "state": {
            "_view_name": "StyleView",
            "_model_name": "DescriptionStyleModel",
            "description_width": "",
            "_view_module": "@jupyter-widgets/base",
            "_model_module_version": "1.5.0",
            "_view_count": null,
            "_view_module_version": "1.2.0",
            "_model_module": "@jupyter-widgets/controls"
          }
        },
        "7dd2ed38de2c40ea8dc9e5d002e46c8d": {
          "model_module": "@jupyter-widgets/base",
          "model_name": "LayoutModel",
          "model_module_version": "1.2.0",
          "state": {
            "_view_name": "LayoutView",
            "grid_template_rows": null,
            "right": null,
            "justify_content": null,
            "_view_module": "@jupyter-widgets/base",
            "overflow": null,
            "_model_module_version": "1.2.0",
            "_view_count": null,
            "flex_flow": null,
            "width": null,
            "min_width": null,
            "border": null,
            "align_items": null,
            "bottom": null,
            "_model_module": "@jupyter-widgets/base",
            "top": null,
            "grid_column": null,
            "overflow_y": null,
            "overflow_x": null,
            "grid_auto_flow": null,
            "grid_area": null,
            "grid_template_columns": null,
            "flex": null,
            "_model_name": "LayoutModel",
            "justify_items": null,
            "grid_row": null,
            "max_height": null,
            "align_content": null,
            "visibility": null,
            "align_self": null,
            "height": null,
            "min_height": null,
            "padding": null,
            "grid_auto_rows": null,
            "grid_gap": null,
            "max_width": null,
            "order": null,
            "_view_module_version": "1.2.0",
            "grid_template_areas": null,
            "object_position": null,
            "object_fit": null,
            "grid_auto_columns": null,
            "margin": null,
            "display": null,
            "left": null
          }
        },
        "b812e9fde84348138a77dc3a1d88cf17": {
          "model_module": "@jupyter-widgets/controls",
          "model_name": "HBoxModel",
          "model_module_version": "1.5.0",
          "state": {
            "_view_name": "HBoxView",
            "_dom_classes": [],
            "_model_name": "HBoxModel",
            "_view_module": "@jupyter-widgets/controls",
            "_model_module_version": "1.5.0",
            "_view_count": null,
            "_view_module_version": "1.5.0",
            "box_style": "",
            "layout": "IPY_MODEL_6cfb370c97ac440ba225d1196fa2c916",
            "_model_module": "@jupyter-widgets/controls",
            "children": [
              "IPY_MODEL_b43c98209bf74655832fc307c84f4cb9",
              "IPY_MODEL_5d9106328f414eb79aaf9987d6aa4957",
              "IPY_MODEL_8c02a3db046c4c3d83b360775c154a34"
            ]
          }
        },
        "6cfb370c97ac440ba225d1196fa2c916": {
          "model_module": "@jupyter-widgets/base",
          "model_name": "LayoutModel",
          "model_module_version": "1.2.0",
          "state": {
            "_view_name": "LayoutView",
            "grid_template_rows": null,
            "right": null,
            "justify_content": null,
            "_view_module": "@jupyter-widgets/base",
            "overflow": null,
            "_model_module_version": "1.2.0",
            "_view_count": null,
            "flex_flow": null,
            "width": null,
            "min_width": null,
            "border": null,
            "align_items": null,
            "bottom": null,
            "_model_module": "@jupyter-widgets/base",
            "top": null,
            "grid_column": null,
            "overflow_y": null,
            "overflow_x": null,
            "grid_auto_flow": null,
            "grid_area": null,
            "grid_template_columns": null,
            "flex": null,
            "_model_name": "LayoutModel",
            "justify_items": null,
            "grid_row": null,
            "max_height": null,
            "align_content": null,
            "visibility": null,
            "align_self": null,
            "height": null,
            "min_height": null,
            "padding": null,
            "grid_auto_rows": null,
            "grid_gap": null,
            "max_width": null,
            "order": null,
            "_view_module_version": "1.2.0",
            "grid_template_areas": null,
            "object_position": null,
            "object_fit": null,
            "grid_auto_columns": null,
            "margin": null,
            "display": null,
            "left": null
          }
        },
        "b43c98209bf74655832fc307c84f4cb9": {
          "model_module": "@jupyter-widgets/controls",
          "model_name": "HTMLModel",
          "model_module_version": "1.5.0",
          "state": {
            "_view_name": "HTMLView",
            "style": "IPY_MODEL_80f8a485b0174613ba45fe8ab87992fb",
            "_dom_classes": [],
            "description": "",
            "_model_name": "HTMLModel",
            "placeholder": "​",
            "_view_module": "@jupyter-widgets/controls",
            "_model_module_version": "1.5.0",
            "value": "100%",
            "_view_count": null,
            "_view_module_version": "1.5.0",
            "description_tooltip": null,
            "_model_module": "@jupyter-widgets/controls",
            "layout": "IPY_MODEL_376eef5d6ce147658cb74b69ae569414"
          }
        },
        "5d9106328f414eb79aaf9987d6aa4957": {
          "model_module": "@jupyter-widgets/controls",
          "model_name": "FloatProgressModel",
          "model_module_version": "1.5.0",
          "state": {
            "_view_name": "ProgressView",
            "style": "IPY_MODEL_7c8fa6d74f4643d7bbfd6715c15be55d",
            "_dom_classes": [],
            "description": "",
            "_model_name": "FloatProgressModel",
            "bar_style": "success",
            "max": 14751,
            "_view_module": "@jupyter-widgets/controls",
            "_model_module_version": "1.5.0",
            "value": 14751,
            "_view_count": null,
            "_view_module_version": "1.5.0",
            "orientation": "horizontal",
            "min": 0,
            "description_tooltip": null,
            "_model_module": "@jupyter-widgets/controls",
            "layout": "IPY_MODEL_942c58a467bb489a9f87da8e47420e8a"
          }
        },
        "8c02a3db046c4c3d83b360775c154a34": {
          "model_module": "@jupyter-widgets/controls",
          "model_name": "HTMLModel",
          "model_module_version": "1.5.0",
          "state": {
            "_view_name": "HTMLView",
            "style": "IPY_MODEL_aebaf9a429644b1a84cb21e8a92fc1f9",
            "_dom_classes": [],
            "description": "",
            "_model_name": "HTMLModel",
            "placeholder": "​",
            "_view_module": "@jupyter-widgets/controls",
            "_model_module_version": "1.5.0",
            "value": " 14751/14751 [02:26&lt;00:00, 107.84it/s]",
            "_view_count": null,
            "_view_module_version": "1.5.0",
            "description_tooltip": null,
            "_model_module": "@jupyter-widgets/controls",
            "layout": "IPY_MODEL_3677387cc6ba4063a011b5d8f92d098d"
          }
        },
        "80f8a485b0174613ba45fe8ab87992fb": {
          "model_module": "@jupyter-widgets/controls",
          "model_name": "DescriptionStyleModel",
          "model_module_version": "1.5.0",
          "state": {
            "_view_name": "StyleView",
            "_model_name": "DescriptionStyleModel",
            "description_width": "",
            "_view_module": "@jupyter-widgets/base",
            "_model_module_version": "1.5.0",
            "_view_count": null,
            "_view_module_version": "1.2.0",
            "_model_module": "@jupyter-widgets/controls"
          }
        },
        "376eef5d6ce147658cb74b69ae569414": {
          "model_module": "@jupyter-widgets/base",
          "model_name": "LayoutModel",
          "model_module_version": "1.2.0",
          "state": {
            "_view_name": "LayoutView",
            "grid_template_rows": null,
            "right": null,
            "justify_content": null,
            "_view_module": "@jupyter-widgets/base",
            "overflow": null,
            "_model_module_version": "1.2.0",
            "_view_count": null,
            "flex_flow": null,
            "width": null,
            "min_width": null,
            "border": null,
            "align_items": null,
            "bottom": null,
            "_model_module": "@jupyter-widgets/base",
            "top": null,
            "grid_column": null,
            "overflow_y": null,
            "overflow_x": null,
            "grid_auto_flow": null,
            "grid_area": null,
            "grid_template_columns": null,
            "flex": null,
            "_model_name": "LayoutModel",
            "justify_items": null,
            "grid_row": null,
            "max_height": null,
            "align_content": null,
            "visibility": null,
            "align_self": null,
            "height": null,
            "min_height": null,
            "padding": null,
            "grid_auto_rows": null,
            "grid_gap": null,
            "max_width": null,
            "order": null,
            "_view_module_version": "1.2.0",
            "grid_template_areas": null,
            "object_position": null,
            "object_fit": null,
            "grid_auto_columns": null,
            "margin": null,
            "display": null,
            "left": null
          }
        },
        "7c8fa6d74f4643d7bbfd6715c15be55d": {
          "model_module": "@jupyter-widgets/controls",
          "model_name": "ProgressStyleModel",
          "model_module_version": "1.5.0",
          "state": {
            "_view_name": "StyleView",
            "_model_name": "ProgressStyleModel",
            "description_width": "",
            "_view_module": "@jupyter-widgets/base",
            "_model_module_version": "1.5.0",
            "_view_count": null,
            "_view_module_version": "1.2.0",
            "bar_color": null,
            "_model_module": "@jupyter-widgets/controls"
          }
        },
        "942c58a467bb489a9f87da8e47420e8a": {
          "model_module": "@jupyter-widgets/base",
          "model_name": "LayoutModel",
          "model_module_version": "1.2.0",
          "state": {
            "_view_name": "LayoutView",
            "grid_template_rows": null,
            "right": null,
            "justify_content": null,
            "_view_module": "@jupyter-widgets/base",
            "overflow": null,
            "_model_module_version": "1.2.0",
            "_view_count": null,
            "flex_flow": null,
            "width": null,
            "min_width": null,
            "border": null,
            "align_items": null,
            "bottom": null,
            "_model_module": "@jupyter-widgets/base",
            "top": null,
            "grid_column": null,
            "overflow_y": null,
            "overflow_x": null,
            "grid_auto_flow": null,
            "grid_area": null,
            "grid_template_columns": null,
            "flex": null,
            "_model_name": "LayoutModel",
            "justify_items": null,
            "grid_row": null,
            "max_height": null,
            "align_content": null,
            "visibility": null,
            "align_self": null,
            "height": null,
            "min_height": null,
            "padding": null,
            "grid_auto_rows": null,
            "grid_gap": null,
            "max_width": null,
            "order": null,
            "_view_module_version": "1.2.0",
            "grid_template_areas": null,
            "object_position": null,
            "object_fit": null,
            "grid_auto_columns": null,
            "margin": null,
            "display": null,
            "left": null
          }
        },
        "aebaf9a429644b1a84cb21e8a92fc1f9": {
          "model_module": "@jupyter-widgets/controls",
          "model_name": "DescriptionStyleModel",
          "model_module_version": "1.5.0",
          "state": {
            "_view_name": "StyleView",
            "_model_name": "DescriptionStyleModel",
            "description_width": "",
            "_view_module": "@jupyter-widgets/base",
            "_model_module_version": "1.5.0",
            "_view_count": null,
            "_view_module_version": "1.2.0",
            "_model_module": "@jupyter-widgets/controls"
          }
        },
        "3677387cc6ba4063a011b5d8f92d098d": {
          "model_module": "@jupyter-widgets/base",
          "model_name": "LayoutModel",
          "model_module_version": "1.2.0",
          "state": {
            "_view_name": "LayoutView",
            "grid_template_rows": null,
            "right": null,
            "justify_content": null,
            "_view_module": "@jupyter-widgets/base",
            "overflow": null,
            "_model_module_version": "1.2.0",
            "_view_count": null,
            "flex_flow": null,
            "width": null,
            "min_width": null,
            "border": null,
            "align_items": null,
            "bottom": null,
            "_model_module": "@jupyter-widgets/base",
            "top": null,
            "grid_column": null,
            "overflow_y": null,
            "overflow_x": null,
            "grid_auto_flow": null,
            "grid_area": null,
            "grid_template_columns": null,
            "flex": null,
            "_model_name": "LayoutModel",
            "justify_items": null,
            "grid_row": null,
            "max_height": null,
            "align_content": null,
            "visibility": null,
            "align_self": null,
            "height": null,
            "min_height": null,
            "padding": null,
            "grid_auto_rows": null,
            "grid_gap": null,
            "max_width": null,
            "order": null,
            "_view_module_version": "1.2.0",
            "grid_template_areas": null,
            "object_position": null,
            "object_fit": null,
            "grid_auto_columns": null,
            "margin": null,
            "display": null,
            "left": null
          }
        },
        "555e449a089d4857bd36cb7f66de589f": {
          "model_module": "@jupyter-widgets/controls",
          "model_name": "HBoxModel",
          "model_module_version": "1.5.0",
          "state": {
            "_view_name": "HBoxView",
            "_dom_classes": [],
            "_model_name": "HBoxModel",
            "_view_module": "@jupyter-widgets/controls",
            "_model_module_version": "1.5.0",
            "_view_count": null,
            "_view_module_version": "1.5.0",
            "box_style": "",
            "layout": "IPY_MODEL_9ac6493987e74bfaa37b4bef1af843ad",
            "_model_module": "@jupyter-widgets/controls",
            "children": [
              "IPY_MODEL_8c3b3e3af0b64d8a9b1b518fa4b0de15",
              "IPY_MODEL_5a75e322df80430fbffa096eafb8e168",
              "IPY_MODEL_917fc5d1d61e41c6a10095a8bdd8f68a"
            ]
          }
        },
        "9ac6493987e74bfaa37b4bef1af843ad": {
          "model_module": "@jupyter-widgets/base",
          "model_name": "LayoutModel",
          "model_module_version": "1.2.0",
          "state": {
            "_view_name": "LayoutView",
            "grid_template_rows": null,
            "right": null,
            "justify_content": null,
            "_view_module": "@jupyter-widgets/base",
            "overflow": null,
            "_model_module_version": "1.2.0",
            "_view_count": null,
            "flex_flow": null,
            "width": null,
            "min_width": null,
            "border": null,
            "align_items": null,
            "bottom": null,
            "_model_module": "@jupyter-widgets/base",
            "top": null,
            "grid_column": null,
            "overflow_y": null,
            "overflow_x": null,
            "grid_auto_flow": null,
            "grid_area": null,
            "grid_template_columns": null,
            "flex": null,
            "_model_name": "LayoutModel",
            "justify_items": null,
            "grid_row": null,
            "max_height": null,
            "align_content": null,
            "visibility": null,
            "align_self": null,
            "height": null,
            "min_height": null,
            "padding": null,
            "grid_auto_rows": null,
            "grid_gap": null,
            "max_width": null,
            "order": null,
            "_view_module_version": "1.2.0",
            "grid_template_areas": null,
            "object_position": null,
            "object_fit": null,
            "grid_auto_columns": null,
            "margin": null,
            "display": null,
            "left": null
          }
        },
        "8c3b3e3af0b64d8a9b1b518fa4b0de15": {
          "model_module": "@jupyter-widgets/controls",
          "model_name": "HTMLModel",
          "model_module_version": "1.5.0",
          "state": {
            "_view_name": "HTMLView",
            "style": "IPY_MODEL_5523c6f35e574be1a495f396e99569cf",
            "_dom_classes": [],
            "description": "",
            "_model_name": "HTMLModel",
            "placeholder": "​",
            "_view_module": "@jupyter-widgets/controls",
            "_model_module_version": "1.5.0",
            "value": "100%",
            "_view_count": null,
            "_view_module_version": "1.5.0",
            "description_tooltip": null,
            "_model_module": "@jupyter-widgets/controls",
            "layout": "IPY_MODEL_f0b1228fb72a4ba6a688be5a7e67fed6"
          }
        },
        "5a75e322df80430fbffa096eafb8e168": {
          "model_module": "@jupyter-widgets/controls",
          "model_name": "FloatProgressModel",
          "model_module_version": "1.5.0",
          "state": {
            "_view_name": "ProgressView",
            "style": "IPY_MODEL_e8e6f433f323481eaed3fe82b9a77df2",
            "_dom_classes": [],
            "description": "",
            "_model_name": "FloatProgressModel",
            "bar_style": "success",
            "max": 14751,
            "_view_module": "@jupyter-widgets/controls",
            "_model_module_version": "1.5.0",
            "value": 14751,
            "_view_count": null,
            "_view_module_version": "1.5.0",
            "orientation": "horizontal",
            "min": 0,
            "description_tooltip": null,
            "_model_module": "@jupyter-widgets/controls",
            "layout": "IPY_MODEL_b3069912a3284b32be90a59fb9e9724a"
          }
        },
        "917fc5d1d61e41c6a10095a8bdd8f68a": {
          "model_module": "@jupyter-widgets/controls",
          "model_name": "HTMLModel",
          "model_module_version": "1.5.0",
          "state": {
            "_view_name": "HTMLView",
            "style": "IPY_MODEL_61933dbc45154fd28ef0230e6a374e6c",
            "_dom_classes": [],
            "description": "",
            "_model_name": "HTMLModel",
            "placeholder": "​",
            "_view_module": "@jupyter-widgets/controls",
            "_model_module_version": "1.5.0",
            "value": " 14751/14751 [01:12&lt;00:00, 205.64it/s]",
            "_view_count": null,
            "_view_module_version": "1.5.0",
            "description_tooltip": null,
            "_model_module": "@jupyter-widgets/controls",
            "layout": "IPY_MODEL_6e41bf41345445d38bb63efd1427505b"
          }
        },
        "5523c6f35e574be1a495f396e99569cf": {
          "model_module": "@jupyter-widgets/controls",
          "model_name": "DescriptionStyleModel",
          "model_module_version": "1.5.0",
          "state": {
            "_view_name": "StyleView",
            "_model_name": "DescriptionStyleModel",
            "description_width": "",
            "_view_module": "@jupyter-widgets/base",
            "_model_module_version": "1.5.0",
            "_view_count": null,
            "_view_module_version": "1.2.0",
            "_model_module": "@jupyter-widgets/controls"
          }
        },
        "f0b1228fb72a4ba6a688be5a7e67fed6": {
          "model_module": "@jupyter-widgets/base",
          "model_name": "LayoutModel",
          "model_module_version": "1.2.0",
          "state": {
            "_view_name": "LayoutView",
            "grid_template_rows": null,
            "right": null,
            "justify_content": null,
            "_view_module": "@jupyter-widgets/base",
            "overflow": null,
            "_model_module_version": "1.2.0",
            "_view_count": null,
            "flex_flow": null,
            "width": null,
            "min_width": null,
            "border": null,
            "align_items": null,
            "bottom": null,
            "_model_module": "@jupyter-widgets/base",
            "top": null,
            "grid_column": null,
            "overflow_y": null,
            "overflow_x": null,
            "grid_auto_flow": null,
            "grid_area": null,
            "grid_template_columns": null,
            "flex": null,
            "_model_name": "LayoutModel",
            "justify_items": null,
            "grid_row": null,
            "max_height": null,
            "align_content": null,
            "visibility": null,
            "align_self": null,
            "height": null,
            "min_height": null,
            "padding": null,
            "grid_auto_rows": null,
            "grid_gap": null,
            "max_width": null,
            "order": null,
            "_view_module_version": "1.2.0",
            "grid_template_areas": null,
            "object_position": null,
            "object_fit": null,
            "grid_auto_columns": null,
            "margin": null,
            "display": null,
            "left": null
          }
        },
        "e8e6f433f323481eaed3fe82b9a77df2": {
          "model_module": "@jupyter-widgets/controls",
          "model_name": "ProgressStyleModel",
          "model_module_version": "1.5.0",
          "state": {
            "_view_name": "StyleView",
            "_model_name": "ProgressStyleModel",
            "description_width": "",
            "_view_module": "@jupyter-widgets/base",
            "_model_module_version": "1.5.0",
            "_view_count": null,
            "_view_module_version": "1.2.0",
            "bar_color": null,
            "_model_module": "@jupyter-widgets/controls"
          }
        },
        "b3069912a3284b32be90a59fb9e9724a": {
          "model_module": "@jupyter-widgets/base",
          "model_name": "LayoutModel",
          "model_module_version": "1.2.0",
          "state": {
            "_view_name": "LayoutView",
            "grid_template_rows": null,
            "right": null,
            "justify_content": null,
            "_view_module": "@jupyter-widgets/base",
            "overflow": null,
            "_model_module_version": "1.2.0",
            "_view_count": null,
            "flex_flow": null,
            "width": null,
            "min_width": null,
            "border": null,
            "align_items": null,
            "bottom": null,
            "_model_module": "@jupyter-widgets/base",
            "top": null,
            "grid_column": null,
            "overflow_y": null,
            "overflow_x": null,
            "grid_auto_flow": null,
            "grid_area": null,
            "grid_template_columns": null,
            "flex": null,
            "_model_name": "LayoutModel",
            "justify_items": null,
            "grid_row": null,
            "max_height": null,
            "align_content": null,
            "visibility": null,
            "align_self": null,
            "height": null,
            "min_height": null,
            "padding": null,
            "grid_auto_rows": null,
            "grid_gap": null,
            "max_width": null,
            "order": null,
            "_view_module_version": "1.2.0",
            "grid_template_areas": null,
            "object_position": null,
            "object_fit": null,
            "grid_auto_columns": null,
            "margin": null,
            "display": null,
            "left": null
          }
        },
        "61933dbc45154fd28ef0230e6a374e6c": {
          "model_module": "@jupyter-widgets/controls",
          "model_name": "DescriptionStyleModel",
          "model_module_version": "1.5.0",
          "state": {
            "_view_name": "StyleView",
            "_model_name": "DescriptionStyleModel",
            "description_width": "",
            "_view_module": "@jupyter-widgets/base",
            "_model_module_version": "1.5.0",
            "_view_count": null,
            "_view_module_version": "1.2.0",
            "_model_module": "@jupyter-widgets/controls"
          }
        },
        "6e41bf41345445d38bb63efd1427505b": {
          "model_module": "@jupyter-widgets/base",
          "model_name": "LayoutModel",
          "model_module_version": "1.2.0",
          "state": {
            "_view_name": "LayoutView",
            "grid_template_rows": null,
            "right": null,
            "justify_content": null,
            "_view_module": "@jupyter-widgets/base",
            "overflow": null,
            "_model_module_version": "1.2.0",
            "_view_count": null,
            "flex_flow": null,
            "width": null,
            "min_width": null,
            "border": null,
            "align_items": null,
            "bottom": null,
            "_model_module": "@jupyter-widgets/base",
            "top": null,
            "grid_column": null,
            "overflow_y": null,
            "overflow_x": null,
            "grid_auto_flow": null,
            "grid_area": null,
            "grid_template_columns": null,
            "flex": null,
            "_model_name": "LayoutModel",
            "justify_items": null,
            "grid_row": null,
            "max_height": null,
            "align_content": null,
            "visibility": null,
            "align_self": null,
            "height": null,
            "min_height": null,
            "padding": null,
            "grid_auto_rows": null,
            "grid_gap": null,
            "max_width": null,
            "order": null,
            "_view_module_version": "1.2.0",
            "grid_template_areas": null,
            "object_position": null,
            "object_fit": null,
            "grid_auto_columns": null,
            "margin": null,
            "display": null,
            "left": null
          }
        },
        "bd2042a6eb7a4b32a46a2062c70a0a4a": {
          "model_module": "@jupyter-widgets/controls",
          "model_name": "HBoxModel",
          "model_module_version": "1.5.0",
          "state": {
            "_view_name": "HBoxView",
            "_dom_classes": [],
            "_model_name": "HBoxModel",
            "_view_module": "@jupyter-widgets/controls",
            "_model_module_version": "1.5.0",
            "_view_count": null,
            "_view_module_version": "1.5.0",
            "box_style": "",
            "layout": "IPY_MODEL_7b26e047ffd64fb98b5a20e0c47bacb1",
            "_model_module": "@jupyter-widgets/controls",
            "children": [
              "IPY_MODEL_3f3dc80b6497493aba17d08b30ab78c6",
              "IPY_MODEL_02b3675334de466790a409b1253b0e03",
              "IPY_MODEL_5909e2c5308d47279031afaeab686358"
            ]
          }
        },
        "7b26e047ffd64fb98b5a20e0c47bacb1": {
          "model_module": "@jupyter-widgets/base",
          "model_name": "LayoutModel",
          "model_module_version": "1.2.0",
          "state": {
            "_view_name": "LayoutView",
            "grid_template_rows": null,
            "right": null,
            "justify_content": null,
            "_view_module": "@jupyter-widgets/base",
            "overflow": null,
            "_model_module_version": "1.2.0",
            "_view_count": null,
            "flex_flow": null,
            "width": null,
            "min_width": null,
            "border": null,
            "align_items": null,
            "bottom": null,
            "_model_module": "@jupyter-widgets/base",
            "top": null,
            "grid_column": null,
            "overflow_y": null,
            "overflow_x": null,
            "grid_auto_flow": null,
            "grid_area": null,
            "grid_template_columns": null,
            "flex": null,
            "_model_name": "LayoutModel",
            "justify_items": null,
            "grid_row": null,
            "max_height": null,
            "align_content": null,
            "visibility": null,
            "align_self": null,
            "height": null,
            "min_height": null,
            "padding": null,
            "grid_auto_rows": null,
            "grid_gap": null,
            "max_width": null,
            "order": null,
            "_view_module_version": "1.2.0",
            "grid_template_areas": null,
            "object_position": null,
            "object_fit": null,
            "grid_auto_columns": null,
            "margin": null,
            "display": null,
            "left": null
          }
        },
        "3f3dc80b6497493aba17d08b30ab78c6": {
          "model_module": "@jupyter-widgets/controls",
          "model_name": "HTMLModel",
          "model_module_version": "1.5.0",
          "state": {
            "_view_name": "HTMLView",
            "style": "IPY_MODEL_fb9bd9a517c544d991d0a63f4782e6d6",
            "_dom_classes": [],
            "description": "",
            "_model_name": "HTMLModel",
            "placeholder": "​",
            "_view_module": "@jupyter-widgets/controls",
            "_model_module_version": "1.5.0",
            "value": "100%",
            "_view_count": null,
            "_view_module_version": "1.5.0",
            "description_tooltip": null,
            "_model_module": "@jupyter-widgets/controls",
            "layout": "IPY_MODEL_8929f8fca4174f449f2ae7b78a01113d"
          }
        },
        "02b3675334de466790a409b1253b0e03": {
          "model_module": "@jupyter-widgets/controls",
          "model_name": "FloatProgressModel",
          "model_module_version": "1.5.0",
          "state": {
            "_view_name": "ProgressView",
            "style": "IPY_MODEL_1f9e875fbe5c429f91fae0f4cab1413c",
            "_dom_classes": [],
            "description": "",
            "_model_name": "FloatProgressModel",
            "bar_style": "success",
            "max": 40,
            "_view_module": "@jupyter-widgets/controls",
            "_model_module_version": "1.5.0",
            "value": 40,
            "_view_count": null,
            "_view_module_version": "1.5.0",
            "orientation": "horizontal",
            "min": 0,
            "description_tooltip": null,
            "_model_module": "@jupyter-widgets/controls",
            "layout": "IPY_MODEL_9ef0e35a5780489c8fa6520fbe13b03e"
          }
        },
        "5909e2c5308d47279031afaeab686358": {
          "model_module": "@jupyter-widgets/controls",
          "model_name": "HTMLModel",
          "model_module_version": "1.5.0",
          "state": {
            "_view_name": "HTMLView",
            "style": "IPY_MODEL_b6334bc341514067b3876133d495eba2",
            "_dom_classes": [],
            "description": "",
            "_model_name": "HTMLModel",
            "placeholder": "​",
            "_view_module": "@jupyter-widgets/controls",
            "_model_module_version": "1.5.0",
            "value": " 40/40 [00:01&lt;00:00, 41.26it/s]",
            "_view_count": null,
            "_view_module_version": "1.5.0",
            "description_tooltip": null,
            "_model_module": "@jupyter-widgets/controls",
            "layout": "IPY_MODEL_f0ae183052c64e6b8d3436eadbd8c041"
          }
        },
        "fb9bd9a517c544d991d0a63f4782e6d6": {
          "model_module": "@jupyter-widgets/controls",
          "model_name": "DescriptionStyleModel",
          "model_module_version": "1.5.0",
          "state": {
            "_view_name": "StyleView",
            "_model_name": "DescriptionStyleModel",
            "description_width": "",
            "_view_module": "@jupyter-widgets/base",
            "_model_module_version": "1.5.0",
            "_view_count": null,
            "_view_module_version": "1.2.0",
            "_model_module": "@jupyter-widgets/controls"
          }
        },
        "8929f8fca4174f449f2ae7b78a01113d": {
          "model_module": "@jupyter-widgets/base",
          "model_name": "LayoutModel",
          "model_module_version": "1.2.0",
          "state": {
            "_view_name": "LayoutView",
            "grid_template_rows": null,
            "right": null,
            "justify_content": null,
            "_view_module": "@jupyter-widgets/base",
            "overflow": null,
            "_model_module_version": "1.2.0",
            "_view_count": null,
            "flex_flow": null,
            "width": null,
            "min_width": null,
            "border": null,
            "align_items": null,
            "bottom": null,
            "_model_module": "@jupyter-widgets/base",
            "top": null,
            "grid_column": null,
            "overflow_y": null,
            "overflow_x": null,
            "grid_auto_flow": null,
            "grid_area": null,
            "grid_template_columns": null,
            "flex": null,
            "_model_name": "LayoutModel",
            "justify_items": null,
            "grid_row": null,
            "max_height": null,
            "align_content": null,
            "visibility": null,
            "align_self": null,
            "height": null,
            "min_height": null,
            "padding": null,
            "grid_auto_rows": null,
            "grid_gap": null,
            "max_width": null,
            "order": null,
            "_view_module_version": "1.2.0",
            "grid_template_areas": null,
            "object_position": null,
            "object_fit": null,
            "grid_auto_columns": null,
            "margin": null,
            "display": null,
            "left": null
          }
        },
        "1f9e875fbe5c429f91fae0f4cab1413c": {
          "model_module": "@jupyter-widgets/controls",
          "model_name": "ProgressStyleModel",
          "model_module_version": "1.5.0",
          "state": {
            "_view_name": "StyleView",
            "_model_name": "ProgressStyleModel",
            "description_width": "",
            "_view_module": "@jupyter-widgets/base",
            "_model_module_version": "1.5.0",
            "_view_count": null,
            "_view_module_version": "1.2.0",
            "bar_color": null,
            "_model_module": "@jupyter-widgets/controls"
          }
        },
        "9ef0e35a5780489c8fa6520fbe13b03e": {
          "model_module": "@jupyter-widgets/base",
          "model_name": "LayoutModel",
          "model_module_version": "1.2.0",
          "state": {
            "_view_name": "LayoutView",
            "grid_template_rows": null,
            "right": null,
            "justify_content": null,
            "_view_module": "@jupyter-widgets/base",
            "overflow": null,
            "_model_module_version": "1.2.0",
            "_view_count": null,
            "flex_flow": null,
            "width": null,
            "min_width": null,
            "border": null,
            "align_items": null,
            "bottom": null,
            "_model_module": "@jupyter-widgets/base",
            "top": null,
            "grid_column": null,
            "overflow_y": null,
            "overflow_x": null,
            "grid_auto_flow": null,
            "grid_area": null,
            "grid_template_columns": null,
            "flex": null,
            "_model_name": "LayoutModel",
            "justify_items": null,
            "grid_row": null,
            "max_height": null,
            "align_content": null,
            "visibility": null,
            "align_self": null,
            "height": null,
            "min_height": null,
            "padding": null,
            "grid_auto_rows": null,
            "grid_gap": null,
            "max_width": null,
            "order": null,
            "_view_module_version": "1.2.0",
            "grid_template_areas": null,
            "object_position": null,
            "object_fit": null,
            "grid_auto_columns": null,
            "margin": null,
            "display": null,
            "left": null
          }
        },
        "b6334bc341514067b3876133d495eba2": {
          "model_module": "@jupyter-widgets/controls",
          "model_name": "DescriptionStyleModel",
          "model_module_version": "1.5.0",
          "state": {
            "_view_name": "StyleView",
            "_model_name": "DescriptionStyleModel",
            "description_width": "",
            "_view_module": "@jupyter-widgets/base",
            "_model_module_version": "1.5.0",
            "_view_count": null,
            "_view_module_version": "1.2.0",
            "_model_module": "@jupyter-widgets/controls"
          }
        },
        "f0ae183052c64e6b8d3436eadbd8c041": {
          "model_module": "@jupyter-widgets/base",
          "model_name": "LayoutModel",
          "model_module_version": "1.2.0",
          "state": {
            "_view_name": "LayoutView",
            "grid_template_rows": null,
            "right": null,
            "justify_content": null,
            "_view_module": "@jupyter-widgets/base",
            "overflow": null,
            "_model_module_version": "1.2.0",
            "_view_count": null,
            "flex_flow": null,
            "width": null,
            "min_width": null,
            "border": null,
            "align_items": null,
            "bottom": null,
            "_model_module": "@jupyter-widgets/base",
            "top": null,
            "grid_column": null,
            "overflow_y": null,
            "overflow_x": null,
            "grid_auto_flow": null,
            "grid_area": null,
            "grid_template_columns": null,
            "flex": null,
            "_model_name": "LayoutModel",
            "justify_items": null,
            "grid_row": null,
            "max_height": null,
            "align_content": null,
            "visibility": null,
            "align_self": null,
            "height": null,
            "min_height": null,
            "padding": null,
            "grid_auto_rows": null,
            "grid_gap": null,
            "max_width": null,
            "order": null,
            "_view_module_version": "1.2.0",
            "grid_template_areas": null,
            "object_position": null,
            "object_fit": null,
            "grid_auto_columns": null,
            "margin": null,
            "display": null,
            "left": null
          }
        }
      }
    }
  },
  "cells": [
    {
      "cell_type": "markdown",
      "metadata": {
        "id": "am1eZhByxxFD"
      },
      "source": [
        "# **Tarea 1 Sistemas Recomendadores**\n",
        "\n",
        "\n",
        "---\n",
        "\n",
        "\n",
        "## IIC3633 | 2021-2\n",
        "Recomendación no personalizada, basada en feedback implícito y basada en contenido.\n",
        "\n",
        "Alumnos\n",
        "- Víctor Tirreau - 17637171\n",
        "- Diego Iruretagoyena - 14619164\n",
        "\n",
        "Dataset: Anime Recommendation Database  [ Anime Recommendation Database]( https://www.kaggle.com/hernan4444/)\n",
        "\n",
        "\n",
        "- [X] [Set-up inicial](#set)\n",
        "- [X] [Actividad 1: Exploración de Datos](#ac01)\n",
        "- [X] [Actividad 2: Recomendación no personalizada](#ac02)\n",
        "- [X] [Actividad 3: Recomendación basada en feedback implícito](#ac03)\n",
        "- [X] [Actividad 4: Recomendación basada en contenido](#ac04)\n",
        "- [X] [Actividad 5: Comparación de métodos](#ac05)\n",
        "- [X] [Actividad 6: Ejemplos de recomendación](#ac06)\n",
        "\n",
        "Este trabajo puede encontrarse en mejor formato en un  [Google Colab](https://colab.research.google.com/drive/1ljA1Ol2o-NYPijDBhaDiBZ2nvzwMqVbJ?usp=sharing)\n",
        "\n"
      ]
    },
    {
      "cell_type": "markdown",
      "metadata": {
        "id": "rC09ZQPn2mB8"
      },
      "source": [
        "## Set-up inicial \n",
        "<a id='set'></a>"
      ]
    },
    {
      "cell_type": "code",
      "metadata": {
        "colab": {
          "base_uri": "https://localhost:8080/"
        },
        "id": "rReqxSv7xyCJ",
        "outputId": "e0ed26ec-295e-46c5-f019-62ddaa4e14b1"
      },
      "source": [
        "!pip3 install tqdm --upgrade\n",
        "!pip3 install implicit --upgrade\n",
        "!pip3 install pyreclab --upgrade"
      ],
      "execution_count": 1,
      "outputs": [
        {
          "output_type": "stream",
          "name": "stdout",
          "text": [
            "Requirement already satisfied: tqdm in /usr/local/lib/python3.7/dist-packages (4.62.0)\n",
            "Collecting tqdm\n",
            "  Downloading tqdm-4.62.2-py2.py3-none-any.whl (76 kB)\n",
            "\u001b[K     |████████████████████████████████| 76 kB 2.7 MB/s \n",
            "\u001b[?25hInstalling collected packages: tqdm\n",
            "  Attempting uninstall: tqdm\n",
            "    Found existing installation: tqdm 4.62.0\n",
            "    Uninstalling tqdm-4.62.0:\n",
            "      Successfully uninstalled tqdm-4.62.0\n",
            "Successfully installed tqdm-4.62.2\n",
            "Collecting implicit\n",
            "  Downloading implicit-0.4.8.tar.gz (1.1 MB)\n",
            "\u001b[K     |████████████████████████████████| 1.1 MB 5.2 MB/s \n",
            "\u001b[?25h  Installing build dependencies ... \u001b[?25l\u001b[?25hdone\n",
            "  Getting requirements to build wheel ... \u001b[?25l\u001b[?25hdone\n",
            "  Installing backend dependencies ... \u001b[?25l\u001b[?25hdone\n",
            "    Preparing wheel metadata ... \u001b[?25l\u001b[?25hdone\n",
            "Requirement already satisfied: tqdm>=4.27 in /usr/local/lib/python3.7/dist-packages (from implicit) (4.62.2)\n",
            "Requirement already satisfied: numpy in /usr/local/lib/python3.7/dist-packages (from implicit) (1.19.5)\n",
            "Requirement already satisfied: scipy>=0.16 in /usr/local/lib/python3.7/dist-packages (from implicit) (1.4.1)\n",
            "Building wheels for collected packages: implicit\n",
            "  Building wheel for implicit (PEP 517) ... \u001b[?25l\u001b[?25hdone\n",
            "  Created wheel for implicit: filename=implicit-0.4.8-cp37-cp37m-linux_x86_64.whl size=4503589 sha256=097cbfdab3ad0c1843d10d8893aa8689176e27b9917a0442631056c95b99fc37\n",
            "  Stored in directory: /root/.cache/pip/wheels/88/e6/34/25e73cccbaf1a961154bb562a5f86123b68fdbf40e306073d6\n",
            "Successfully built implicit\n",
            "Installing collected packages: implicit\n",
            "Successfully installed implicit-0.4.8\n",
            "Collecting pyreclab\n",
            "  Downloading pyreclab-0.1.15-cp37-cp37m-manylinux2010_x86_64.whl (234 kB)\n",
            "\u001b[K     |████████████████████████████████| 234 kB 5.1 MB/s \n",
            "\u001b[?25hInstalling collected packages: pyreclab\n",
            "Successfully installed pyreclab-0.1.15\n"
          ]
        }
      ]
    },
    {
      "cell_type": "code",
      "metadata": {
        "id": "DAF4cr4KfxgD",
        "colab": {
          "base_uri": "https://localhost:8080/"
        },
        "outputId": "5f6f9b5c-972c-4d88-d09a-7366de3e94cd"
      },
      "source": [
        "from sklearn.metrics import confusion_matrix, recall_score, precision_score, ndcg_score\n",
        "from sklearn.model_selection import train_test_split \n",
        "from sklearn.metrics.pairwise import pairwise_distances\n",
        "from sklearn.decomposition import PCA\n",
        "\n",
        "import matplotlib.pyplot as plt\n",
        "import scipy.sparse as sparse\n",
        "\n",
        "\n",
        "import seaborn as sns\n",
        "import pandas as pd\n",
        "import numpy as np\n",
        "import pyreclab\n",
        "import implicit\n",
        "import heapq\n",
        "import time\n",
        "import json\n",
        "import tqdm as tqdm\n",
        "import math\n",
        "\n",
        "from google.colab import drive\n",
        "drive.mount('/content/drive')"
      ],
      "execution_count": 2,
      "outputs": [
        {
          "output_type": "stream",
          "name": "stdout",
          "text": [
            "Mounted at /content/drive\n"
          ]
        }
      ]
    },
    {
      "cell_type": "code",
      "metadata": {
        "id": "s7MLdMSif7ht"
      },
      "source": [
        "# Lectura de input\n",
        "\n",
        "BASE_PATH = '/content/drive/MyDrive/10Sem/RecSys/tarea1-recsyspuc-2021-readme-md/'\n",
        "\n",
        "test_users_df = pd.read_csv(BASE_PATH + 'test_users.csv')\n",
        "train_df = pd.read_csv(BASE_PATH + 'train.csv')\n",
        "validation_df = pd.read_csv(BASE_PATH + 'val.csv')\n",
        "anime_info = np.load(BASE_PATH + 'anime_info.pkl', allow_pickle=True)"
      ],
      "execution_count": 3,
      "outputs": []
    },
    {
      "cell_type": "markdown",
      "metadata": {
        "id": "_Lgcqe8vf07f"
      },
      "source": [
        "## **Actividad 1: Exploración de datos**\n",
        "<a id='exploracion'></a>\n",
        "En esta actividad se presentan gráficos de distribución de usuarios y animes.\n",
        "\n",
        "Además, se realiza un análisis de las variables con las que contamos en el dataset, entregando métricas como promedio, desviación estándar y densidad."
      ]
    },
    {
      "cell_type": "code",
      "metadata": {
        "colab": {
          "base_uri": "https://localhost:8080/",
          "height": 206
        },
        "id": "-KaJrJouf37K",
        "outputId": "3ed976c9-978c-428d-d090-b96de7166706"
      },
      "source": [
        "test_users_df.head()"
      ],
      "execution_count": null,
      "outputs": [
        {
          "output_type": "execute_result",
          "data": {
            "text/html": [
              "<div>\n",
              "<style scoped>\n",
              "    .dataframe tbody tr th:only-of-type {\n",
              "        vertical-align: middle;\n",
              "    }\n",
              "\n",
              "    .dataframe tbody tr th {\n",
              "        vertical-align: top;\n",
              "    }\n",
              "\n",
              "    .dataframe thead th {\n",
              "        text-align: right;\n",
              "    }\n",
              "</style>\n",
              "<table border=\"1\" class=\"dataframe\">\n",
              "  <thead>\n",
              "    <tr style=\"text-align: right;\">\n",
              "      <th></th>\n",
              "      <th>Unnamed: 0</th>\n",
              "      <th>user_id</th>\n",
              "    </tr>\n",
              "  </thead>\n",
              "  <tbody>\n",
              "    <tr>\n",
              "      <th>0</th>\n",
              "      <td>0</td>\n",
              "      <td>125862</td>\n",
              "    </tr>\n",
              "    <tr>\n",
              "      <th>1</th>\n",
              "      <td>1</td>\n",
              "      <td>246612</td>\n",
              "    </tr>\n",
              "    <tr>\n",
              "      <th>2</th>\n",
              "      <td>2</td>\n",
              "      <td>925</td>\n",
              "    </tr>\n",
              "    <tr>\n",
              "      <th>3</th>\n",
              "      <td>3</td>\n",
              "      <td>136160</td>\n",
              "    </tr>\n",
              "    <tr>\n",
              "      <th>4</th>\n",
              "      <td>4</td>\n",
              "      <td>174689</td>\n",
              "    </tr>\n",
              "  </tbody>\n",
              "</table>\n",
              "</div>"
            ],
            "text/plain": [
              "   Unnamed: 0  user_id\n",
              "0           0   125862\n",
              "1           1   246612\n",
              "2           2      925\n",
              "3           3   136160\n",
              "4           4   174689"
            ]
          },
          "metadata": {},
          "execution_count": 6
        }
      ]
    },
    {
      "cell_type": "code",
      "metadata": {
        "colab": {
          "base_uri": "https://localhost:8080/",
          "height": 200
        },
        "id": "fUUyvXPBnlcG",
        "outputId": "52e8f775-85a4-4b10-f8ce-36d2f146a1c7"
      },
      "source": [
        "train_df.head()"
      ],
      "execution_count": null,
      "outputs": [
        {
          "output_type": "execute_result",
          "data": {
            "text/html": [
              "<div>\n",
              "<style scoped>\n",
              "    .dataframe tbody tr th:only-of-type {\n",
              "        vertical-align: middle;\n",
              "    }\n",
              "\n",
              "    .dataframe tbody tr th {\n",
              "        vertical-align: top;\n",
              "    }\n",
              "\n",
              "    .dataframe thead th {\n",
              "        text-align: right;\n",
              "    }\n",
              "</style>\n",
              "<table border=\"1\" class=\"dataframe\">\n",
              "  <thead>\n",
              "    <tr style=\"text-align: right;\">\n",
              "      <th></th>\n",
              "      <th>user_id</th>\n",
              "      <th>anime_id</th>\n",
              "      <th>rating</th>\n",
              "    </tr>\n",
              "  </thead>\n",
              "  <tbody>\n",
              "    <tr>\n",
              "      <th>0</th>\n",
              "      <td>290025</td>\n",
              "      <td>36793</td>\n",
              "      <td>8</td>\n",
              "    </tr>\n",
              "    <tr>\n",
              "      <th>1</th>\n",
              "      <td>166392</td>\n",
              "      <td>30123</td>\n",
              "      <td>8</td>\n",
              "    </tr>\n",
              "    <tr>\n",
              "      <th>2</th>\n",
              "      <td>57349</td>\n",
              "      <td>16774</td>\n",
              "      <td>9</td>\n",
              "    </tr>\n",
              "    <tr>\n",
              "      <th>3</th>\n",
              "      <td>147605</td>\n",
              "      <td>22763</td>\n",
              "      <td>9</td>\n",
              "    </tr>\n",
              "    <tr>\n",
              "      <th>4</th>\n",
              "      <td>16310</td>\n",
              "      <td>15699</td>\n",
              "      <td>5</td>\n",
              "    </tr>\n",
              "  </tbody>\n",
              "</table>\n",
              "</div>"
            ],
            "text/plain": [
              "   user_id  anime_id  rating\n",
              "0   290025     36793       8\n",
              "1   166392     30123       8\n",
              "2    57349     16774       9\n",
              "3   147605     22763       9\n",
              "4    16310     15699       5"
            ]
          },
          "metadata": {},
          "execution_count": 56
        }
      ]
    },
    {
      "cell_type": "code",
      "metadata": {
        "colab": {
          "base_uri": "https://localhost:8080/",
          "height": 200
        },
        "id": "YXWJ2vqWVCS9",
        "outputId": "01d5dfc9-ae74-42aa-bded-c510ad519e4e"
      },
      "source": [
        "anime_info.head()"
      ],
      "execution_count": null,
      "outputs": [
        {
          "output_type": "execute_result",
          "data": {
            "text/html": [
              "<div>\n",
              "<style scoped>\n",
              "    .dataframe tbody tr th:only-of-type {\n",
              "        vertical-align: middle;\n",
              "    }\n",
              "\n",
              "    .dataframe tbody tr th {\n",
              "        vertical-align: top;\n",
              "    }\n",
              "\n",
              "    .dataframe thead th {\n",
              "        text-align: right;\n",
              "    }\n",
              "</style>\n",
              "<table border=\"1\" class=\"dataframe\">\n",
              "  <thead>\n",
              "    <tr style=\"text-align: right;\">\n",
              "      <th></th>\n",
              "      <th>anime_id</th>\n",
              "      <th>Name</th>\n",
              "      <th>Genres</th>\n",
              "      <th>Synopsis</th>\n",
              "      <th>content</th>\n",
              "      <th>content_embeddings</th>\n",
              "    </tr>\n",
              "  </thead>\n",
              "  <tbody>\n",
              "    <tr>\n",
              "      <th>0</th>\n",
              "      <td>1</td>\n",
              "      <td>Cowboy Bebop</td>\n",
              "      <td>Action, Adventure, Comedy, Drama, Sci-Fi, Space</td>\n",
              "      <td>In the year 2071, humanity has colonized sever...</td>\n",
              "      <td>cowboy bebop action adventure comedy drama sci...</td>\n",
              "      <td>[-0.033500284, 0.03323533, 0.034192204, -0.049...</td>\n",
              "    </tr>\n",
              "    <tr>\n",
              "      <th>1</th>\n",
              "      <td>5</td>\n",
              "      <td>Cowboy Bebop: Tengoku no Tobira</td>\n",
              "      <td>Action, Drama, Mystery, Sci-Fi, Space</td>\n",
              "      <td>other day, another bounty—such is the life of ...</td>\n",
              "      <td>cowboy bebop tengoku no tobira action drama my...</td>\n",
              "      <td>[-0.035846457, 0.022955496, 0.012560053, -0.03...</td>\n",
              "    </tr>\n",
              "    <tr>\n",
              "      <th>2</th>\n",
              "      <td>6</td>\n",
              "      <td>Trigun</td>\n",
              "      <td>Action, Sci-Fi, Adventure, Comedy, Drama, Shounen</td>\n",
              "      <td>Vash the Stampede is the man with a $$60,000,0...</td>\n",
              "      <td>trigun action sci fi adventure comedy drama sh...</td>\n",
              "      <td>[0.051486682, -0.060088806, -0.029781044, -0.0...</td>\n",
              "    </tr>\n",
              "    <tr>\n",
              "      <th>3</th>\n",
              "      <td>7</td>\n",
              "      <td>Witch Hunter Robin</td>\n",
              "      <td>Action, Mystery, Police, Supernatural, Drama, ...</td>\n",
              "      <td>ches are individuals with special powers like ...</td>\n",
              "      <td>witch hunter robin action mystery police super...</td>\n",
              "      <td>[-0.0076218257, -0.026781121, 0.05598651, 0.00...</td>\n",
              "    </tr>\n",
              "    <tr>\n",
              "      <th>4</th>\n",
              "      <td>15</td>\n",
              "      <td>Eyeshield 21</td>\n",
              "      <td>Action, Sports, Comedy, Shounen</td>\n",
              "      <td>Sena is like any other shy kid starting high s...</td>\n",
              "      <td>eyeshield 21 action sports comedy shounen sena...</td>\n",
              "      <td>[-0.04619904, -0.053223185, -0.06296745, -0.03...</td>\n",
              "    </tr>\n",
              "  </tbody>\n",
              "</table>\n",
              "</div>"
            ],
            "text/plain": [
              "   anime_id  ...                                 content_embeddings\n",
              "0         1  ...  [-0.033500284, 0.03323533, 0.034192204, -0.049...\n",
              "1         5  ...  [-0.035846457, 0.022955496, 0.012560053, -0.03...\n",
              "2         6  ...  [0.051486682, -0.060088806, -0.029781044, -0.0...\n",
              "3         7  ...  [-0.0076218257, -0.026781121, 0.05598651, 0.00...\n",
              "4        15  ...  [-0.04619904, -0.053223185, -0.06296745, -0.03...\n",
              "\n",
              "[5 rows x 6 columns]"
            ]
          },
          "metadata": {},
          "execution_count": 57
        }
      ]
    },
    {
      "cell_type": "code",
      "metadata": {
        "colab": {
          "base_uri": "https://localhost:8080/",
          "height": 200
        },
        "id": "xnTiVC_lhef_",
        "outputId": "054a8283-32b1-405f-eb51-d47995de1948"
      },
      "source": [
        "validation_df.head()"
      ],
      "execution_count": null,
      "outputs": [
        {
          "output_type": "execute_result",
          "data": {
            "text/html": [
              "<div>\n",
              "<style scoped>\n",
              "    .dataframe tbody tr th:only-of-type {\n",
              "        vertical-align: middle;\n",
              "    }\n",
              "\n",
              "    .dataframe tbody tr th {\n",
              "        vertical-align: top;\n",
              "    }\n",
              "\n",
              "    .dataframe thead th {\n",
              "        text-align: right;\n",
              "    }\n",
              "</style>\n",
              "<table border=\"1\" class=\"dataframe\">\n",
              "  <thead>\n",
              "    <tr style=\"text-align: right;\">\n",
              "      <th></th>\n",
              "      <th>user_id</th>\n",
              "      <th>anime_id</th>\n",
              "      <th>rating</th>\n",
              "    </tr>\n",
              "  </thead>\n",
              "  <tbody>\n",
              "    <tr>\n",
              "      <th>0</th>\n",
              "      <td>50106</td>\n",
              "      <td>28883</td>\n",
              "      <td>7</td>\n",
              "    </tr>\n",
              "    <tr>\n",
              "      <th>1</th>\n",
              "      <td>100033</td>\n",
              "      <td>8514</td>\n",
              "      <td>6</td>\n",
              "    </tr>\n",
              "    <tr>\n",
              "      <th>2</th>\n",
              "      <td>301396</td>\n",
              "      <td>1726</td>\n",
              "      <td>5</td>\n",
              "    </tr>\n",
              "    <tr>\n",
              "      <th>3</th>\n",
              "      <td>324857</td>\n",
              "      <td>853</td>\n",
              "      <td>7</td>\n",
              "    </tr>\n",
              "    <tr>\n",
              "      <th>4</th>\n",
              "      <td>144230</td>\n",
              "      <td>31442</td>\n",
              "      <td>5</td>\n",
              "    </tr>\n",
              "  </tbody>\n",
              "</table>\n",
              "</div>"
            ],
            "text/plain": [
              "   user_id  anime_id  rating\n",
              "0    50106     28883       7\n",
              "1   100033      8514       6\n",
              "2   301396      1726       5\n",
              "3   324857       853       7\n",
              "4   144230     31442       5"
            ]
          },
          "metadata": {},
          "execution_count": 58
        }
      ]
    },
    {
      "cell_type": "code",
      "metadata": {
        "colab": {
          "base_uri": "https://localhost:8080/"
        },
        "id": "Ri7Foq9AnzFR",
        "outputId": "54e95d4a-7974-4fb7-956b-10a3390af4ae"
      },
      "source": [
        "rated_animes_count = train_df.user_id.value_counts()\n",
        "reversed_rated = train_df.user_id.value_counts(ascending=True)\n",
        "rated_animes_count.values"
      ],
      "execution_count": null,
      "outputs": [
        {
          "output_type": "execute_result",
          "data": {
            "text/plain": [
              "array([134, 131, 129, ...,  42,  41,  40])"
            ]
          },
          "metadata": {},
          "execution_count": 59
        }
      ]
    },
    {
      "cell_type": "markdown",
      "metadata": {
        "id": "MzDi36ZV4Yts"
      },
      "source": [
        "### Gráfico distribución del número de interacciones por usuario\n",
        "\n",
        "Gran parte de los usuarios ha registrado entre 60 y 100 recomendaciones de anime, con una distribución similar a una gaussiana. De hecho, la funcion inversa de la CDF de una gaussiana se ve la siguiente forma\n",
        "\n",
        "![Gaussiana CDF inversa](https://www.researchgate.net/profile/Ray-Cc-Cheung/publication/3338018/figure/fig1/AS:651874000711684@1532430281507/Inverse-cumulative-distribution-function-of-the-Gaussian-distribution.png)\n",
        "\n",
        "[Imagen sacada de aquí](https://www.researchgate.net/profile/Ray-Cc-Cheung/publication/3338018/figure/fig1/AS:651874000711684@1532430281507/Inverse-cumulative-distribution-function-of-the-Gaussian-distribution.png)\n"
      ]
    },
    {
      "cell_type": "code",
      "metadata": {
        "colab": {
          "base_uri": "https://localhost:8080/",
          "height": 333
        },
        "id": "CKaqantPo2qa",
        "outputId": "9d634146-dc3e-4e89-8de3-eb174a2e0388"
      },
      "source": [
        "sns.lineplot(np.arange(len(rated_animes_count)), reversed_rated)"
      ],
      "execution_count": null,
      "outputs": [
        {
          "output_type": "stream",
          "name": "stderr",
          "text": [
            "/usr/local/lib/python3.7/dist-packages/seaborn/_decorators.py:43: FutureWarning: Pass the following variables as keyword args: x, y. From version 0.12, the only valid positional argument will be `data`, and passing other arguments without an explicit keyword will result in an error or misinterpretation.\n",
            "  FutureWarning\n"
          ]
        },
        {
          "output_type": "execute_result",
          "data": {
            "text/plain": [
              "<matplotlib.axes._subplots.AxesSubplot at 0x7fb1fd42f350>"
            ]
          },
          "metadata": {},
          "execution_count": 60
        },
        {
          "output_type": "display_data",
          "data": {
            "image/png": "[encoded data removed]",
            "text/plain": [
              "<Figure size 432x288 with 1 Axes>"
            ]
          },
          "metadata": {
            "needs_background": "light"
          }
        }
      ]
    },
    {
      "cell_type": "markdown",
      "metadata": {
        "id": "LJ0FsmbEoqA9"
      },
      "source": [
        "Con respecto al histograma, se confirma la sospecha de la forma Gaussiana en la distribución, con una pequeña anormalidad en torno a 85 - 90 ratings.\n",
        "\n",
        "Además, se observa una leve asimetría a la izquierda."
      ]
    },
    {
      "cell_type": "code",
      "metadata": {
        "colab": {
          "base_uri": "https://localhost:8080/",
          "height": 281
        },
        "id": "Wt_pCT_NoBFb",
        "outputId": "26bb8ae5-0e51-4da8-a424-11317a8ec2b0"
      },
      "source": [
        "rated_animes_count.hist(bins=30)"
      ],
      "execution_count": null,
      "outputs": [
        {
          "output_type": "execute_result",
          "data": {
            "text/plain": [
              "<matplotlib.axes._subplots.AxesSubplot at 0x7fb1fcff3910>"
            ]
          },
          "metadata": {},
          "execution_count": 61
        },
        {
          "output_type": "display_data",
          "data": {
            "image/png": "[encoded data removed]",
            "text/plain": [
              "<Figure size 432x288 with 1 Axes>"
            ]
          },
          "metadata": {
            "needs_background": "light"
          }
        }
      ]
    },
    {
      "cell_type": "markdown",
      "metadata": {
        "id": "2NFQYXaspo0G"
      },
      "source": [
        "Podemos observar que los usuarios que mas animes han evaluado tienen entre 128 y 134 items distintos."
      ]
    },
    {
      "cell_type": "code",
      "metadata": {
        "colab": {
          "base_uri": "https://localhost:8080/"
        },
        "id": "bp0-0ynNqgap",
        "outputId": "7e6ff9d8-fa04-4d2d-b5f0-5aef3876df1e"
      },
      "source": [
        "rated_animes_count.head(5)"
      ],
      "execution_count": null,
      "outputs": [
        {
          "output_type": "execute_result",
          "data": {
            "text/plain": [
              "297988    134\n",
              "469       131\n",
              "6088      129\n",
              "214484    129\n",
              "303684    128\n",
              "Name: user_id, dtype: int64"
            ]
          },
          "metadata": {},
          "execution_count": 62
        }
      ]
    },
    {
      "cell_type": "markdown",
      "metadata": {
        "id": "WhrNlNCMp7Al"
      },
      "source": [
        "La cantidad de usuarios unicos es 18.552"
      ]
    },
    {
      "cell_type": "code",
      "metadata": {
        "colab": {
          "base_uri": "https://localhost:8080/"
        },
        "id": "RmXIsaKl7zds",
        "outputId": "3eda0ab6-0922-470e-bd2c-d865384aad3f"
      },
      "source": [
        "len(rated_animes_count)"
      ],
      "execution_count": null,
      "outputs": [
        {
          "output_type": "execute_result",
          "data": {
            "text/plain": [
              "18552"
            ]
          },
          "metadata": {},
          "execution_count": 63
        }
      ]
    },
    {
      "cell_type": "markdown",
      "metadata": {
        "id": "e3VsiTVdrTSR"
      },
      "source": [
        "### Usuarios más activos\n",
        "\n",
        "Podemos observar que los IDs de los cinco usuarios más activos son (297988, 469, 6088, 214484, 303684)"
      ]
    },
    {
      "cell_type": "code",
      "metadata": {
        "colab": {
          "base_uri": "https://localhost:8080/"
        },
        "id": "BtgJraHBqthy",
        "outputId": "9a630020-29ce-493b-9c7c-68fc76644c2f"
      },
      "source": [
        "top_5_users =  rated_animes_count.head(5).sum()\n",
        "total_reviews = rated_animes_count.sum()\n",
        "percentage_top_5 = (top_5_users / total_reviews) * 100\n",
        "percentage_top_5"
      ],
      "execution_count": null,
      "outputs": [
        {
          "output_type": "execute_result",
          "data": {
            "text/plain": [
              "0.04413394754771856"
            ]
          },
          "metadata": {},
          "execution_count": 64
        }
      ]
    },
    {
      "cell_type": "markdown",
      "metadata": {
        "id": "ltZJ7SgNsvA6"
      },
      "source": [
        "Podemos observar que el porcentaje de participación en reviews de los top 5 usuarios **no es relevante** con respecto a el resto de los usuarios"
      ]
    },
    {
      "cell_type": "markdown",
      "metadata": {
        "id": "KegwUWmE4mLx"
      },
      "source": [
        "### Gráfico de la distribución de interacciones por animé."
      ]
    },
    {
      "cell_type": "markdown",
      "metadata": {
        "id": "7rq2tT0QqbxV"
      },
      "source": [
        "En el caso de los animes, podemos observar que los cinco animes más rateados por los usuarios representan un 1% del total de ratings."
      ]
    },
    {
      "cell_type": "code",
      "metadata": {
        "colab": {
          "base_uri": "https://localhost:8080/"
        },
        "id": "PYa18q8Vqtk3",
        "outputId": "76bcc5c6-de7f-4424-c743-2f94108917b7"
      },
      "source": [
        "total_animes_reviewed = train_df.anime_id.value_counts()\n",
        "top_5_animes =  total_animes_reviewed.head(5).sum()\n",
        "cumulative_sum_animes = total_animes_reviewed.sum()\n",
        "percentage_top_5 = (top_5_animes / cumulative_sum_animes) * 100\n",
        "percentage_top_5"
      ],
      "execution_count": null,
      "outputs": [
        {
          "output_type": "execute_result",
          "data": {
            "text/plain": [
              "1.0080302090430526"
            ]
          },
          "metadata": {},
          "execution_count": 65
        }
      ]
    },
    {
      "cell_type": "code",
      "metadata": {
        "colab": {
          "base_uri": "https://localhost:8080/"
        },
        "id": "tfyDggBltMek",
        "outputId": "d0a66315-71af-4eec-eb04-77c0e46dfcb0"
      },
      "source": [
        "total_animes_reviewed.head(5)"
      ],
      "execution_count": null,
      "outputs": [
        {
          "output_type": "execute_result",
          "data": {
            "text/plain": [
              "16498    3119\n",
              "11757    3108\n",
              "6547     2923\n",
              "1535     2876\n",
              "19815    2843\n",
              "Name: anime_id, dtype: int64"
            ]
          },
          "metadata": {},
          "execution_count": 66
        }
      ]
    },
    {
      "cell_type": "markdown",
      "metadata": {
        "id": "w_ydEPNH43LA"
      },
      "source": [
        "### Animes más populares"
      ]
    },
    {
      "cell_type": "markdown",
      "metadata": {
        "id": "5H_fahGCtL6u"
      },
      "source": [
        "Podemos observar que los IDs de los cinco animes más populares son [16498, 11757, 6547, 1535, 19815], los que corresponden a los siguientes animes:\n"
      ]
    },
    {
      "cell_type": "code",
      "metadata": {
        "colab": {
          "base_uri": "https://localhost:8080/",
          "height": 200
        },
        "id": "uaR0IPmWP9OO",
        "outputId": "7e8d0947-a253-4ec9-b1d8-bbd1a4b00dc0"
      },
      "source": [
        "anime_info[anime_info.anime_id.isin([16498, 11757, 6547, 1535, 19815])][['anime_id', 'Name']]"
      ],
      "execution_count": null,
      "outputs": [
        {
          "output_type": "execute_result",
          "data": {
            "text/html": [
              "<div>\n",
              "<style scoped>\n",
              "    .dataframe tbody tr th:only-of-type {\n",
              "        vertical-align: middle;\n",
              "    }\n",
              "\n",
              "    .dataframe tbody tr th {\n",
              "        vertical-align: top;\n",
              "    }\n",
              "\n",
              "    .dataframe thead th {\n",
              "        text-align: right;\n",
              "    }\n",
              "</style>\n",
              "<table border=\"1\" class=\"dataframe\">\n",
              "  <thead>\n",
              "    <tr style=\"text-align: right;\">\n",
              "      <th></th>\n",
              "      <th>anime_id</th>\n",
              "      <th>Name</th>\n",
              "    </tr>\n",
              "  </thead>\n",
              "  <tbody>\n",
              "    <tr>\n",
              "      <th>411</th>\n",
              "      <td>1535</td>\n",
              "      <td>Death Note</td>\n",
              "    </tr>\n",
              "    <tr>\n",
              "      <th>768</th>\n",
              "      <td>6547</td>\n",
              "      <td>Angel Beats!</td>\n",
              "    </tr>\n",
              "    <tr>\n",
              "      <th>1092</th>\n",
              "      <td>11757</td>\n",
              "      <td>Sword Art Online</td>\n",
              "    </tr>\n",
              "    <tr>\n",
              "      <th>1278</th>\n",
              "      <td>16498</td>\n",
              "      <td>Shingeki no Kyojin</td>\n",
              "    </tr>\n",
              "    <tr>\n",
              "      <th>1399</th>\n",
              "      <td>19815</td>\n",
              "      <td>No Game No Life</td>\n",
              "    </tr>\n",
              "  </tbody>\n",
              "</table>\n",
              "</div>"
            ],
            "text/plain": [
              "      anime_id                Name\n",
              "411       1535          Death Note\n",
              "768       6547        Angel Beats!\n",
              "1092     11757    Sword Art Online\n",
              "1278     16498  Shingeki no Kyojin\n",
              "1399     19815     No Game No Life"
            ]
          },
          "metadata": {},
          "execution_count": 67
        }
      ]
    },
    {
      "cell_type": "markdown",
      "metadata": {
        "id": "f9gqF7GRqp3s"
      },
      "source": [
        "**Podemos observar que la distribución de evaluaciones por anime asimila a una Exponencial**\n",
        "\n",
        "Ejemplo Distribucion Exponencial\n",
        "\n",
        "![Ejemplo Distribucion Exponencial](https://upload.wikimedia.org/wikipedia/commons/thumb/b/b1/Exponential_distribution_pdf.png/640px-Exponential_distribution_pdf.png )\n"
      ]
    },
    {
      "cell_type": "code",
      "metadata": {
        "colab": {
          "base_uri": "https://localhost:8080/",
          "height": 333
        },
        "id": "KOSeWCFUqtm6",
        "outputId": "d53db7fb-da95-48dd-a002-3e2972f44d4c"
      },
      "source": [
        "sns.lineplot(np.arange(len(total_animes_reviewed)), total_animes_reviewed)"
      ],
      "execution_count": null,
      "outputs": [
        {
          "output_type": "stream",
          "name": "stderr",
          "text": [
            "/usr/local/lib/python3.7/dist-packages/seaborn/_decorators.py:43: FutureWarning: Pass the following variables as keyword args: x, y. From version 0.12, the only valid positional argument will be `data`, and passing other arguments without an explicit keyword will result in an error or misinterpretation.\n",
            "  FutureWarning\n"
          ]
        },
        {
          "output_type": "execute_result",
          "data": {
            "text/plain": [
              "<matplotlib.axes._subplots.AxesSubplot at 0x7fb1fcfd31d0>"
            ]
          },
          "metadata": {},
          "execution_count": 68
        },
        {
          "output_type": "display_data",
          "data": {
            "image/png": "[encoded data removed]",
            "text/plain": [
              "<Figure size 432x288 with 1 Axes>"
            ]
          },
          "metadata": {
            "needs_background": "light"
          }
        }
      ]
    },
    {
      "cell_type": "markdown",
      "metadata": {
        "id": "ImfQvupjrjit"
      },
      "source": [
        "Sobre el histograma, podemos confirmar que tiene un comportamiento Exponencial"
      ]
    },
    {
      "cell_type": "code",
      "metadata": {
        "colab": {
          "base_uri": "https://localhost:8080/",
          "height": 285
        },
        "id": "qKGpOM8uquQC",
        "outputId": "cd5c3a5c-8dab-4cfd-8548-740a3305fb4d"
      },
      "source": [
        "total_animes_reviewed.hist(bins=30)"
      ],
      "execution_count": null,
      "outputs": [
        {
          "output_type": "execute_result",
          "data": {
            "text/plain": [
              "<matplotlib.axes._subplots.AxesSubplot at 0x7fb1fcf42910>"
            ]
          },
          "metadata": {},
          "execution_count": 69
        },
        {
          "output_type": "display_data",
          "data": {
            "image/png": "[encoded data removed]",
            "text/plain": [
              "<Figure size 432x288 with 1 Axes>"
            ]
          },
          "metadata": {
            "needs_background": "light"
          }
        }
      ]
    },
    {
      "cell_type": "code",
      "metadata": {
        "id": "sTboQYkDrwrn",
        "colab": {
          "base_uri": "https://localhost:8080/",
          "height": 281
        },
        "outputId": "42f7aa7f-ad47-4463-c4d2-5eb880b381c5"
      },
      "source": [
        "total_animes_reviewed.hist(bins=30, log=True)"
      ],
      "execution_count": null,
      "outputs": [
        {
          "output_type": "execute_result",
          "data": {
            "text/plain": [
              "<matplotlib.axes._subplots.AxesSubplot at 0x7fb222968190>"
            ]
          },
          "metadata": {},
          "execution_count": 70
        },
        {
          "output_type": "display_data",
          "data": {
            "image/png": "[encoded data removed]",
            "text/plain": [
              "<Figure size 432x288 with 1 Axes>"
            ]
          },
          "metadata": {
            "needs_background": "light"
          }
        }
      ]
    },
    {
      "cell_type": "markdown",
      "metadata": {
        "id": "m5oJikCyrkwv"
      },
      "source": [
        "Genere una tabla con la cantidad de usuarios distintos, número de items distintos, promedio y desviación estándar de animes por usuario, promedio y desviación estándar de usuarios por animes y densidad del dataset (o sparsity) en cuanto a interacciones."
      ]
    },
    {
      "cell_type": "code",
      "metadata": {
        "colab": {
          "base_uri": "https://localhost:8080/",
          "height": 200
        },
        "id": "jJnniiw6quSR",
        "outputId": "50c0ad63-c5aa-458e-d284-4888cf191852"
      },
      "source": [
        "train_df.head()"
      ],
      "execution_count": null,
      "outputs": [
        {
          "output_type": "execute_result",
          "data": {
            "text/html": [
              "<div>\n",
              "<style scoped>\n",
              "    .dataframe tbody tr th:only-of-type {\n",
              "        vertical-align: middle;\n",
              "    }\n",
              "\n",
              "    .dataframe tbody tr th {\n",
              "        vertical-align: top;\n",
              "    }\n",
              "\n",
              "    .dataframe thead th {\n",
              "        text-align: right;\n",
              "    }\n",
              "</style>\n",
              "<table border=\"1\" class=\"dataframe\">\n",
              "  <thead>\n",
              "    <tr style=\"text-align: right;\">\n",
              "      <th></th>\n",
              "      <th>user_id</th>\n",
              "      <th>anime_id</th>\n",
              "      <th>rating</th>\n",
              "    </tr>\n",
              "  </thead>\n",
              "  <tbody>\n",
              "    <tr>\n",
              "      <th>0</th>\n",
              "      <td>290025</td>\n",
              "      <td>36793</td>\n",
              "      <td>8</td>\n",
              "    </tr>\n",
              "    <tr>\n",
              "      <th>1</th>\n",
              "      <td>166392</td>\n",
              "      <td>30123</td>\n",
              "      <td>8</td>\n",
              "    </tr>\n",
              "    <tr>\n",
              "      <th>2</th>\n",
              "      <td>57349</td>\n",
              "      <td>16774</td>\n",
              "      <td>9</td>\n",
              "    </tr>\n",
              "    <tr>\n",
              "      <th>3</th>\n",
              "      <td>147605</td>\n",
              "      <td>22763</td>\n",
              "      <td>9</td>\n",
              "    </tr>\n",
              "    <tr>\n",
              "      <th>4</th>\n",
              "      <td>16310</td>\n",
              "      <td>15699</td>\n",
              "      <td>5</td>\n",
              "    </tr>\n",
              "  </tbody>\n",
              "</table>\n",
              "</div>"
            ],
            "text/plain": [
              "   user_id  anime_id  rating\n",
              "0   290025     36793       8\n",
              "1   166392     30123       8\n",
              "2    57349     16774       9\n",
              "3   147605     22763       9\n",
              "4    16310     15699       5"
            ]
          },
          "metadata": {},
          "execution_count": 71
        }
      ]
    },
    {
      "cell_type": "code",
      "metadata": {
        "colab": {
          "base_uri": "https://localhost:8080/"
        },
        "id": "3WXwMpd8quUd",
        "outputId": "e36d98e8-85af-4b6b-dfea-3cfae0049c99"
      },
      "source": [
        "unique_user_count = train_df.user_id.unique().shape[0]\n",
        "unique_anime_count = train_df.anime_id.unique().shape[0]\n",
        "average_reviews_by_users = rated_animes_count.mean()\n",
        "std_reviews_by_users = rated_animes_count.std()\n",
        "average_reviews_per_anime = total_animes_reviewed.mean()\n",
        "std_reviews_per_anime = total_animes_reviewed.std()\n",
        "\n",
        "print(\"\"\"Cantidad usuarios total: {0}, \n",
        "Animes distintos {1}, \n",
        "Promedio animes por usuario {2:.2f}, \n",
        "STD animes por usuario {3:.2f}, \n",
        "Promedio reviews por anime {4:.2f}, \n",
        "STD reviews por anime {5:.2f}\"\"\".format(unique_user_count, unique_anime_count, average_reviews_by_users, std_reviews_by_users, average_reviews_per_anime, std_reviews_per_anime))"
      ],
      "execution_count": null,
      "outputs": [
        {
          "output_type": "stream",
          "name": "stdout",
          "text": [
            "Cantidad usuarios total: 18552, \n",
            "Animes distintos 2326, \n",
            "Promedio animes por usuario 79.51, \n",
            "STD animes por usuario 13.70, \n",
            "Promedio reviews por anime 634.16, \n",
            "STD reviews por anime 513.60\n"
          ]
        }
      ]
    },
    {
      "cell_type": "code",
      "metadata": {
        "colab": {
          "base_uri": "https://localhost:8080/"
        },
        "id": "7MOeZR_IyhsG",
        "outputId": "30b3d820-4f2b-4f08-a27e-37752d340c57"
      },
      "source": [
        "total_train_count = train_df.shape[0]\n",
        "total_train_count\n",
        "\n",
        "density = total_train_count / (unique_user_count * unique_anime_count)\n",
        "print(\"Podemos observar que es un dataset de baja densidad del {0:.2%}, dejando sparsity con valor {1:.2%}\".format(density, (1 - density)))"
      ],
      "execution_count": null,
      "outputs": [
        {
          "output_type": "stream",
          "name": "stdout",
          "text": [
            "Podemos observar que es un dataset de baja densidad del 3.42%, dejando sparsity con valor 96.58%\n"
          ]
        }
      ]
    },
    {
      "cell_type": "markdown",
      "metadata": {
        "id": "Rnuuw1DP03So"
      },
      "source": [
        "## **Actividad 2: Recomendación no personalizada**\n",
        "<a id='ac02'></a>\n",
        "Most popular y random.\n",
        "\n",
        "Comenzamos analizando el comportamiento de los datos en el dataset de validación,"
      ]
    },
    {
      "cell_type": "code",
      "metadata": {
        "id": "Q0-U1P--26HB"
      },
      "source": [
        "# Definicion de métricas (No editar)\n",
        "# Obtenido de https://gist.github.com/bwhite/3726239\n",
        "\n",
        "def precision_at_k(r, k):\n",
        "    assert k >= 1\n",
        "    r = np.asarray(r)[:k] != 0\n",
        "    if r.size != k:\n",
        "        raise ValueError('Relevance score length < k')\n",
        "    return np.mean(r)\n",
        "\n",
        "def average_precision(r):\n",
        "    r = np.asarray(r) != 0\n",
        "    out = [precision_at_k(r, k + 1) for k in range(r.size) if r[k]]\n",
        "    if not out:\n",
        "        return 0.\n",
        "    return np.mean(out)\n",
        "\n",
        "def mean_average_precision(rs):\n",
        "    return np.mean([average_precision(r) for r in rs])\n",
        "  \n",
        "def dcg_at_k(r, k):\n",
        "    r = np.asfarray(r)[:k]\n",
        "    if r.size:\n",
        "        return np.sum(np.subtract(np.power(2, r), 1) / np.log2(np.arange(2, r.size + 2)))\n",
        "    return 0.\n",
        "\n",
        "\n",
        "def ndcg_at_k(r, k):\n",
        "    idcg = dcg_at_k(sorted(r, reverse=True), k)\n",
        "\n",
        "    if not idcg:\n",
        "        return 0.\n",
        "    return dcg_at_k(r, k) / idcg"
      ],
      "execution_count": 15,
      "outputs": []
    },
    {
      "cell_type": "code",
      "metadata": {
        "colab": {
          "base_uri": "https://localhost:8080/",
          "height": 200
        },
        "id": "qfDE9RvJyhy_",
        "outputId": "9836804a-6e79-4d9c-c9d1-88b528852a9d"
      },
      "source": [
        "validation_df.head()"
      ],
      "execution_count": null,
      "outputs": [
        {
          "output_type": "execute_result",
          "data": {
            "text/html": [
              "<div>\n",
              "<style scoped>\n",
              "    .dataframe tbody tr th:only-of-type {\n",
              "        vertical-align: middle;\n",
              "    }\n",
              "\n",
              "    .dataframe tbody tr th {\n",
              "        vertical-align: top;\n",
              "    }\n",
              "\n",
              "    .dataframe thead th {\n",
              "        text-align: right;\n",
              "    }\n",
              "</style>\n",
              "<table border=\"1\" class=\"dataframe\">\n",
              "  <thead>\n",
              "    <tr style=\"text-align: right;\">\n",
              "      <th></th>\n",
              "      <th>user_id</th>\n",
              "      <th>anime_id</th>\n",
              "      <th>rating</th>\n",
              "    </tr>\n",
              "  </thead>\n",
              "  <tbody>\n",
              "    <tr>\n",
              "      <th>0</th>\n",
              "      <td>50106</td>\n",
              "      <td>28883</td>\n",
              "      <td>7</td>\n",
              "    </tr>\n",
              "    <tr>\n",
              "      <th>1</th>\n",
              "      <td>100033</td>\n",
              "      <td>8514</td>\n",
              "      <td>6</td>\n",
              "    </tr>\n",
              "    <tr>\n",
              "      <th>2</th>\n",
              "      <td>301396</td>\n",
              "      <td>1726</td>\n",
              "      <td>5</td>\n",
              "    </tr>\n",
              "    <tr>\n",
              "      <th>3</th>\n",
              "      <td>324857</td>\n",
              "      <td>853</td>\n",
              "      <td>7</td>\n",
              "    </tr>\n",
              "    <tr>\n",
              "      <th>4</th>\n",
              "      <td>144230</td>\n",
              "      <td>31442</td>\n",
              "      <td>5</td>\n",
              "    </tr>\n",
              "  </tbody>\n",
              "</table>\n",
              "</div>"
            ],
            "text/plain": [
              "   user_id  anime_id  rating\n",
              "0    50106     28883       7\n",
              "1   100033      8514       6\n",
              "2   301396      1726       5\n",
              "3   324857       853       7\n",
              "4   144230     31442       5"
            ]
          },
          "metadata": {},
          "execution_count": 75
        }
      ]
    },
    {
      "cell_type": "code",
      "metadata": {
        "colab": {
          "base_uri": "https://localhost:8080/"
        },
        "id": "X9qaVFyRyh0u",
        "outputId": "f3cb690d-a626-4167-d6be-75db67b82bd7"
      },
      "source": [
        "validation_df.user_id.unique().shape[0]"
      ],
      "execution_count": null,
      "outputs": [
        {
          "output_type": "execute_result",
          "data": {
            "text/plain": [
              "14751"
            ]
          },
          "metadata": {},
          "execution_count": 76
        }
      ]
    },
    {
      "cell_type": "code",
      "metadata": {
        "colab": {
          "base_uri": "https://localhost:8080/"
        },
        "id": "nsfeWscLyh3B",
        "outputId": "9e2e2460-696e-4fb0-fc77-f93fce6c4c9d"
      },
      "source": [
        "validation_unique_users = validation_df.user_id.unique()\n",
        "train_unique_users = train_df.user_id.unique()\n",
        "print(validation_unique_users.shape, train_unique_users.shape)"
      ],
      "execution_count": null,
      "outputs": [
        {
          "output_type": "stream",
          "name": "stdout",
          "text": [
            "(14751,) (18552,)\n"
          ]
        }
      ]
    },
    {
      "cell_type": "code",
      "metadata": {
        "colab": {
          "base_uri": "https://localhost:8080/"
        },
        "id": "qsOlrbVcyh5V",
        "outputId": "b20e6fe4-d627-4c41-a6ee-c1415b09fddf"
      },
      "source": [
        "len(set(validation_unique_users)&set(train_unique_users))"
      ],
      "execution_count": null,
      "outputs": [
        {
          "output_type": "execute_result",
          "data": {
            "text/plain": [
              "14751"
            ]
          },
          "metadata": {},
          "execution_count": 78
        }
      ]
    },
    {
      "cell_type": "code",
      "metadata": {
        "colab": {
          "base_uri": "https://localhost:8080/",
          "height": 281
        },
        "id": "2UAYwkR0yh7V",
        "outputId": "51f9bd01-efc1-410b-9f81-122064a7a261"
      },
      "source": [
        "validation_df.anime_id.value_counts().hist(bins=30)"
      ],
      "execution_count": null,
      "outputs": [
        {
          "output_type": "execute_result",
          "data": {
            "text/plain": [
              "<matplotlib.axes._subplots.AxesSubplot at 0x7fb1fcd56a90>"
            ]
          },
          "metadata": {},
          "execution_count": 79
        },
        {
          "output_type": "display_data",
          "data": {
            "image/png": "[encoded data removed]",
            "text/plain": [
              "<Figure size 432x288 with 1 Axes>"
            ]
          },
          "metadata": {
            "needs_background": "light"
          }
        }
      ]
    },
    {
      "cell_type": "code",
      "metadata": {
        "colab": {
          "base_uri": "https://localhost:8080/",
          "height": 281
        },
        "id": "naY4mItu2Ofp",
        "outputId": "ca3983b3-f261-4a8d-a1ee-9fb38f363a0b"
      },
      "source": [
        "validation_df.user_id.value_counts().hist(bins=30)"
      ],
      "execution_count": null,
      "outputs": [
        {
          "output_type": "execute_result",
          "data": {
            "text/plain": [
              "<matplotlib.axes._subplots.AxesSubplot at 0x7fb1fccd3ed0>"
            ]
          },
          "metadata": {},
          "execution_count": 80
        },
        {
          "output_type": "display_data",
          "data": {
            "image/png": "[encoded data removed]",
            "text/plain": [
              "<Figure size 432x288 with 1 Axes>"
            ]
          },
          "metadata": {
            "needs_background": "light"
          }
        }
      ]
    },
    {
      "cell_type": "code",
      "metadata": {
        "colab": {
          "base_uri": "https://localhost:8080/",
          "height": 333
        },
        "id": "bYJFIVXyyh9X",
        "outputId": "2ad58472-fcf8-4476-a362-dd0f7ae68602"
      },
      "source": [
        "sns.lineplot(np.arange(len(validation_df.user_id.unique())), validation_df.user_id.value_counts())"
      ],
      "execution_count": null,
      "outputs": [
        {
          "output_type": "stream",
          "name": "stderr",
          "text": [
            "/usr/local/lib/python3.7/dist-packages/seaborn/_decorators.py:43: FutureWarning: Pass the following variables as keyword args: x, y. From version 0.12, the only valid positional argument will be `data`, and passing other arguments without an explicit keyword will result in an error or misinterpretation.\n",
            "  FutureWarning\n"
          ]
        },
        {
          "output_type": "execute_result",
          "data": {
            "text/plain": [
              "<matplotlib.axes._subplots.AxesSubplot at 0x7fb1fcd21250>"
            ]
          },
          "metadata": {},
          "execution_count": 81
        },
        {
          "output_type": "display_data",
          "data": {
            "image/png": "[encoded data removed]",
            "text/plain": [
              "<Figure size 432x288 with 1 Axes>"
            ]
          },
          "metadata": {
            "needs_background": "light"
          }
        }
      ]
    },
    {
      "cell_type": "code",
      "metadata": {
        "colab": {
          "base_uri": "https://localhost:8080/"
        },
        "id": "moMbDcPgyh_M",
        "outputId": "2a33c8d8-153d-4c27-f0c5-834c4e9c8402"
      },
      "source": [
        "train_top_animes = train_df.anime_id.value_counts()\n",
        "train_top_animes.head(10).index\n",
        "\n",
        "validation_df.user_id.value_counts"
      ],
      "execution_count": null,
      "outputs": [
        {
          "output_type": "execute_result",
          "data": {
            "text/plain": [
              "<bound method IndexOpsMixin.value_counts of 0         50106\n",
              "1        100033\n",
              "2        301396\n",
              "3        324857\n",
              "4        144230\n",
              "          ...  \n",
              "30097    150204\n",
              "30098    144072\n",
              "30099    279887\n",
              "30100    290160\n",
              "30101     72457\n",
              "Name: user_id, Length: 30102, dtype: int64>"
            ]
          },
          "metadata": {},
          "execution_count": 82
        }
      ]
    },
    {
      "cell_type": "code",
      "metadata": {
        "colab": {
          "base_uri": "https://localhost:8080/",
          "height": 320
        },
        "id": "qCRnQRAEyiCO",
        "outputId": "309ac143-7ac1-4e3a-a610-3e56d3551828"
      },
      "source": [
        "validation_df[validation_df.user_id == 321265]"
      ],
      "execution_count": null,
      "outputs": [
        {
          "output_type": "execute_result",
          "data": {
            "text/html": [
              "<div>\n",
              "<style scoped>\n",
              "    .dataframe tbody tr th:only-of-type {\n",
              "        vertical-align: middle;\n",
              "    }\n",
              "\n",
              "    .dataframe tbody tr th {\n",
              "        vertical-align: top;\n",
              "    }\n",
              "\n",
              "    .dataframe thead th {\n",
              "        text-align: right;\n",
              "    }\n",
              "</style>\n",
              "<table border=\"1\" class=\"dataframe\">\n",
              "  <thead>\n",
              "    <tr style=\"text-align: right;\">\n",
              "      <th></th>\n",
              "      <th>user_id</th>\n",
              "      <th>anime_id</th>\n",
              "      <th>rating</th>\n",
              "    </tr>\n",
              "  </thead>\n",
              "  <tbody>\n",
              "    <tr>\n",
              "      <th>6083</th>\n",
              "      <td>321265</td>\n",
              "      <td>22297</td>\n",
              "      <td>10</td>\n",
              "    </tr>\n",
              "    <tr>\n",
              "      <th>9475</th>\n",
              "      <td>321265</td>\n",
              "      <td>9181</td>\n",
              "      <td>7</td>\n",
              "    </tr>\n",
              "    <tr>\n",
              "      <th>11479</th>\n",
              "      <td>321265</td>\n",
              "      <td>30654</td>\n",
              "      <td>8</td>\n",
              "    </tr>\n",
              "    <tr>\n",
              "      <th>12277</th>\n",
              "      <td>321265</td>\n",
              "      <td>11741</td>\n",
              "      <td>10</td>\n",
              "    </tr>\n",
              "    <tr>\n",
              "      <th>14157</th>\n",
              "      <td>321265</td>\n",
              "      <td>21563</td>\n",
              "      <td>8</td>\n",
              "    </tr>\n",
              "    <tr>\n",
              "      <th>17808</th>\n",
              "      <td>321265</td>\n",
              "      <td>28851</td>\n",
              "      <td>9</td>\n",
              "    </tr>\n",
              "    <tr>\n",
              "      <th>18341</th>\n",
              "      <td>321265</td>\n",
              "      <td>33018</td>\n",
              "      <td>7</td>\n",
              "    </tr>\n",
              "    <tr>\n",
              "      <th>20406</th>\n",
              "      <td>321265</td>\n",
              "      <td>71</td>\n",
              "      <td>10</td>\n",
              "    </tr>\n",
              "    <tr>\n",
              "      <th>25684</th>\n",
              "      <td>321265</td>\n",
              "      <td>31181</td>\n",
              "      <td>9</td>\n",
              "    </tr>\n",
              "  </tbody>\n",
              "</table>\n",
              "</div>"
            ],
            "text/plain": [
              "       user_id  anime_id  rating\n",
              "6083    321265     22297      10\n",
              "9475    321265      9181       7\n",
              "11479   321265     30654       8\n",
              "12277   321265     11741      10\n",
              "14157   321265     21563       8\n",
              "17808   321265     28851       9\n",
              "18341   321265     33018       7\n",
              "20406   321265        71      10\n",
              "25684   321265     31181       9"
            ]
          },
          "metadata": {},
          "execution_count": 83
        }
      ]
    },
    {
      "cell_type": "markdown",
      "metadata": {
        "id": "U3RFWoMU5NtA"
      },
      "source": [
        "### Most popular"
      ]
    },
    {
      "cell_type": "code",
      "metadata": {
        "id": "i7F0B_FE77Nk"
      },
      "source": [
        "# Definicion de objeto \"most popular\"\n",
        "\n",
        "most_popular = pyreclab.MostPopular(dataset= BASE_PATH + 'train.csv',\n",
        "                   dlmchar=b',',\n",
        "                   header=True,\n",
        "                   usercol=0,\n",
        "                   itemcol=1,\n",
        "                   ratingcol=2)\n",
        "\n",
        "most_popular.train()"
      ],
      "execution_count": null,
      "outputs": []
    },
    {
      "cell_type": "code",
      "metadata": {
        "colab": {
          "base_uri": "https://localhost:8080/"
        },
        "id": "69XEc8jj77QA",
        "outputId": "87259504-1f23-4d28-a096-4ddc6b3c7507"
      },
      "source": [
        "# Testing de recomendaciones sobre los primeros N items \n",
        "\n",
        "most_popular_results = []\n",
        "for top_n in [10, 20, 30]:\n",
        "  recommendList, maprec, ndcg = most_popular.testrec(input_file= BASE_PATH + 'val.csv',\n",
        "                                            dlmchar=b',',\n",
        "                                            header=True,\n",
        "                                            usercol=0,\n",
        "                                            itemcol=1,\n",
        "                                            ratingcol=2,\n",
        "                                            topn=top_n,\n",
        "                                            relevance_threshold=7,\n",
        "                                            includeRated=False)\n",
        "  most_popular_results.append([top_n, maprec, ndcg])\n",
        "\n",
        "  print('MAP{}: {}\\nNDCG@{}: {}'.format(top_n, maprec, top_n, ndcg))"
      ],
      "execution_count": null,
      "outputs": [
        {
          "output_type": "stream",
          "name": "stdout",
          "text": [
            "MAP10: 0.011026788162501026\n",
            "NDCG@10: 0.012204016195495711\n",
            "MAP20: 0.012845817079542694\n",
            "NDCG@20: 0.01741654601711174\n",
            "MAP30: 0.013672311785931094\n",
            "NDCG@30: 0.021628328883578216\n"
          ]
        }
      ]
    },
    {
      "cell_type": "code",
      "metadata": {
        "colab": {
          "base_uri": "https://localhost:8080/",
          "height": 238
        },
        "id": "78S548qT0f8O",
        "outputId": "b386cd5f-0930-4c66-bc06-312160acb12a"
      },
      "source": [
        "processed_most_popular = []\n",
        "for (top_n, map, ndcg) in most_popular_results:\n",
        "  processed_most_popular.append((top_n, map, 'map'))\n",
        "  processed_most_popular.append((top_n, ndcg, 'ndcg'))\n",
        "\n",
        "most_popular_df = pd.DataFrame(processed_most_popular, columns=['rank_', 'result', 'evaluation'])\n",
        "most_popular_df"
      ],
      "execution_count": null,
      "outputs": [
        {
          "output_type": "execute_result",
          "data": {
            "text/html": [
              "<div>\n",
              "<style scoped>\n",
              "    .dataframe tbody tr th:only-of-type {\n",
              "        vertical-align: middle;\n",
              "    }\n",
              "\n",
              "    .dataframe tbody tr th {\n",
              "        vertical-align: top;\n",
              "    }\n",
              "\n",
              "    .dataframe thead th {\n",
              "        text-align: right;\n",
              "    }\n",
              "</style>\n",
              "<table border=\"1\" class=\"dataframe\">\n",
              "  <thead>\n",
              "    <tr style=\"text-align: right;\">\n",
              "      <th></th>\n",
              "      <th>rank_</th>\n",
              "      <th>result</th>\n",
              "      <th>evaluation</th>\n",
              "    </tr>\n",
              "  </thead>\n",
              "  <tbody>\n",
              "    <tr>\n",
              "      <th>0</th>\n",
              "      <td>10</td>\n",
              "      <td>0.011027</td>\n",
              "      <td>map</td>\n",
              "    </tr>\n",
              "    <tr>\n",
              "      <th>1</th>\n",
              "      <td>10</td>\n",
              "      <td>0.012204</td>\n",
              "      <td>ndcg</td>\n",
              "    </tr>\n",
              "    <tr>\n",
              "      <th>2</th>\n",
              "      <td>20</td>\n",
              "      <td>0.012846</td>\n",
              "      <td>map</td>\n",
              "    </tr>\n",
              "    <tr>\n",
              "      <th>3</th>\n",
              "      <td>20</td>\n",
              "      <td>0.017417</td>\n",
              "      <td>ndcg</td>\n",
              "    </tr>\n",
              "    <tr>\n",
              "      <th>4</th>\n",
              "      <td>30</td>\n",
              "      <td>0.013672</td>\n",
              "      <td>map</td>\n",
              "    </tr>\n",
              "    <tr>\n",
              "      <th>5</th>\n",
              "      <td>30</td>\n",
              "      <td>0.021628</td>\n",
              "      <td>ndcg</td>\n",
              "    </tr>\n",
              "  </tbody>\n",
              "</table>\n",
              "</div>"
            ],
            "text/plain": [
              "   rank_    result evaluation\n",
              "0     10  0.011027        map\n",
              "1     10  0.012204       ndcg\n",
              "2     20  0.012846        map\n",
              "3     20  0.017417       ndcg\n",
              "4     30  0.013672        map\n",
              "5     30  0.021628       ndcg"
            ]
          },
          "metadata": {},
          "execution_count": 108
        }
      ]
    },
    {
      "cell_type": "code",
      "metadata": {
        "id": "LsUMa4JGsbgI"
      },
      "source": [
        "most_popular_df.to_csv(\"mostpopular_results.csv\")"
      ],
      "execution_count": null,
      "outputs": []
    },
    {
      "cell_type": "code",
      "metadata": {
        "id": "lWKc0NHeW_0S"
      },
      "source": [
        "most_popular_df = pd.read_csv(\"mostpopular_results.csv\")"
      ],
      "execution_count": 47,
      "outputs": []
    },
    {
      "cell_type": "code",
      "metadata": {
        "colab": {
          "base_uri": "https://localhost:8080/",
          "height": 389
        },
        "id": "a1SQcqDQQRyB",
        "outputId": "5d8ff6fd-768b-4970-ee95-7c752d670f2c"
      },
      "source": [
        "# Gráficos Most Popular\n",
        "\n",
        "g = sns.FacetGrid(most_popular_df, col='evaluation')\n",
        "g.map_dataframe(sns.barplot, x='rank_', y='result', ci=None)\n",
        "g.add_legend(title=\"Most Popular evaluation@k\")\n",
        "plt.gcf().set_size_inches(10, 6)\n",
        "plt.savefig(\"most-popular-rank-sensibility.png\")"
      ],
      "execution_count": null,
      "outputs": [
        {
          "output_type": "display_data",
          "data": {
            "image/png": "[encoded data removed]",
            "text/plain": [
              "<Figure size 720x432 with 2 Axes>"
            ]
          },
          "metadata": {
            "needs_background": "light"
          }
        }
      ]
    },
    {
      "cell_type": "code",
      "metadata": {
        "id": "G3M6ogBJ77bB"
      },
      "source": [
        "def custom_precision(retrieved, relevant):\n",
        "  if not len(retrieved):\n",
        "    return 0\n",
        "\n",
        "  true_positives = len(set(retrieved)&set(relevant))\n",
        "  return true_positives / len(retrieved)\n",
        "\n",
        "def custom_recall(retrieved, relevant):\n",
        "  if not len(relevant):\n",
        "    return 0\n",
        "    \n",
        "  true_positives = len(set(retrieved)&set(relevant))\n",
        "  return true_positives / len(relevant)\n"
      ],
      "execution_count": 50,
      "outputs": []
    },
    {
      "cell_type": "markdown",
      "metadata": {
        "id": "G-XYpre95fEf"
      },
      "source": [
        "### Random"
      ]
    },
    {
      "cell_type": "code",
      "metadata": {
        "colab": {
          "base_uri": "https://localhost:8080/"
        },
        "id": "h-_SoBI3etqT",
        "outputId": "375a4a40-950e-42ba-d595-53f6166f38a4"
      },
      "source": [
        "def random_recommendation(current_user_id, size_=30):\n",
        "  # Which animes did this user already rate ?\n",
        "  rated_animes_by_user = train_df[train_df.user_id == current_user_id].anime_id.unique()\n",
        "  # Select random choices from the whole list minus the ones that user already recommended\n",
        "  choices = np.random.choice(train_df.anime_id.unique(), size=170, replace=False)\n",
        "  filtered = [random_anime for random_anime in choices if random_anime not in rated_animes_by_user][0:30]\n",
        "\n",
        "  return filtered\n",
        "\n",
        "obtained_random_recalls = []\n",
        "obtained_random_precisions = []\n",
        "obtained_mean_map = {10: 0, 20: 0, 30: 0}\n",
        "obtained_mean_ndcg = {10: 0, 20: 0, 30: 0}\n",
        "\n",
        "# Make a partition of train/validation dbs, obtaining only animes rated equally or over 7\n",
        "relevant_animes_VALIDATION = validation_df[(validation_df.rating >= 7)]\n",
        "relevant_animes_TRAIN = train_df[(train_df.rating >= 7)]\n",
        "\n",
        "# for each user present in validation, do a random recommendation and evaluate precision/recall\n",
        "for user in tqdm.tqdm(validation_df.user_id.unique()):\n",
        "  actual_relevant_items = relevant_animes_VALIDATION[(relevant_animes_VALIDATION.user_id == user)].anime_id\n",
        "  random_rec = random_recommendation(user)\n",
        "\n",
        "  for k in [10, 20, 30]:\n",
        "    rel_vector = [np.isin(random_rec[0: k], actual_relevant_items, assume_unique=True).astype(int)]\n",
        "    cutted_vector = rel_vector[0][0: k].reshape(1, -1)\n",
        "    mn_Average = mean_average_precision(cutted_vector) \n",
        "    obtained_mean_map[k] += mn_Average\n",
        "    obtained_mean_ndcg[k] += ndcg_at_k(rel_vector, k)\n",
        "\n",
        "  # Precision\n",
        "  current_random_precision = custom_precision(retrieved=random_rec, relevant=actual_relevant_items)\n",
        "  obtained_random_precisions.append(current_random_precision)\n",
        "\n",
        "  # Recall\n",
        "  current_random_recall = custom_recall(retrieved=random_rec, relevant=actual_relevant_items)\n",
        "  obtained_random_recalls.append(current_random_recall)\n",
        "  \n",
        "fast_mean_random_recall = np.array(obtained_random_recalls).mean()\n",
        "fast_mean_random_precision = np.array(obtained_random_precisions).mean()\n",
        "\n",
        "len_uniques = len(validation_df.user_id.unique())\n",
        "for k in [10, 20, 30]:\n",
        "  obtained_mean_map[k] /= len_uniques\n",
        "  obtained_mean_ndcg[k] /= len_uniques\n",
        "\n",
        "print(fast_mean_random_recall, fast_mean_random_precision)\n",
        "print(obtained_mean_map, obtained_mean_ndcg)\n"
      ],
      "execution_count": 51,
      "outputs": [
        {
          "output_type": "stream",
          "name": "stderr",
          "text": [
            "100%|██████████| 14751/14751 [03:51<00:00, 63.59it/s]"
          ]
        },
        {
          "output_type": "stream",
          "name": "stdout",
          "text": [
            "0.012608830394065292 0.0007570108241249182\n",
            "{10: 0.0020011825940237566, 20: 0.002488360105253322, 30: 0.0028166855370088412} {10: 0.007050369466476849, 20: 0.014168530947054437, 30: 0.02237136465324385}\n"
          ]
        },
        {
          "output_type": "stream",
          "name": "stderr",
          "text": [
            "\n"
          ]
        }
      ]
    },
    {
      "cell_type": "code",
      "metadata": {
        "id": "esKws6bdxaN5"
      },
      "source": [
        "random_mean_map = obtained_mean_map\n",
        "random_mean_ndcg = obtained_mean_ndcg"
      ],
      "execution_count": 52,
      "outputs": []
    },
    {
      "cell_type": "code",
      "metadata": {
        "id": "_aSBpgehORlj",
        "colab": {
          "base_uri": "https://localhost:8080/"
        },
        "outputId": "9c56073f-a7a8-4431-adff-6d57991b6a2c"
      },
      "source": [
        "print(fast_mean_random_recall, fast_mean_random_precision)"
      ],
      "execution_count": 53,
      "outputs": [
        {
          "output_type": "stream",
          "name": "stdout",
          "text": [
            "0.012608830394065292 0.0007570108241249182\n"
          ]
        }
      ]
    },
    {
      "cell_type": "code",
      "metadata": {
        "id": "ENYxsPm5zgWZ"
      },
      "source": [
        "random_results_list = [(k, v, 'map') for (k, v) in random_mean_map.items()] + [(k, v, 'ndcg') for (k, v) in random_mean_ndcg.items()]\n",
        "random_df = pd.DataFrame(random_results_list, columns=['rank_', 'result', 'evaluation'])"
      ],
      "execution_count": 54,
      "outputs": []
    },
    {
      "cell_type": "code",
      "metadata": {
        "id": "ChypwADTXQrq"
      },
      "source": [
        "random_df.to_csv(\"random_results.csv\")"
      ],
      "execution_count": 55,
      "outputs": []
    },
    {
      "cell_type": "code",
      "metadata": {
        "id": "n5llDam8XUIh"
      },
      "source": [
        "random_df = pd.read_csv(\"random_results.csv\")"
      ],
      "execution_count": null,
      "outputs": []
    },
    {
      "cell_type": "code",
      "metadata": {
        "colab": {
          "base_uri": "https://localhost:8080/",
          "height": 389
        },
        "id": "gGF2YbRQm10B",
        "outputId": "9de67ff0-7899-4b3f-8a1e-6c24efaebc45"
      },
      "source": [
        "# Gráficos Random\n",
        "\n",
        "g = sns.FacetGrid(random_df, col='evaluation')\n",
        "g.map_dataframe(sns.barplot, x='rank_', y='result', ci=None)\n",
        "g.add_legend(title=\"Random evaluation@k\")\n",
        "plt.gcf().set_size_inches(10, 6)\n",
        "plt.savefig(\"random-rank-sensibility.png\")"
      ],
      "execution_count": 173,
      "outputs": [
        {
          "output_type": "display_data",
          "data": {
            "image/png": "[encoded data removed]",
            "text/plain": [
              "<Figure size 720x432 with 2 Axes>"
            ]
          },
          "metadata": {
            "needs_background": "light"
          }
        }
      ]
    },
    {
      "cell_type": "markdown",
      "metadata": {
        "id": "JRLCDrD8I4Bp"
      },
      "source": [
        "### Explicación método random\n",
        "\n",
        "Para optimizar el tiempo de ejecución, en lugar de elegir de forma aleatoria entre los items no rateados por usuario, lo cual demoraba 40+ minutos, obtuvimos una lista de 170 elementos de forma aleatoria, para luego filtrar vs la lista que dicho usuario si dió feedback. \n",
        "\n",
        "Así, redujimos los tiempos a 3 mins."
      ]
    },
    {
      "cell_type": "markdown",
      "metadata": {
        "id": "nOPkCDtIEWdV"
      },
      "source": [
        "## **Actividad 3 Recomendación basada en feedback implícito**\n",
        "<a id='ac03'></a>\n",
        "ALS y BPR junto a un análisis de sensibilidad.\n",
        "\n",
        "Para utilizar estos métodos, necesitamos crear una sparse matrix con nuestra información, para luego evaluar cada modelo."
      ]
    },
    {
      "cell_type": "code",
      "metadata": {
        "id": "KTKkAJFAEVh3"
      },
      "source": [
        "# Desde Práctico Implicit_feedback\n",
        "# Creamos una Sparse Matrix para utilizar ALS y BPR\n",
        "\n",
        "user_animes = {}\n",
        "animes_set = set()\n",
        "\n",
        "for row in train_df.itertuples():\n",
        "    \n",
        "    if row[1] not in user_animes:\n",
        "        user_animes[row[1]] = []\n",
        "        \n",
        "    user_animes[row[1]].append(row[2])\n",
        "    animes_set.add(row[2])\n",
        "\n",
        "animes_list = np.sort(list(animes_set))\n",
        "sparse_matrix = np.zeros((len(user_animes), len(animes_set)))\n",
        "\n",
        "for i, animes in enumerate(user_animes.values()):\n",
        "    sparse_matrix[i] = np.isin(animes_list, animes, assume_unique=True).astype(int)\n",
        "    \n",
        "matrix = sparse.csr_matrix(sparse_matrix.T)\n",
        "\n",
        "user_df_to_incr_ids = {key: i for i, key in enumerate(user_animes.keys())}\n",
        "user_incr_ids_to_df = dict(enumerate(user_animes.keys()))\n",
        "anime_df_to_incr_ids = {key: i for i, key in enumerate(animes_list)}\n",
        "anime_incr_ids_to_df = dict(enumerate(animes_list))\n",
        "user_item_matrix = matrix.T.tocsr()"
      ],
      "execution_count": 9,
      "outputs": []
    },
    {
      "cell_type": "code",
      "metadata": {
        "id": "r4An8z-pLOHY",
        "colab": {
          "base_uri": "https://localhost:8080/"
        },
        "outputId": "a76e3dfd-63af-4125-e1ce-a9dd3aafa3e9"
      },
      "source": [
        "len(user_animes[297988])\n",
        "user_df_to_incr_ids[297988]"
      ],
      "execution_count": null,
      "outputs": [
        {
          "output_type": "execute_result",
          "data": {
            "text/plain": [
              "1950"
            ]
          },
          "metadata": {},
          "execution_count": 10
        }
      ]
    },
    {
      "cell_type": "code",
      "metadata": {
        "id": "mM-Vl8iqOLwu"
      },
      "source": [
        "user_animes_val = {}\n",
        "\n",
        "for row in validation_df.itertuples():\n",
        "    if row[1] not in user_animes_val:\n",
        "        user_animes_val[row[1]] = []\n",
        "        \n",
        "    user_animes_val[row[1]].append(row[2])"
      ],
      "execution_count": 10,
      "outputs": []
    },
    {
      "cell_type": "code",
      "metadata": {
        "id": "Pyu6tX5iILiu"
      },
      "source": [
        "def evaluate_model(model, n):\n",
        "  mean_map = 0.\n",
        "  mean_ndcg = 0.\n",
        "  for u in user_animes_val.keys():\n",
        "    if u not in user_df_to_incr_ids:\n",
        "        continue\n",
        "    remapped_user = user_df_to_incr_ids[u]\n",
        "    rec = [anime_incr_ids_to_df[t[0]] for t in model.recommend(remapped_user, user_item_matrix, n)]\n",
        "    rel_vector = [np.isin(rec, user_animes_val[u], assume_unique=True).astype(int)]\n",
        "    # rel_vector = np.isin(user_animes_val[u], rec, assume_unique=True).astype(int).reshape(1,-1)\n",
        "    mean_map += mean_average_precision(rel_vector)\n",
        "    mean_ndcg += ndcg_at_k(rel_vector, n)\n",
        "\n",
        "  mean_map /= len(user_animes_val)\n",
        "  mean_ndcg /= len(user_animes_val)\n",
        "  \n",
        "  return mean_map, mean_ndcg"
      ],
      "execution_count": null,
      "outputs": []
    },
    {
      "cell_type": "code",
      "metadata": {
        "id": "OGD3O4p6ILo7"
      },
      "source": [
        "def show_recommendations(model, user, n):\n",
        "  recommendations = [t[0] for t in model.recommend(user, user_item_matrix, n)]\n",
        "  return recommendations"
      ],
      "execution_count": null,
      "outputs": []
    },
    {
      "cell_type": "markdown",
      "metadata": {
        "id": "ObexJsfY5wUN"
      },
      "source": [
        "### Alternate Least Squares"
      ]
    },
    {
      "cell_type": "code",
      "metadata": {
        "id": "z3UK2qHG53bU",
        "colab": {
          "base_uri": "https://localhost:8080/"
        },
        "outputId": "d7cd9a87-f88e-4464-e20e-06a09fdbfe91"
      },
      "source": [
        "%cd /content/drive/MyDrive/10Sem/RecSys/tarea1-recsyspuc-2021-readme-md/"
      ],
      "execution_count": 38,
      "outputs": [
        {
          "output_type": "stream",
          "name": "stdout",
          "text": [
            "/content/drive/MyDrive/10Sem/RecSys/tarea1-recsyspuc-2021-readme-md\n"
          ]
        }
      ]
    },
    {
      "cell_type": "code",
      "metadata": {
        "id": "8LkWZ7wq58et"
      },
      "source": [
        "!ls"
      ],
      "execution_count": null,
      "outputs": []
    },
    {
      "cell_type": "code",
      "metadata": {
        "id": "2NPdCDyf6A9Y"
      },
      "source": [
        "def ALS_metrics():\n",
        "  ALS_results = {}\n",
        "  for latent_factor in [50, 100, 200, 500, 1000]:\n",
        "    for max_iter in [10, 20, 30, 40, 50]:\n",
        "        t0 = time.time()\n",
        "        model_als = implicit.als.AlternatingLeastSquares(factors=latent_factor, iterations=max_iter, use_gpu=True)\n",
        "        model_als.fit(matrix)\n",
        "        for ndcg_rank in [10, 20, 30]:\n",
        "            maprec, ndcg = evaluate_model(model_als, n=ndcg_rank)\n",
        "            ALS_results[latent_factor, max_iter, ndcg_rank] = [maprec, ndcg, time.time() - t0]\n",
        "\n",
        "  return ALS_results\n"
      ],
      "execution_count": null,
      "outputs": []
    },
    {
      "cell_type": "markdown",
      "metadata": {
        "id": "Mw6UgptXP6Hb"
      },
      "source": [
        "### Factorización Matricial optimizada con Bayesian Personalized Ranking"
      ]
    },
    {
      "cell_type": "code",
      "metadata": {
        "id": "22-rJFK4QXOr"
      },
      "source": [
        "def BPR_metrics():\n",
        "  BPR_results = {}\n",
        "  for latent_factor in tqdm.tqdm([50, 100, 200, 500, 1000]):\n",
        "      for max_iter in range(10, 810, 50):\n",
        "        t0 = time.time()\n",
        "        model_bpr = implicit.bpr.BayesianPersonalizedRanking(factors=latent_factor, iterations=max_iter, use_gpu=True)\n",
        "        model_bpr.fit(matrix)\n",
        "        for ndcg_rank in [10, 20, 30]:\n",
        "            maprec, ndcg = evaluate_model(model_bpr, n=ndcg_rank)\n",
        "            BPR_results[latent_factor, max_iter, ndcg_rank] = [maprec, ndcg, time.time() - t0]\n",
        "\n",
        "  return BPR_results"
      ],
      "execution_count": null,
      "outputs": []
    },
    {
      "cell_type": "code",
      "metadata": {
        "id": "3fTqnAEg4tSD"
      },
      "source": [
        "als_results = ALS_metrics()"
      ],
      "execution_count": null,
      "outputs": []
    },
    {
      "cell_type": "code",
      "metadata": {
        "id": "HmRR3ghJhGoY"
      },
      "source": [
        "bpr_results = BPR_metrics()"
      ],
      "execution_count": null,
      "outputs": []
    },
    {
      "cell_type": "code",
      "metadata": {
        "id": "jZQqsr2hx4hF"
      },
      "source": [
        "bpr_results_processed = [list(k) + v for k,v in bpr_results.items()]\n",
        "bpr_results_df = pd.DataFrame(bpr_results_processed, columns=[\"latent_factors\", \"max_iter\", \"rank_\", \"map\", \"ndcg\", \"time\"])\n",
        "als_results_processed = [list(k) + v for k,v in als_results.items()]\n",
        "als_results_df = pd.DataFrame(als_results_processed, columns=[\"latent_factors\", \"max_iter\", \"rank_\", \"map\", \"ndcg\", \"time\"])"
      ],
      "execution_count": null,
      "outputs": []
    },
    {
      "cell_type": "code",
      "metadata": {
        "id": "oqNlpLlhyp4a"
      },
      "source": [
        "# als_results_df.to_csv(\"ALS_results.csv\")\n",
        "# bpr_results_df.to_csv(\"BPR_results.csv\")"
      ],
      "execution_count": null,
      "outputs": []
    },
    {
      "cell_type": "code",
      "metadata": {
        "id": "cEy5lDSkiO1v"
      },
      "source": [
        "als_results_df = pd.read_csv(\"ALS_results.csv\").drop(columns=[\"Unnamed: 0\"])\n",
        "bpr_results_df = pd.read_csv(\"BPR_results.csv\").drop(columns=[\"Unnamed: 0\"])"
      ],
      "execution_count": 42,
      "outputs": []
    },
    {
      "cell_type": "code",
      "metadata": {
        "id": "fiDDaESuEVwl"
      },
      "source": [
        "# Plot de ALS; BPR en ranking 10\n",
        "bpr_results_df[\"method\"] = \"BPR\"\n",
        "als_results_df[\"method\"] = \"ALS\"\n",
        "\n",
        "processed_BPR_ALS_results_dataframe = pd.concat([bpr_results_df, als_results_df])\n",
        "rank_10 = processed_BPR_ALS_results_dataframe[processed_BPR_ALS_results_dataframe.rank_ == 10]\n"
      ],
      "execution_count": 43,
      "outputs": []
    },
    {
      "cell_type": "code",
      "metadata": {
        "id": "MfPAilTG10Ab",
        "colab": {
          "base_uri": "https://localhost:8080/",
          "height": 424
        },
        "outputId": "ce9233bb-346b-43fe-f29d-fef98fdb10e4"
      },
      "source": [
        "processed_BPR_ALS_results_dataframe"
      ],
      "execution_count": 44,
      "outputs": [
        {
          "output_type": "execute_result",
          "data": {
            "text/html": [
              "<div>\n",
              "<style scoped>\n",
              "    .dataframe tbody tr th:only-of-type {\n",
              "        vertical-align: middle;\n",
              "    }\n",
              "\n",
              "    .dataframe tbody tr th {\n",
              "        vertical-align: top;\n",
              "    }\n",
              "\n",
              "    .dataframe thead th {\n",
              "        text-align: right;\n",
              "    }\n",
              "</style>\n",
              "<table border=\"1\" class=\"dataframe\">\n",
              "  <thead>\n",
              "    <tr style=\"text-align: right;\">\n",
              "      <th></th>\n",
              "      <th>latent_factors</th>\n",
              "      <th>max_iter</th>\n",
              "      <th>rank_</th>\n",
              "      <th>map</th>\n",
              "      <th>ndcg</th>\n",
              "      <th>time</th>\n",
              "      <th>method</th>\n",
              "    </tr>\n",
              "  </thead>\n",
              "  <tbody>\n",
              "    <tr>\n",
              "      <th>0</th>\n",
              "      <td>50</td>\n",
              "      <td>10</td>\n",
              "      <td>10</td>\n",
              "      <td>0.009271</td>\n",
              "      <td>0.033218</td>\n",
              "      <td>5.181061</td>\n",
              "      <td>BPR</td>\n",
              "    </tr>\n",
              "    <tr>\n",
              "      <th>1</th>\n",
              "      <td>50</td>\n",
              "      <td>10</td>\n",
              "      <td>20</td>\n",
              "      <td>0.010849</td>\n",
              "      <td>0.056403</td>\n",
              "      <td>10.518459</td>\n",
              "      <td>BPR</td>\n",
              "    </tr>\n",
              "    <tr>\n",
              "      <th>2</th>\n",
              "      <td>50</td>\n",
              "      <td>10</td>\n",
              "      <td>30</td>\n",
              "      <td>0.011381</td>\n",
              "      <td>0.071588</td>\n",
              "      <td>16.205203</td>\n",
              "      <td>BPR</td>\n",
              "    </tr>\n",
              "    <tr>\n",
              "      <th>3</th>\n",
              "      <td>50</td>\n",
              "      <td>60</td>\n",
              "      <td>10</td>\n",
              "      <td>0.011005</td>\n",
              "      <td>0.035320</td>\n",
              "      <td>5.681611</td>\n",
              "      <td>BPR</td>\n",
              "    </tr>\n",
              "    <tr>\n",
              "      <th>4</th>\n",
              "      <td>50</td>\n",
              "      <td>60</td>\n",
              "      <td>20</td>\n",
              "      <td>0.013020</td>\n",
              "      <td>0.066301</td>\n",
              "      <td>11.065298</td>\n",
              "      <td>BPR</td>\n",
              "    </tr>\n",
              "    <tr>\n",
              "      <th>...</th>\n",
              "      <td>...</td>\n",
              "      <td>...</td>\n",
              "      <td>...</td>\n",
              "      <td>...</td>\n",
              "      <td>...</td>\n",
              "      <td>...</td>\n",
              "      <td>...</td>\n",
              "    </tr>\n",
              "    <tr>\n",
              "      <th>70</th>\n",
              "      <td>1000</td>\n",
              "      <td>40</td>\n",
              "      <td>20</td>\n",
              "      <td>0.010393</td>\n",
              "      <td>0.045895</td>\n",
              "      <td>28.137490</td>\n",
              "      <td>ALS</td>\n",
              "    </tr>\n",
              "    <tr>\n",
              "      <th>71</th>\n",
              "      <td>1000</td>\n",
              "      <td>40</td>\n",
              "      <td>30</td>\n",
              "      <td>0.011034</td>\n",
              "      <td>0.063114</td>\n",
              "      <td>35.531725</td>\n",
              "      <td>ALS</td>\n",
              "    </tr>\n",
              "    <tr>\n",
              "      <th>72</th>\n",
              "      <td>1000</td>\n",
              "      <td>50</td>\n",
              "      <td>10</td>\n",
              "      <td>0.009583</td>\n",
              "      <td>0.026846</td>\n",
              "      <td>25.806581</td>\n",
              "      <td>ALS</td>\n",
              "    </tr>\n",
              "    <tr>\n",
              "      <th>73</th>\n",
              "      <td>1000</td>\n",
              "      <td>50</td>\n",
              "      <td>20</td>\n",
              "      <td>0.010893</td>\n",
              "      <td>0.047115</td>\n",
              "      <td>32.506565</td>\n",
              "      <td>ALS</td>\n",
              "    </tr>\n",
              "    <tr>\n",
              "      <th>74</th>\n",
              "      <td>1000</td>\n",
              "      <td>50</td>\n",
              "      <td>30</td>\n",
              "      <td>0.011596</td>\n",
              "      <td>0.065690</td>\n",
              "      <td>39.801570</td>\n",
              "      <td>ALS</td>\n",
              "    </tr>\n",
              "  </tbody>\n",
              "</table>\n",
              "<p>315 rows × 7 columns</p>\n",
              "</div>"
            ],
            "text/plain": [
              "    latent_factors  max_iter  rank_       map      ndcg       time method\n",
              "0               50        10     10  0.009271  0.033218   5.181061    BPR\n",
              "1               50        10     20  0.010849  0.056403  10.518459    BPR\n",
              "2               50        10     30  0.011381  0.071588  16.205203    BPR\n",
              "3               50        60     10  0.011005  0.035320   5.681611    BPR\n",
              "4               50        60     20  0.013020  0.066301  11.065298    BPR\n",
              "..             ...       ...    ...       ...       ...        ...    ...\n",
              "70            1000        40     20  0.010393  0.045895  28.137490    ALS\n",
              "71            1000        40     30  0.011034  0.063114  35.531725    ALS\n",
              "72            1000        50     10  0.009583  0.026846  25.806581    ALS\n",
              "73            1000        50     20  0.010893  0.047115  32.506565    ALS\n",
              "74            1000        50     30  0.011596  0.065690  39.801570    ALS\n",
              "\n",
              "[315 rows x 7 columns]"
            ]
          },
          "metadata": {},
          "execution_count": 44
        }
      ]
    },
    {
      "cell_type": "markdown",
      "metadata": {
        "id": "2M3Dk-hzHnSy"
      },
      "source": [
        ""
      ]
    },
    {
      "cell_type": "code",
      "metadata": {
        "id": "wKbLOOmMGys4",
        "colab": {
          "base_uri": "https://localhost:8080/",
          "height": 514
        },
        "outputId": "688687cf-e26f-490e-83e0-6814aa1743e5"
      },
      "source": [
        "sns.pointplot(data=rank_10, x='latent_factors', y='ndcg', hue='method')\n",
        "plt.title(\"Análisis de Sensibilidad NDCG@10\");\n",
        "plt.gcf().set_size_inches(12, 8)\n",
        "plt.savefig(\"ndcg10-mf-sensibility.png\")"
      ],
      "execution_count": null,
      "outputs": [
        {
          "output_type": "display_data",
          "data": {
            "image/png": "[encoded data removed]",
            "text/plain": [
              "<Figure size 864x576 with 1 Axes>"
            ]
          },
          "metadata": {
            "needs_background": "light"
          }
        }
      ]
    },
    {
      "cell_type": "code",
      "metadata": {
        "id": "9fKeclblHUFc",
        "colab": {
          "base_uri": "https://localhost:8080/",
          "height": 514
        },
        "outputId": "e0418cf0-b16b-458c-ac63-cd001de57ff7"
      },
      "source": [
        "sns.pointplot(data=rank_10, x='latent_factors', y='map', hue='method')\n",
        "plt.title(\"Análisis de Sensibilidad MAP@10\");\n",
        "plt.gcf().set_size_inches(12, 8)\n",
        "plt.savefig(\"map10-mf-sensibility.png\")"
      ],
      "execution_count": null,
      "outputs": [
        {
          "output_type": "display_data",
          "data": {
            "image/png": "[encoded data removed]",
            "text/plain": [
              "<Figure size 864x576 with 1 Axes>"
            ]
          },
          "metadata": {
            "needs_background": "light"
          }
        }
      ]
    },
    {
      "cell_type": "markdown",
      "metadata": {
        "id": "luALnLFZtAOw"
      },
      "source": [
        "Analizamos experimentalmente el rendimiento en función de la cantidad de iteraciones de entrenamiento. Así, dedujimos que para la convergencia de ALS requerimos menos de 30 iteraciones, mientras que BPR requiere alrededor de 100.\n",
        "\n",
        "Fijándonos en la misma cantidad de iteraciones,\n",
        "observamos que el rendimiento en tiempo en función de la cantidad \n",
        "de factores latentes es muchísimo mejor en BPR que ALS.\n",
        "\n",
        "Cabe mencionar que todos los tiempos reportados corresponden a\n",
        "segundos y que los algoritmos de entrenamiento fueron acelerados mediante GPU."
      ]
    },
    {
      "cell_type": "code",
      "metadata": {
        "colab": {
          "base_uri": "https://localhost:8080/",
          "height": 514
        },
        "id": "GopMv03uktha",
        "outputId": "1314abd2-31b8-4840-ae67-33f806ac30e9"
      },
      "source": [
        "sns.pointplot(data=rank_10[rank_10.max_iter == 10], x='latent_factors', y='time', hue='method')\n",
        "plt.title(\"Análisis de Sensibilidad Tiempo - 10 iteraciones\");\n",
        "plt.gcf().set_size_inches(12, 8)\n",
        "plt.savefig(\"mf-time-sensibility.png\")"
      ],
      "execution_count": null,
      "outputs": [
        {
          "output_type": "display_data",
          "data": {
            "image/png": "[encoded data removed]",
            "text/plain": [
              "<Figure size 864x576 with 1 Axes>"
            ]
          },
          "metadata": {
            "needs_background": "light"
          }
        }
      ]
    },
    {
      "cell_type": "markdown",
      "metadata": {
        "id": "a-5j76gGEepk"
      },
      "source": [
        "## **Actividad 4: Recomendación basada en contenido**\n",
        "<a id='ac04'></a>\n"
      ]
    },
    {
      "cell_type": "code",
      "metadata": {
        "id": "NIs16C29EVzB"
      },
      "source": [
        "anime_embeddings = np.vstack(anime_info.content_embeddings.to_numpy())"
      ],
      "execution_count": 168,
      "outputs": []
    },
    {
      "cell_type": "code",
      "metadata": {
        "id": "BwX8__abZdzi"
      },
      "source": [
        "# Tomado desde practico \"Content_Based_texto\"\n",
        "\n",
        "# dict index 2 book id and vice-versa for recommendation \n",
        "idx2animeid = {i: id_ for i, id_ in enumerate(anime_info.anime_id)}\n",
        "animeid2idx = {id_:i for i, id_ in enumerate(anime_info.anime_id)}\n",
        "\n",
        "def recommend_to_user(anime_embedding_PCA, user_id, metric='euclidean', topk=10):\n",
        "  # Encontrar IDs de animes que evaluó este usuario\n",
        "  evaluated_animes = train_df[train_df.user_id == user_id].anime_id\n",
        "  # Convertirlos a IDs secuenciales que creamos para la indexar matriz\n",
        "  anime_index = [animeid2idx[i] for i in evaluated_animes]\n",
        "  # Construir matriz de embeddings de animes que evaluó usuario\n",
        "  user_rated_animes_embeddings = anime_embedding_PCA[anime_index, :]\n",
        "  # Calcular promedio de embeddings\n",
        "  user_embedding = user_rated_animes_embeddings.mean(axis=0)\n",
        "\n",
        "  n = anime_embedding_PCA.shape[0]\n",
        "  # Calcular distancias hasta embeddings originales con respecto a promedio\n",
        "  distances = pairwise_distances(user_embedding.reshape(1, -1), anime_embedding_PCA, metric=metric)\n",
        "\n",
        "  # Usando cola de prioridades, calculo los K más cercanos\n",
        "  heap = []\n",
        "  for i in range(n):            \n",
        "      if len(heap) < topk:\n",
        "          heapq.heappush(heap, (-distances[0][i], i))\n",
        "      else:\n",
        "          heapq.heappushpop(heap, (-distances[0][i], i))\n",
        "\n",
        "  heap.sort(reverse=True)\n",
        "  rec_ids = [idx2animeid[i] for _,i in heap]\n",
        "  \n",
        "  return rec_ids"
      ],
      "execution_count": 169,
      "outputs": []
    },
    {
      "cell_type": "code",
      "metadata": {
        "id": "EwGP5aB1BFSr"
      },
      "source": [
        "def evaluate_PCA(model, metric_):\n",
        "  mean_map = {10: 0, 20: 0, 30: 0}\n",
        "  mean_ndcg = {10: 0, 20: 0, 30: 0}\n",
        "\n",
        "  for current_user_id in tqdm.auto.tqdm(list(user_animes_val.keys())):\n",
        "    similar_animes = recommend_to_user(model, user_id = current_user_id, metric = metric_, topk=30)\n",
        "    rel_vector = [np.isin(similar_animes, user_animes_val[current_user_id], assume_unique=True).astype(int)]\n",
        "    for k_ in [10, 20, 30]:\n",
        "      cutted_vector = rel_vector[0][0: k_].reshape(1, -1)\n",
        "      mean_map[k_] += mean_average_precision(cutted_vector)\n",
        "      mean_ndcg[k_] += ndcg_at_k(cutted_vector, k_)\n",
        "\n",
        "  mean_map = {k: v / len(user_animes_val) for k, v in mean_map.items()}\n",
        "  mean_ndcg = {k: v / len(user_animes_val) for k, v in mean_ndcg.items()}\n",
        "  \n",
        "  return mean_map, mean_ndcg"
      ],
      "execution_count": 170,
      "outputs": []
    },
    {
      "cell_type": "code",
      "metadata": {
        "id": "YwgROCCdA-OZ"
      },
      "source": [
        "def PCA_simulations():\n",
        "  results = []\n",
        "  for n_components in tqdm.auto.tqdm([10, 50, 100]):\n",
        "    for metric_ in tqdm.auto.tqdm(['cosine', 'euclidean', 'manhattan']):\n",
        "      reduced_dimensionality_animes = PCA(n_components=n_components).fit_transform(anime_embeddings)\n",
        "      map_, ndcg = evaluate_PCA(reduced_dimensionality_animes, metric_)\n",
        "\n",
        "      for rank, score in map_.items():\n",
        "        results.append([n_components, metric_, rank, score, 'map'])\n",
        "\n",
        "      for rank, score in ndcg.items():\n",
        "        results.append([n_components, metric_, rank, score, 'ndcg'])\n",
        "  return results\n"
      ],
      "execution_count": 171,
      "outputs": []
    },
    {
      "cell_type": "code",
      "metadata": {
        "colab": {
          "base_uri": "https://localhost:8080/",
          "height": 433,
          "referenced_widgets": [
            "176b1821dea74ff9a8a57da34439cf07",
            "e1f32d82abca4f0fa50061c3c357365d",
            "d05ac926c3264a6997b9f93cf8627ee7",
            "023bb4299d5a49c1909968344c20ead0",
            "d429ce5c8dd149fd8831a10aa8a6e19d",
            "c346fb75b5934031b172a09f7a226b6a",
            "e4cdbfd8116d40c39fffb48066be65f0",
            "074b2c0ffa0145a0b2888035c02f346a",
            "e35d4583abcb4079a972a3b172316fca",
            "a819d23b64c34dec9ded48c71c97b437",
            "1549a50e7fa54d26873109e7001dc0df",
            "688401f8f4b04c758ae56c8548c3e59a",
            "bf589c0a0d894a4eb480a15b9d93f4df",
            "7c973e180f56463ca76f78a3d8074b14",
            "0c97ed9339dd42c39331e201f1979076",
            "14fe78f8e9ab49daaa9283caaf6c57bb",
            "d0a4214d331e4920845d8524328c3513",
            "c8e7fe90f65247dd91869f90be5000a2",
            "9ced0baa234a470e80dc545fec2e0b11",
            "3cd8c972904442fb8bba74ae50ac6855",
            "8438fb07641349a5b99d9bbb406b2223",
            "c78e250d45b04bf29b4c8acc3099a66f",
            "fafdf75d78994b79ba36ffaf045ba61b",
            "1c93307685584b129b335926ab11a68b",
            "c25852d35d954e9da16e77701d0b966c",
            "b01bbba889e146d8bb61d5f62c047895",
            "fc99354b0e7047caaeb8058f0709756e",
            "dbbfc6b2d78445d8afd1e6845d40d40e",
            "37ae28129af3428fae6a4466393e3836",
            "ae2cbf7f531545aca471ee9c58f23f32",
            "e62ae4ff5b84435691d9c593e6099afd",
            "60a09cda971f4eb69b1aef4cb2f5fb39",
            "a9077299d1994cfc8c3e2cdf3a18df0e",
            "a7a4d67dc734475f877086c2dffd9f9b",
            "21de7a10be3443feb64e0e44ae0692f1",
            "f96aa9e1f856491494dc914b9560111e",
            "99247309e5be451ea11a8cc96688e6a6",
            "6e2fe8ed1426482c90f82d927b979eaf",
            "c6a6c5c5a7d340a5a3f68e21e85bd7b9",
            "18a6f2d637074ae8a888965ec72507fc",
            "11d35acf3f2e48fbb768eaf527cad308",
            "6541b0c26a4b47988ed03787a84bbbec",
            "6e06054500294cc69646c0276b7dc01e",
            "a988ab84ab474b0684ff728d4414e338",
            "3bbc321ac10c4d04b853858013bec467",
            "b6a2390693ce4f8b8700ad53137401ac",
            "537c63b85c8b43a1b098344845148249",
            "0431db9a20ff4d57a1c7e137a974bdf1",
            "8b77ad3e84ea44b38229e16d77a92589",
            "817bd23113e346b084463a281547a212",
            "ad0d62b75c514505a46c7ba49ad21216",
            "3195bd9ca95e4fddb9ccd06855cf61a1",
            "544aed13e22f4fea9d99e5d2381ba114",
            "b6620459277549d5ae4ed2b124e749fc",
            "c59966c649dc48238a0588dccc6d922d",
            "5dc8726a0a714ac59065062d44196200",
            "e46870f97fce42acb14fac46706a231f",
            "673d1dc95000400a956331315af0495a",
            "664cf6b7c9c143ae93988513da38cc34",
            "95c2945a9edb4fb687c62bd060ed2bf9",
            "f4545a95cf8f4ce997d1b9ad15e78b6a",
            "05d761c8ad164442a7fbe8e3d2608588",
            "54b44653e2c2432396ee2868f807075e",
            "054b25b880ac45409532f0efefa9993b",
            "2dd7601a46154c5c95586be5c25747c2",
            "60fd6a251ae246a1a64eab817d6fede5",
            "48c0e2a6a0a14af09596915d16a4e813",
            "57f7b64107314e3480f3c6a9fe15a273",
            "d82c204f033a49ed90be5a8a07b8b1b8",
            "241e89ee30e84bb7afebcb776d4ee645",
            "9910935e9c1a432b9b6829370bd7e56a",
            "7d7df5f492c24500997153490f98be3d",
            "d2a4aadfe1db46ed85d5ff7105ee7790",
            "825527c57ae64209961b27a2d0aff316",
            "e8695a7a01a8405db0ab1677aaf114e2",
            "1a73414233fe4a73b9f9a5e0a621ebdb",
            "8890723613714211bebd0a7f288ec4e6",
            "6276773683ce41ca9543d873d4cf7aaa",
            "e65315bda91b4b6981b4572de3eae519",
            "efe8f3358e8e4d0281badcbd3a2cc2b7",
            "23736d8de85448babef36c4bbfe11d77",
            "93abd674bdb24b54a0cb152579efacfd",
            "3c268f4c199f476d884ea5fdfddf5903",
            "293e699d6a49454b953e8c2c57dbbab0",
            "22984d46cf6241b38980c938b3ab0915",
            "752883df446842d5b16d47ff1c706545",
            "2047bcacc74a4133a86570a176e403b6",
            "ed72c49283634d1cb30eea7b5a69f668",
            "2099f158066e49e2872e6a253fe7fc8e",
            "a0d544a64e434175954e4c7d326f0fa2",
            "a9a0a263ff2c4d69846f30c9bb48b6ca",
            "84866a055ad84389a4616339d0658830",
            "447dfecf9b234ac4bbc3f9f3ff15cb8e",
            "7a67bdd43013485583be1208e7f0afb5",
            "0f739656b8484833b4bbcbfd8ef5e9e5",
            "36478a53be934ac790743c1e49302a46",
            "1fc9f48cd1044ca393774170c16c087e",
            "be58b0ade6c849d39fca74f59fb4bc80",
            "2a5422dcbf0a4c6bbb1878d4d74354c1",
            "8d84fd12f1e64978856d6386d7ed71f5",
            "38949351d62d4627954a017d6dbb74f6",
            "b29441bfac8f47dcac3653fa41b32a5d",
            "8b3a028f8f164f3f8349dafd8f430eca",
            "041369b39a5f4751938ece142aea38fc",
            "ccd7acccbf8c448fb5bf09cdee909022",
            "5b4acebd57df4e7cb6aef616e7b3a13c",
            "cb33f8a9d3744d9799060ea2104e2ed2",
            "37bdbf620b974fd38d752d83778bc2ff",
            "2e4a223396344f4f88877ba545f7c24e",
            "a6790cd090e0428382b71a5045d6c7ea",
            "af7892939eab4ab6ab1606ea7a4b22f4",
            "e44934f7014d4caca6bae9bbb91ee9c1",
            "a127f1740dac4001b09e6a3ed93d20f3",
            "1fd132fbd6784adc8125579dc2756666",
            "ef948bb0d2e243778dd922a2b07e6fc4",
            "d3ea533886d24d41a833afd5c668fdea",
            "e967e7b88b274b479eabff3d6ae3a2dd",
            "9e5a4c05380d4a059f40e172cdd322d5",
            "8fb2b3de35da4c678d98e95c6fe27e7d",
            "f418bc66f5d04ab9b3f17d0b8b076181",
            "7dd2ed38de2c40ea8dc9e5d002e46c8d",
            "b812e9fde84348138a77dc3a1d88cf17",
            "6cfb370c97ac440ba225d1196fa2c916",
            "b43c98209bf74655832fc307c84f4cb9",
            "5d9106328f414eb79aaf9987d6aa4957",
            "8c02a3db046c4c3d83b360775c154a34",
            "80f8a485b0174613ba45fe8ab87992fb",
            "376eef5d6ce147658cb74b69ae569414",
            "7c8fa6d74f4643d7bbfd6715c15be55d",
            "942c58a467bb489a9f87da8e47420e8a",
            "aebaf9a429644b1a84cb21e8a92fc1f9",
            "3677387cc6ba4063a011b5d8f92d098d",
            "555e449a089d4857bd36cb7f66de589f",
            "9ac6493987e74bfaa37b4bef1af843ad",
            "8c3b3e3af0b64d8a9b1b518fa4b0de15",
            "5a75e322df80430fbffa096eafb8e168",
            "917fc5d1d61e41c6a10095a8bdd8f68a",
            "5523c6f35e574be1a495f396e99569cf",
            "f0b1228fb72a4ba6a688be5a7e67fed6",
            "e8e6f433f323481eaed3fe82b9a77df2",
            "b3069912a3284b32be90a59fb9e9724a",
            "61933dbc45154fd28ef0230e6a374e6c",
            "6e41bf41345445d38bb63efd1427505b"
          ]
        },
        "id": "vVxw8jj7RwwG",
        "outputId": "ee7d57c2-7e7c-4eaf-9f86-7ac354d634ac"
      },
      "source": [
        "PCA_results = PCA_simulations()"
      ],
      "execution_count": 172,
      "outputs": [
        {
          "output_type": "display_data",
          "data": {
            "application/vnd.jupyter.widget-view+json": {
              "model_id": "176b1821dea74ff9a8a57da34439cf07",
              "version_minor": 0,
              "version_major": 2
            },
            "text/plain": [
              "  0%|          | 0/3 [00:00<?, ?it/s]"
            ]
          },
          "metadata": {}
        },
        {
          "output_type": "display_data",
          "data": {
            "application/vnd.jupyter.widget-view+json": {
              "model_id": "688401f8f4b04c758ae56c8548c3e59a",
              "version_minor": 0,
              "version_major": 2
            },
            "text/plain": [
              "  0%|          | 0/3 [00:00<?, ?it/s]"
            ]
          },
          "metadata": {}
        },
        {
          "output_type": "display_data",
          "data": {
            "application/vnd.jupyter.widget-view+json": {
              "model_id": "fafdf75d78994b79ba36ffaf045ba61b",
              "version_minor": 0,
              "version_major": 2
            },
            "text/plain": [
              "  0%|          | 0/14751 [00:00<?, ?it/s]"
            ]
          },
          "metadata": {}
        },
        {
          "output_type": "display_data",
          "data": {
            "application/vnd.jupyter.widget-view+json": {
              "model_id": "a7a4d67dc734475f877086c2dffd9f9b",
              "version_minor": 0,
              "version_major": 2
            },
            "text/plain": [
              "  0%|          | 0/14751 [00:00<?, ?it/s]"
            ]
          },
          "metadata": {}
        },
        {
          "output_type": "display_data",
          "data": {
            "application/vnd.jupyter.widget-view+json": {
              "model_id": "3bbc321ac10c4d04b853858013bec467",
              "version_minor": 0,
              "version_major": 2
            },
            "text/plain": [
              "  0%|          | 0/14751 [00:00<?, ?it/s]"
            ]
          },
          "metadata": {}
        },
        {
          "output_type": "display_data",
          "data": {
            "application/vnd.jupyter.widget-view+json": {
              "model_id": "5dc8726a0a714ac59065062d44196200",
              "version_minor": 0,
              "version_major": 2
            },
            "text/plain": [
              "  0%|          | 0/3 [00:00<?, ?it/s]"
            ]
          },
          "metadata": {}
        },
        {
          "output_type": "display_data",
          "data": {
            "application/vnd.jupyter.widget-view+json": {
              "model_id": "48c0e2a6a0a14af09596915d16a4e813",
              "version_minor": 0,
              "version_major": 2
            },
            "text/plain": [
              "  0%|          | 0/14751 [00:00<?, ?it/s]"
            ]
          },
          "metadata": {}
        },
        {
          "output_type": "display_data",
          "data": {
            "application/vnd.jupyter.widget-view+json": {
              "model_id": "6276773683ce41ca9543d873d4cf7aaa",
              "version_minor": 0,
              "version_major": 2
            },
            "text/plain": [
              "  0%|          | 0/14751 [00:00<?, ?it/s]"
            ]
          },
          "metadata": {}
        },
        {
          "output_type": "display_data",
          "data": {
            "application/vnd.jupyter.widget-view+json": {
              "model_id": "2099f158066e49e2872e6a253fe7fc8e",
              "version_minor": 0,
              "version_major": 2
            },
            "text/plain": [
              "  0%|          | 0/14751 [00:00<?, ?it/s]"
            ]
          },
          "metadata": {}
        },
        {
          "output_type": "display_data",
          "data": {
            "application/vnd.jupyter.widget-view+json": {
              "model_id": "8d84fd12f1e64978856d6386d7ed71f5",
              "version_minor": 0,
              "version_major": 2
            },
            "text/plain": [
              "  0%|          | 0/3 [00:00<?, ?it/s]"
            ]
          },
          "metadata": {}
        },
        {
          "output_type": "display_data",
          "data": {
            "application/vnd.jupyter.widget-view+json": {
              "model_id": "af7892939eab4ab6ab1606ea7a4b22f4",
              "version_minor": 0,
              "version_major": 2
            },
            "text/plain": [
              "  0%|          | 0/14751 [00:00<?, ?it/s]"
            ]
          },
          "metadata": {}
        },
        {
          "output_type": "display_data",
          "data": {
            "application/vnd.jupyter.widget-view+json": {
              "model_id": "b812e9fde84348138a77dc3a1d88cf17",
              "version_minor": 0,
              "version_major": 2
            },
            "text/plain": [
              "  0%|          | 0/14751 [00:00<?, ?it/s]"
            ]
          },
          "metadata": {}
        },
        {
          "output_type": "display_data",
          "data": {
            "application/vnd.jupyter.widget-view+json": {
              "model_id": "555e449a089d4857bd36cb7f66de589f",
              "version_minor": 0,
              "version_major": 2
            },
            "text/plain": [
              "  0%|          | 0/14751 [00:00<?, ?it/s]"
            ]
          },
          "metadata": {}
        }
      ]
    },
    {
      "cell_type": "code",
      "metadata": {
        "id": "gJD7ejnpjxLU",
        "colab": {
          "base_uri": "https://localhost:8080/"
        },
        "outputId": "ad44dec7-a70a-4c45-ba04-81211f082c94"
      },
      "source": [
        "try:\n",
        "  with open(\"PCA_results.json\") as jsonFile:\n",
        "    PCA_results = json.load(jsonFile)\n",
        "    jsonFile.close()\n",
        "except:\n",
        "  PCA_results = PCA_simulations()\n",
        "  with open(\"PCA_results.json\", 'w') as fd:\n",
        "    json.dump(PCA_results, fd)\n",
        "\n",
        "print(PCA_results)"
      ],
      "execution_count": 81,
      "outputs": [
        {
          "output_type": "stream",
          "name": "stdout",
          "text": [
            "[[10, 'cosine', 10, 0.005372866838191224, 'map'], [10, 'cosine', 20, 0.00655746121486703, 'map'], [10, 'cosine', 30, 0.007166547086220068, 'map'], [10, 'cosine', 10, 0.005372866838191224, 'ndcg'], [10, 'cosine', 20, 0.00655746121486703, 'ndcg'], [10, 'cosine', 30, 0.007166547086220068, 'ndcg'], [10, 'euclidean', 10, 0.002476883461223506, 'map'], [10, 'euclidean', 20, 0.0034525840578056707, 'map'], [10, 'euclidean', 30, 0.003950227112714821, 'map'], [10, 'euclidean', 10, 0.002476883461223506, 'ndcg'], [10, 'euclidean', 20, 0.0034525840578056707, 'ndcg'], [10, 'euclidean', 30, 0.003950227112714821, 'ndcg'], [10, 'manhattan', 10, 0.002462787026545418, 'map'], [10, 'manhattan', 20, 0.00328158411342362, 'map'], [10, 'manhattan', 30, 0.003765532860948791, 'map'], [10, 'manhattan', 10, 0.002462787026545418, 'ndcg'], [10, 'manhattan', 20, 0.00328158411342362, 'ndcg'], [10, 'manhattan', 30, 0.003765532860948791, 'ndcg'], [50, 'cosine', 10, 0.006414657924725042, 'map'], [50, 'cosine', 20, 0.007758380123176778, 'map'], [50, 'cosine', 30, 0.008453232066021906, 'map'], [50, 'cosine', 10, 0.006414657924725042, 'ndcg'], [50, 'cosine', 20, 0.007758380123176778, 'ndcg'], [50, 'cosine', 30, 0.008453232066021906, 'ndcg'], [50, 'euclidean', 10, 0.003147593975334473, 'map'], [50, 'euclidean', 20, 0.004213927586033828, 'map'], [50, 'euclidean', 30, 0.004823019111367324, 'map'], [50, 'euclidean', 10, 0.003147593975334473, 'ndcg'], [50, 'euclidean', 20, 0.004213927586033828, 'ndcg'], [50, 'euclidean', 30, 0.004823019111367324, 'ndcg'], [50, 'manhattan', 10, 0.005046954040242637, 'map'], [50, 'manhattan', 20, 0.00604718825470455, 'map'], [50, 'manhattan', 30, 0.006486673693468612, 'map'], [50, 'manhattan', 10, 0.005046954040242637, 'ndcg'], [50, 'manhattan', 20, 0.00604718825470455, 'ndcg'], [50, 'manhattan', 30, 0.006486673693468612, 'ndcg'], [100, 'cosine', 10, 0.005956927321580573, 'map'], [100, 'cosine', 20, 0.0072857107958049965, 'map'], [100, 'cosine', 30, 0.007981606826681873, 'map'], [100, 'cosine', 10, 0.005956927321580573, 'ndcg'], [100, 'cosine', 20, 0.0072857107958049965, 'ndcg'], [100, 'cosine', 30, 0.007981606826681873, 'ndcg'], [100, 'euclidean', 10, 0.005834282959562605, 'map'], [100, 'euclidean', 20, 0.006791861685314372, 'map'], [100, 'euclidean', 30, 0.007322566551436711, 'map'], [100, 'euclidean', 10, 0.005834282959562605, 'ndcg'], [100, 'euclidean', 20, 0.006791861685314372, 'ndcg'], [100, 'euclidean', 30, 0.007322566551436711, 'ndcg'], [100, 'manhattan', 10, 0.004205364608049181, 'map'], [100, 'manhattan', 20, 0.005339846056052434, 'map'], [100, 'manhattan', 30, 0.006054307012701122, 'map'], [100, 'manhattan', 10, 0.004205364608049181, 'ndcg'], [100, 'manhattan', 20, 0.005339846056052434, 'ndcg'], [100, 'manhattan', 30, 0.006054307012701122, 'ndcg']]\n"
          ]
        }
      ]
    },
    {
      "cell_type": "markdown",
      "metadata": {
        "id": "URIB88os5-E6"
      },
      "source": [
        "### Análisis de sensibilidad de resultados "
      ]
    },
    {
      "cell_type": "code",
      "metadata": {
        "id": "M7GCxWHGy-kO"
      },
      "source": [
        "PCA_results_dataframe = pd.DataFrame(PCA_results, columns=['n_components', 'metric_', 'rank_', 'result', 'method'])\n",
        "PCA_map_results = PCA_results_dataframe[PCA_results_dataframe.method == 'map']\n",
        "PCA_ndcg = PCA_results_dataframe[PCA_results_dataframe.method == 'ndcg']"
      ],
      "execution_count": 178,
      "outputs": []
    },
    {
      "cell_type": "code",
      "metadata": {
        "id": "NtV1tEM2y-s8",
        "colab": {
          "base_uri": "https://localhost:8080/",
          "height": 389
        },
        "outputId": "edf5cce6-f7c2-411d-e457-9532b7edd6a6"
      },
      "source": [
        "g = sns.FacetGrid(PCA_map_results.rename(columns={\"metric_\": \"metric\"}), col='metric')\n",
        "g.map_dataframe(sns.barplot, x='n_components', y='result', hue='rank_', ci=None, palette=\"PuBuGn\")\n",
        "g.add_legend(title=\"mAP at top K\")\n",
        "plt.gcf().set_size_inches(14, 6)\n",
        "plt.savefig(\"pca-map-sensibility.png\")"
      ],
      "execution_count": 179,
      "outputs": [
        {
          "output_type": "display_data",
          "data": {
            "image/png": "[encoded data removed]",
            "text/plain": [
              "<Figure size 1008x432 with 3 Axes>"
            ]
          },
          "metadata": {
            "needs_background": "light"
          }
        }
      ]
    },
    {
      "cell_type": "code",
      "metadata": {
        "id": "JvtKQod0wBvy",
        "colab": {
          "base_uri": "https://localhost:8080/",
          "height": 389
        },
        "outputId": "7ad2e23a-35bc-4f7c-812e-f41ffd963d38"
      },
      "source": [
        "v = sns.FacetGrid(PCA_ndcg.rename(columns={\"metric_\": \"metric\"}), col='metric')\n",
        "v.map_dataframe(sns.barplot, x='n_components', y='result', hue='rank_', ci=None, palette=\"inferno\")\n",
        "v.add_legend(title=\"nDCG at top K\")\n",
        "plt.gcf().set_size_inches(14, 6)\n",
        "plt.savefig(\"pca-ndcg-sensibility.png\")"
      ],
      "execution_count": 180,
      "outputs": [
        {
          "output_type": "display_data",
          "data": {
            "image/png": "[encoded data removed]",
            "text/plain": [
              "<Figure size 1008x432 with 3 Axes>"
            ]
          },
          "metadata": {
            "needs_background": "light"
          }
        }
      ]
    },
    {
      "cell_type": "markdown",
      "metadata": {
        "id": "5WiQ38Ndy_fT"
      },
      "source": [
        "## **Actividad 5: Comparación de métodos**\n",
        "<a id='ac05'></a>\n",
        "- [X] Tabla comparativa de los resultados \n",
        "- [X] Análisis y discusión de los resultados\n",
        "- [X] 10 recomendaciones por cada usuario del dataset de testing"
      ]
    },
    {
      "cell_type": "code",
      "metadata": {
        "id": "JPr3r-Ys1kXk"
      },
      "source": [
        "BPR_ALS_MAP_only = processed_BPR_ALS_results_dataframe.drop(columns=[\"ndcg\"]).rename(columns={\"map\": \"result\"})\n",
        "BPR_ALS_NDCG_only = processed_BPR_ALS_results_dataframe.drop(columns=[\"map\"]).rename(columns={\"ndcg\": \"result\"})\n",
        "BPR_ALS_MAP_only[\"evaluation\"] = \"map\"\n",
        "BPR_ALS_NDCG_only[\"evaluation\"] = \"ndcg\""
      ],
      "execution_count": 181,
      "outputs": []
    },
    {
      "cell_type": "code",
      "metadata": {
        "colab": {
          "base_uri": "https://localhost:8080/",
          "height": 238
        },
        "id": "YLunJOXwaFlJ",
        "outputId": "c4f284eb-0d53-47dc-98d0-79c3921098a4"
      },
      "source": [
        "random_df"
      ],
      "execution_count": 93,
      "outputs": [
        {
          "output_type": "execute_result",
          "data": {
            "text/html": [
              "<div>\n",
              "<style scoped>\n",
              "    .dataframe tbody tr th:only-of-type {\n",
              "        vertical-align: middle;\n",
              "    }\n",
              "\n",
              "    .dataframe tbody tr th {\n",
              "        vertical-align: top;\n",
              "    }\n",
              "\n",
              "    .dataframe thead th {\n",
              "        text-align: right;\n",
              "    }\n",
              "</style>\n",
              "<table border=\"1\" class=\"dataframe\">\n",
              "  <thead>\n",
              "    <tr style=\"text-align: right;\">\n",
              "      <th></th>\n",
              "      <th>rank_</th>\n",
              "      <th>result</th>\n",
              "      <th>evaluation</th>\n",
              "      <th>method</th>\n",
              "    </tr>\n",
              "  </thead>\n",
              "  <tbody>\n",
              "    <tr>\n",
              "      <th>0</th>\n",
              "      <td>10</td>\n",
              "      <td>0.002001</td>\n",
              "      <td>map</td>\n",
              "      <td>Random</td>\n",
              "    </tr>\n",
              "    <tr>\n",
              "      <th>1</th>\n",
              "      <td>20</td>\n",
              "      <td>0.002488</td>\n",
              "      <td>map</td>\n",
              "      <td>Random</td>\n",
              "    </tr>\n",
              "    <tr>\n",
              "      <th>2</th>\n",
              "      <td>30</td>\n",
              "      <td>0.002817</td>\n",
              "      <td>map</td>\n",
              "      <td>Random</td>\n",
              "    </tr>\n",
              "    <tr>\n",
              "      <th>3</th>\n",
              "      <td>10</td>\n",
              "      <td>0.007050</td>\n",
              "      <td>ndcg</td>\n",
              "      <td>Random</td>\n",
              "    </tr>\n",
              "    <tr>\n",
              "      <th>4</th>\n",
              "      <td>20</td>\n",
              "      <td>0.014169</td>\n",
              "      <td>ndcg</td>\n",
              "      <td>Random</td>\n",
              "    </tr>\n",
              "    <tr>\n",
              "      <th>5</th>\n",
              "      <td>30</td>\n",
              "      <td>0.022371</td>\n",
              "      <td>ndcg</td>\n",
              "      <td>Random</td>\n",
              "    </tr>\n",
              "  </tbody>\n",
              "</table>\n",
              "</div>"
            ],
            "text/plain": [
              "   rank_    result evaluation  method\n",
              "0     10  0.002001        map  Random\n",
              "1     20  0.002488        map  Random\n",
              "2     30  0.002817        map  Random\n",
              "3     10  0.007050       ndcg  Random\n",
              "4     20  0.014169       ndcg  Random\n",
              "5     30  0.022371       ndcg  Random"
            ]
          },
          "metadata": {},
          "execution_count": 93
        }
      ]
    },
    {
      "cell_type": "code",
      "metadata": {
        "id": "yLRQta121PeU",
        "colab": {
          "base_uri": "https://localhost:8080/"
        },
        "outputId": "97b205f5-58f1-4f81-cceb-d82471377680"
      },
      "source": [
        "PCA_ndcg[\"evaluation\"] = \"ndcg\"\n",
        "PCA_ndcg['method'] = 'PCA'\n",
        "PCA_map_results[\"evaluation\"] = \"map\"\n",
        "PCA_map_results['method'] = 'PCA'\n",
        "most_popular_df['method'] = 'Most Popular'\n",
        "random_df['method'] = 'Random'\n",
        "\n"
      ],
      "execution_count": 187,
      "outputs": [
        {
          "output_type": "stream",
          "name": "stderr",
          "text": [
            "/usr/local/lib/python3.7/dist-packages/ipykernel_launcher.py:1: SettingWithCopyWarning: \n",
            "A value is trying to be set on a copy of a slice from a DataFrame.\n",
            "Try using .loc[row_indexer,col_indexer] = value instead\n",
            "\n",
            "See the caveats in the documentation: https://pandas.pydata.org/pandas-docs/stable/user_guide/indexing.html#returning-a-view-versus-a-copy\n",
            "  \"\"\"Entry point for launching an IPython kernel.\n",
            "/usr/local/lib/python3.7/dist-packages/ipykernel_launcher.py:2: SettingWithCopyWarning: \n",
            "A value is trying to be set on a copy of a slice from a DataFrame.\n",
            "Try using .loc[row_indexer,col_indexer] = value instead\n",
            "\n",
            "See the caveats in the documentation: https://pandas.pydata.org/pandas-docs/stable/user_guide/indexing.html#returning-a-view-versus-a-copy\n",
            "  \n",
            "/usr/local/lib/python3.7/dist-packages/ipykernel_launcher.py:3: SettingWithCopyWarning: \n",
            "A value is trying to be set on a copy of a slice from a DataFrame.\n",
            "Try using .loc[row_indexer,col_indexer] = value instead\n",
            "\n",
            "See the caveats in the documentation: https://pandas.pydata.org/pandas-docs/stable/user_guide/indexing.html#returning-a-view-versus-a-copy\n",
            "  This is separate from the ipykernel package so we can avoid doing imports until\n",
            "/usr/local/lib/python3.7/dist-packages/ipykernel_launcher.py:4: SettingWithCopyWarning: \n",
            "A value is trying to be set on a copy of a slice from a DataFrame.\n",
            "Try using .loc[row_indexer,col_indexer] = value instead\n",
            "\n",
            "See the caveats in the documentation: https://pandas.pydata.org/pandas-docs/stable/user_guide/indexing.html#returning-a-view-versus-a-copy\n",
            "  after removing the cwd from sys.path.\n"
          ]
        }
      ]
    },
    {
      "cell_type": "code",
      "metadata": {
        "colab": {
          "base_uri": "https://localhost:8080/",
          "height": 238
        },
        "id": "ZE1sSfWmZdKW",
        "outputId": "7a9b1324-fae4-4cca-f738-d69c5da555c8"
      },
      "source": [
        "most_popular_df"
      ],
      "execution_count": 99,
      "outputs": [
        {
          "output_type": "execute_result",
          "data": {
            "text/html": [
              "<div>\n",
              "<style scoped>\n",
              "    .dataframe tbody tr th:only-of-type {\n",
              "        vertical-align: middle;\n",
              "    }\n",
              "\n",
              "    .dataframe tbody tr th {\n",
              "        vertical-align: top;\n",
              "    }\n",
              "\n",
              "    .dataframe thead th {\n",
              "        text-align: right;\n",
              "    }\n",
              "</style>\n",
              "<table border=\"1\" class=\"dataframe\">\n",
              "  <thead>\n",
              "    <tr style=\"text-align: right;\">\n",
              "      <th></th>\n",
              "      <th>Unnamed: 0</th>\n",
              "      <th>rank_</th>\n",
              "      <th>result</th>\n",
              "      <th>evaluation</th>\n",
              "      <th>method</th>\n",
              "    </tr>\n",
              "  </thead>\n",
              "  <tbody>\n",
              "    <tr>\n",
              "      <th>0</th>\n",
              "      <td>0</td>\n",
              "      <td>10</td>\n",
              "      <td>0.011027</td>\n",
              "      <td>map</td>\n",
              "      <td>Most Popular</td>\n",
              "    </tr>\n",
              "    <tr>\n",
              "      <th>1</th>\n",
              "      <td>1</td>\n",
              "      <td>10</td>\n",
              "      <td>0.012204</td>\n",
              "      <td>ndcg</td>\n",
              "      <td>Most Popular</td>\n",
              "    </tr>\n",
              "    <tr>\n",
              "      <th>2</th>\n",
              "      <td>2</td>\n",
              "      <td>20</td>\n",
              "      <td>0.012846</td>\n",
              "      <td>map</td>\n",
              "      <td>Most Popular</td>\n",
              "    </tr>\n",
              "    <tr>\n",
              "      <th>3</th>\n",
              "      <td>3</td>\n",
              "      <td>20</td>\n",
              "      <td>0.017417</td>\n",
              "      <td>ndcg</td>\n",
              "      <td>Most Popular</td>\n",
              "    </tr>\n",
              "    <tr>\n",
              "      <th>4</th>\n",
              "      <td>4</td>\n",
              "      <td>30</td>\n",
              "      <td>0.013672</td>\n",
              "      <td>map</td>\n",
              "      <td>Most Popular</td>\n",
              "    </tr>\n",
              "    <tr>\n",
              "      <th>5</th>\n",
              "      <td>5</td>\n",
              "      <td>30</td>\n",
              "      <td>0.021628</td>\n",
              "      <td>ndcg</td>\n",
              "      <td>Most Popular</td>\n",
              "    </tr>\n",
              "  </tbody>\n",
              "</table>\n",
              "</div>"
            ],
            "text/plain": [
              "   Unnamed: 0  rank_    result evaluation        method\n",
              "0           0     10  0.011027        map  Most Popular\n",
              "1           1     10  0.012204       ndcg  Most Popular\n",
              "2           2     20  0.012846        map  Most Popular\n",
              "3           3     20  0.017417       ndcg  Most Popular\n",
              "4           4     30  0.013672        map  Most Popular\n",
              "5           5     30  0.021628       ndcg  Most Popular"
            ]
          },
          "metadata": {},
          "execution_count": 99
        }
      ]
    },
    {
      "cell_type": "code",
      "metadata": {
        "id": "GUok5PeyP1DS"
      },
      "source": [
        "final_analysis_df = pd.concat([PCA_ndcg, PCA_map_results,  BPR_ALS_MAP_only, BPR_ALS_NDCG_only, most_popular_df, random_df]).reset_index().drop(columns=[\"Unnamed: 0\"])\n"
      ],
      "execution_count": 188,
      "outputs": []
    },
    {
      "cell_type": "markdown",
      "metadata": {
        "id": "97rtOPiobi8c"
      },
      "source": [
        "Ahora buscamos la mejor configuración de hiperparámetros para cada método, en función de su rendimiento en la métrica nDCG@30"
      ]
    },
    {
      "cell_type": "markdown",
      "metadata": {
        "id": "YIRWDnLa6DE7"
      },
      "source": [
        "### Tabla comparativa de los resultados "
      ]
    },
    {
      "cell_type": "code",
      "metadata": {
        "colab": {
          "base_uri": "https://localhost:8080/",
          "height": 206
        },
        "id": "I6-noR3Ia2-J",
        "outputId": "1bb8f795-a12d-4ce9-f45c-5aa7c77f5037"
      },
      "source": [
        "final_analysis_df[(final_analysis_df.evaluation == \"ndcg\") & (final_analysis_df.rank_ == 30)].sort_values(by='result', ascending=False).groupby([\"method\", \"evaluation\"]).head(1)"
      ],
      "execution_count": 189,
      "outputs": [
        {
          "output_type": "execute_result",
          "data": {
            "text/html": [
              "<div>\n",
              "<style scoped>\n",
              "    .dataframe tbody tr th:only-of-type {\n",
              "        vertical-align: middle;\n",
              "    }\n",
              "\n",
              "    .dataframe tbody tr th {\n",
              "        vertical-align: top;\n",
              "    }\n",
              "\n",
              "    .dataframe thead th {\n",
              "        text-align: right;\n",
              "    }\n",
              "</style>\n",
              "<table border=\"1\" class=\"dataframe\">\n",
              "  <thead>\n",
              "    <tr style=\"text-align: right;\">\n",
              "      <th></th>\n",
              "      <th>index</th>\n",
              "      <th>n_components</th>\n",
              "      <th>metric_</th>\n",
              "      <th>rank_</th>\n",
              "      <th>result</th>\n",
              "      <th>method</th>\n",
              "      <th>evaluation</th>\n",
              "      <th>latent_factors</th>\n",
              "      <th>max_iter</th>\n",
              "      <th>time</th>\n",
              "    </tr>\n",
              "  </thead>\n",
              "  <tbody>\n",
              "    <tr>\n",
              "      <th>620</th>\n",
              "      <td>11</td>\n",
              "      <td>NaN</td>\n",
              "      <td>NaN</td>\n",
              "      <td>30</td>\n",
              "      <td>0.133144</td>\n",
              "      <td>ALS</td>\n",
              "      <td>ndcg</td>\n",
              "      <td>50.0</td>\n",
              "      <td>40.0</td>\n",
              "      <td>16.877897</td>\n",
              "    </tr>\n",
              "    <tr>\n",
              "      <th>377</th>\n",
              "      <td>8</td>\n",
              "      <td>NaN</td>\n",
              "      <td>NaN</td>\n",
              "      <td>30</td>\n",
              "      <td>0.102840</td>\n",
              "      <td>BPR</td>\n",
              "      <td>ndcg</td>\n",
              "      <td>50.0</td>\n",
              "      <td>110.0</td>\n",
              "      <td>17.116486</td>\n",
              "    </tr>\n",
              "    <tr>\n",
              "      <th>11</th>\n",
              "      <td>23</td>\n",
              "      <td>50.0</td>\n",
              "      <td>cosine</td>\n",
              "      <td>30</td>\n",
              "      <td>0.061013</td>\n",
              "      <td>PCA</td>\n",
              "      <td>ndcg</td>\n",
              "      <td>NaN</td>\n",
              "      <td>NaN</td>\n",
              "      <td>NaN</td>\n",
              "    </tr>\n",
              "    <tr>\n",
              "      <th>695</th>\n",
              "      <td>5</td>\n",
              "      <td>NaN</td>\n",
              "      <td>NaN</td>\n",
              "      <td>30</td>\n",
              "      <td>0.022371</td>\n",
              "      <td>Random</td>\n",
              "      <td>ndcg</td>\n",
              "      <td>NaN</td>\n",
              "      <td>NaN</td>\n",
              "      <td>NaN</td>\n",
              "    </tr>\n",
              "    <tr>\n",
              "      <th>689</th>\n",
              "      <td>5</td>\n",
              "      <td>NaN</td>\n",
              "      <td>NaN</td>\n",
              "      <td>30</td>\n",
              "      <td>0.021628</td>\n",
              "      <td>Most Popular</td>\n",
              "      <td>ndcg</td>\n",
              "      <td>NaN</td>\n",
              "      <td>NaN</td>\n",
              "      <td>NaN</td>\n",
              "    </tr>\n",
              "  </tbody>\n",
              "</table>\n",
              "</div>"
            ],
            "text/plain": [
              "     index  n_components metric_  ...  latent_factors  max_iter       time\n",
              "620     11           NaN     NaN  ...            50.0      40.0  16.877897\n",
              "377      8           NaN     NaN  ...            50.0     110.0  17.116486\n",
              "11      23          50.0  cosine  ...             NaN       NaN        NaN\n",
              "695      5           NaN     NaN  ...             NaN       NaN        NaN\n",
              "689      5           NaN     NaN  ...             NaN       NaN        NaN\n",
              "\n",
              "[5 rows x 10 columns]"
            ]
          },
          "metadata": {},
          "execution_count": 189
        }
      ]
    },
    {
      "cell_type": "markdown",
      "metadata": {
        "id": "Qe8n6wgfbuuj"
      },
      "source": [
        "De manera equivalente, realizamos el análisis para la métrica mAP@30"
      ]
    },
    {
      "cell_type": "code",
      "metadata": {
        "colab": {
          "base_uri": "https://localhost:8080/",
          "height": 206
        },
        "id": "3mK_n5QybYUV",
        "outputId": "f77032c4-05e0-4f51-d519-238eace50c03"
      },
      "source": [
        "final_analysis_df[(final_analysis_df.evaluation == \"map\") & (final_analysis_df.rank_ == 30)].sort_values(by='result', ascending=False).groupby([\"method\", \"evaluation\"]).head(1)"
      ],
      "execution_count": 190,
      "outputs": [
        {
          "output_type": "execute_result",
          "data": {
            "text/html": [
              "<div>\n",
              "<style scoped>\n",
              "    .dataframe tbody tr th:only-of-type {\n",
              "        vertical-align: middle;\n",
              "    }\n",
              "\n",
              "    .dataframe tbody tr th {\n",
              "        vertical-align: top;\n",
              "    }\n",
              "\n",
              "    .dataframe thead th {\n",
              "        text-align: right;\n",
              "    }\n",
              "</style>\n",
              "<table border=\"1\" class=\"dataframe\">\n",
              "  <thead>\n",
              "    <tr style=\"text-align: right;\">\n",
              "      <th></th>\n",
              "      <th>index</th>\n",
              "      <th>n_components</th>\n",
              "      <th>metric_</th>\n",
              "      <th>rank_</th>\n",
              "      <th>result</th>\n",
              "      <th>method</th>\n",
              "      <th>evaluation</th>\n",
              "      <th>latent_factors</th>\n",
              "      <th>max_iter</th>\n",
              "      <th>time</th>\n",
              "    </tr>\n",
              "  </thead>\n",
              "  <tbody>\n",
              "    <tr>\n",
              "      <th>308</th>\n",
              "      <td>14</td>\n",
              "      <td>NaN</td>\n",
              "      <td>NaN</td>\n",
              "      <td>30</td>\n",
              "      <td>0.019522</td>\n",
              "      <td>ALS</td>\n",
              "      <td>map</td>\n",
              "      <td>50.0</td>\n",
              "      <td>50.0</td>\n",
              "      <td>17.007286</td>\n",
              "    </tr>\n",
              "    <tr>\n",
              "      <th>92</th>\n",
              "      <td>38</td>\n",
              "      <td>NaN</td>\n",
              "      <td>NaN</td>\n",
              "      <td>30</td>\n",
              "      <td>0.015077</td>\n",
              "      <td>BPR</td>\n",
              "      <td>map</td>\n",
              "      <td>50.0</td>\n",
              "      <td>610.0</td>\n",
              "      <td>21.153168</td>\n",
              "    </tr>\n",
              "    <tr>\n",
              "      <th>688</th>\n",
              "      <td>4</td>\n",
              "      <td>NaN</td>\n",
              "      <td>NaN</td>\n",
              "      <td>30</td>\n",
              "      <td>0.013672</td>\n",
              "      <td>Most Popular</td>\n",
              "      <td>map</td>\n",
              "      <td>NaN</td>\n",
              "      <td>NaN</td>\n",
              "      <td>NaN</td>\n",
              "    </tr>\n",
              "    <tr>\n",
              "      <th>38</th>\n",
              "      <td>20</td>\n",
              "      <td>50.0</td>\n",
              "      <td>cosine</td>\n",
              "      <td>30</td>\n",
              "      <td>0.008609</td>\n",
              "      <td>PCA</td>\n",
              "      <td>map</td>\n",
              "      <td>NaN</td>\n",
              "      <td>NaN</td>\n",
              "      <td>NaN</td>\n",
              "    </tr>\n",
              "    <tr>\n",
              "      <th>692</th>\n",
              "      <td>2</td>\n",
              "      <td>NaN</td>\n",
              "      <td>NaN</td>\n",
              "      <td>30</td>\n",
              "      <td>0.002817</td>\n",
              "      <td>Random</td>\n",
              "      <td>map</td>\n",
              "      <td>NaN</td>\n",
              "      <td>NaN</td>\n",
              "      <td>NaN</td>\n",
              "    </tr>\n",
              "  </tbody>\n",
              "</table>\n",
              "</div>"
            ],
            "text/plain": [
              "     index  n_components metric_  ...  latent_factors  max_iter       time\n",
              "308     14           NaN     NaN  ...            50.0      50.0  17.007286\n",
              "92      38           NaN     NaN  ...            50.0     610.0  21.153168\n",
              "688      4           NaN     NaN  ...             NaN       NaN        NaN\n",
              "38      20          50.0  cosine  ...             NaN       NaN        NaN\n",
              "692      2           NaN     NaN  ...             NaN       NaN        NaN\n",
              "\n",
              "[5 rows x 10 columns]"
            ]
          },
          "metadata": {},
          "execution_count": 190
        }
      ]
    },
    {
      "cell_type": "code",
      "metadata": {
        "id": "ydpizHEw6385"
      },
      "source": [
        "final_analysis_df.to_csv('FinalAnalysis.CSV')"
      ],
      "execution_count": 109,
      "outputs": []
    },
    {
      "cell_type": "code",
      "metadata": {
        "id": "0SVpu8YQzUw8",
        "colab": {
          "base_uri": "https://localhost:8080/",
          "height": 49,
          "referenced_widgets": [
            "bd2042a6eb7a4b32a46a2062c70a0a4a",
            "7b26e047ffd64fb98b5a20e0c47bacb1",
            "3f3dc80b6497493aba17d08b30ab78c6",
            "02b3675334de466790a409b1253b0e03",
            "5909e2c5308d47279031afaeab686358",
            "fb9bd9a517c544d991d0a63f4782e6d6",
            "8929f8fca4174f449f2ae7b78a01113d",
            "1f9e875fbe5c429f91fae0f4cab1413c",
            "9ef0e35a5780489c8fa6520fbe13b03e",
            "b6334bc341514067b3876133d495eba2",
            "f0ae183052c64e6b8d3436eadbd8c041"
          ]
        },
        "outputId": "6b6f280e-98b2-4c79-df0b-0c6d3a9a6357"
      },
      "source": [
        "best_model_als = implicit.als.AlternatingLeastSquares(factors=50, iterations=40, use_gpu=True)\n",
        "best_model_als.fit(matrix)\n",
        "\n",
        "def best_recommender(user: int, n: int):\n",
        "    remapped_user = user_df_to_incr_ids[user]\n",
        "    return [int(anime_incr_ids_to_df[t[0]]) for t in best_model_als.recommend(remapped_user, user_item_matrix, n)]"
      ],
      "execution_count": 124,
      "outputs": [
        {
          "output_type": "display_data",
          "data": {
            "application/vnd.jupyter.widget-view+json": {
              "model_id": "bd2042a6eb7a4b32a46a2062c70a0a4a",
              "version_minor": 0,
              "version_major": 2
            },
            "text/plain": [
              "  0%|          | 0/40 [00:00<?, ?it/s]"
            ]
          },
          "metadata": {}
        }
      ]
    },
    {
      "cell_type": "markdown",
      "metadata": {
        "id": "nHCKygcR6FTK"
      },
      "source": [
        "### Análisis y discusión de los resultados"
      ]
    },
    {
      "cell_type": "markdown",
      "metadata": {
        "id": "jDPH4mWNlBBN"
      },
      "source": [
        "Se observa a primera vista que los recomendadores random y most-popular constituyen un buen *baseline* con el cual comparar. Como dato anecdótico,\n",
        "hasta 24 horas antes de la fecha de entrega, el recomendador random\n",
        "era el mejor método, debido a un error en la recomendación en los métodos\n",
        "de factorización matricial.\n",
        "Sin embargo, una vez resuelto, estos métodos superaron con holgura\n",
        "a los *baselines*.\n",
        "\n",
        "Un análisis interesante corresponde a la convergencia en función del \n",
        "número de iteraciones de entrenamiento para los métodos MF.\n",
        "En particular, se detectó que a medida que se aumentaba la dimensión\n",
        "latente, usualmente el rendimiento alcanzaba un máximo y luego decrecía al aumentar las iteraciones. Una hipótesis factible que explica este fenómeno\n",
        "es la posibilidad de _overfitting_ a mayor cantidad de factores latentes.\n",
        "De hecho, en los logs de entrenamiento, la mayoría de estos métodos\n",
        "alcanzaba un AUC extremadamente cercano a 1, por lo que se aprendían\n",
        "los datos de *train* sin generalizar bien a *validation*.\n"
      ]
    },
    {
      "cell_type": "code",
      "metadata": {
        "colab": {
          "base_uri": "https://localhost:8080/",
          "height": 405
        },
        "id": "ZSgBRul9yPmB",
        "outputId": "d0137023-5476-4675-b9af-43096057d396"
      },
      "source": [
        "sns.pointplot(data=bpr_results_df[bpr_results_df.rank_==30], x=\"max_iter\", y=\"ndcg\", hue=\"latent_factors\")\n",
        "plt.title(\"Rendimiento nDCG@30 BPR en función de iteraciones\")\n",
        "plt.gcf().set_size_inches(14, 6)\n",
        "plt.savefig(\"bpr-max-iter-sensibility.png\")"
      ],
      "execution_count": 183,
      "outputs": [
        {
          "output_type": "display_data",
          "data": {
            "image/png": "[encoded data removed]",
            "text/plain": [
              "<Figure size 1008x432 with 1 Axes>"
            ]
          },
          "metadata": {
            "needs_background": "light"
          }
        }
      ]
    },
    {
      "cell_type": "code",
      "metadata": {
        "colab": {
          "base_uri": "https://localhost:8080/",
          "height": 405
        },
        "id": "vftnbxE2oGxT",
        "outputId": "afd42cf0-b87a-4613-91cd-53bd67b583a7"
      },
      "source": [
        "sns.pointplot(data=als_results_df[als_results_df.rank_==30], x=\"max_iter\", y=\"ndcg\", hue=\"latent_factors\")\n",
        "plt.title(\"Rendimiento nDCG@30 ALS en función de iteraciones\")\n",
        "plt.gcf().set_size_inches(14, 6)\n",
        "plt.savefig(\"als-max-iter-sensibility.png\")"
      ],
      "execution_count": 184,
      "outputs": [
        {
          "output_type": "display_data",
          "data": {
            "image/png": "[encoded data removed]",
            "text/plain": [
              "<Figure size 1008x432 with 1 Axes>"
            ]
          },
          "metadata": {
            "needs_background": "light"
          }
        }
      ]
    },
    {
      "cell_type": "markdown",
      "metadata": {
        "id": "1RuHjSIz6JKW"
      },
      "source": [
        "### 10 recomendaciones por cada usuario del dataset de testing"
      ]
    },
    {
      "cell_type": "code",
      "metadata": {
        "id": "mIYTmKT0zU2e",
        "colab": {
          "base_uri": "https://localhost:8080/"
        },
        "outputId": "b6ca2926-b02b-4e8d-c191-7ab75bed5e43"
      },
      "source": [
        "rec_results = {}\n",
        "\n",
        "for user_id in tqdm.tqdm(test_users_df.user_id.unique()):\n",
        "  rec_results[int(user_id)] = best_recommender(user_id, 10)\n",
        "\n",
        "with open(\"test_predictions.json\", 'w') as fd:\n",
        "    json.dump(rec_results, fd, indent=2)"
      ],
      "execution_count": 126,
      "outputs": [
        {
          "output_type": "stream",
          "name": "stderr",
          "text": [
            "100%|██████████| 14893/14893 [00:05<00:00, 2713.45it/s]\n"
          ]
        }
      ]
    },
    {
      "cell_type": "markdown",
      "metadata": {
        "id": "xaxnRAuazVN9"
      },
      "source": [
        "## **Actividad 6: Ejemplos de recomendación de Anime**\n",
        "<a id='ac06'></a>\n",
        "\n",
        "- [X] Seleccionar 3 usuarios de ejemplo del dataset de testing y desplegar información de los 10 elementos que le fueron recomendados.\n",
        "- [X] Seleccionar e indicar animes previamente vistos por cada usuario escogido.\n",
        "- [X] Comentar brevemente los resultados."
      ]
    },
    {
      "cell_type": "markdown",
      "metadata": {
        "id": "QC51xNTIe-Lh"
      },
      "source": [
        "A continuación, revisaremos los usuarios con menor y mayor cantidad de ratings\n",
        "en train, y así evaluar la calidad de la recomendación para ambos extremos.\n",
        "En seguida, se evaluará también un usuario intermedio."
      ]
    },
    {
      "cell_type": "code",
      "metadata": {
        "id": "lBoMS9qK6I8r",
        "colab": {
          "base_uri": "https://localhost:8080/"
        },
        "outputId": "cf4a3455-ac95-4250-fa04-289da9edb405"
      },
      "source": [
        "train_df[train_df.user_id.isin(test_users_df.user_id.unique())].user_id.value_counts(ascending=True)"
      ],
      "execution_count": 128,
      "outputs": [
        {
          "output_type": "execute_result",
          "data": {
            "text/plain": [
              "29392      40\n",
              "11772      41\n",
              "231982     42\n",
              "352946     43\n",
              "95296      44\n",
              "         ... \n",
              "118419    128\n",
              "303684    128\n",
              "214484    129\n",
              "6088      129\n",
              "297988    134\n",
              "Name: user_id, Length: 14893, dtype: int64"
            ]
          },
          "metadata": {},
          "execution_count": 128
        }
      ]
    },
    {
      "cell_type": "markdown",
      "metadata": {
        "id": "a2hl2-vOfNG5"
      },
      "source": [
        "El usuario de testing con menos ratings en train es `29392`, mientras que el más activo es `297988`."
      ]
    },
    {
      "cell_type": "code",
      "metadata": {
        "colab": {
          "base_uri": "https://localhost:8080/"
        },
        "id": "mDcwbZeRfveI",
        "outputId": "01e359a1-8557-445e-ca23-193320d7eae0"
      },
      "source": [
        "train_df[train_df.user_id.isin(test_users_df.user_id.unique())].user_id.value_counts(ascending=True).index.tolist()[14893//2]"
      ],
      "execution_count": 136,
      "outputs": [
        {
          "output_type": "execute_result",
          "data": {
            "text/plain": [
              "46569"
            ]
          },
          "metadata": {},
          "execution_count": 136
        }
      ]
    },
    {
      "cell_type": "markdown",
      "metadata": {
        "id": "FnvdxXsugTKu"
      },
      "source": [
        "Un usuario de testing con cantidad intermedia de ratings es `46569`."
      ]
    },
    {
      "cell_type": "markdown",
      "metadata": {
        "id": "buMe2-mfmQMc"
      },
      "source": [
        "Veamos, en primer lugar, qué ratings han hecho los usuarios seleccionados\n",
        "para el análisis en los datos de _train_."
      ]
    },
    {
      "cell_type": "code",
      "metadata": {
        "id": "cTNX9lMXzkkZ",
        "colab": {
          "base_uri": "https://localhost:8080/",
          "height": 597
        },
        "outputId": "9d4c8afd-0337-4bbc-99d9-10ae0727adbf"
      },
      "source": [
        "selected_three_users = [29392, 297988, 46569]\n",
        "rated_animes = train_df[train_df.user_id.isin(selected_three_users)][['user_id', 'anime_id']]\n",
        "\n",
        "selected_users_anime_info = rated_animes.join(anime_info.set_index('anime_id'), on='anime_id')\n",
        "selected_users_anime_info"
      ],
      "execution_count": 138,
      "outputs": [
        {
          "output_type": "execute_result",
          "data": {
            "text/html": [
              "<div>\n",
              "<style scoped>\n",
              "    .dataframe tbody tr th:only-of-type {\n",
              "        vertical-align: middle;\n",
              "    }\n",
              "\n",
              "    .dataframe tbody tr th {\n",
              "        vertical-align: top;\n",
              "    }\n",
              "\n",
              "    .dataframe thead th {\n",
              "        text-align: right;\n",
              "    }\n",
              "</style>\n",
              "<table border=\"1\" class=\"dataframe\">\n",
              "  <thead>\n",
              "    <tr style=\"text-align: right;\">\n",
              "      <th></th>\n",
              "      <th>user_id</th>\n",
              "      <th>anime_id</th>\n",
              "      <th>Name</th>\n",
              "      <th>Genres</th>\n",
              "      <th>Synopsis</th>\n",
              "      <th>content</th>\n",
              "      <th>content_embeddings</th>\n",
              "    </tr>\n",
              "  </thead>\n",
              "  <tbody>\n",
              "    <tr>\n",
              "      <th>2080</th>\n",
              "      <td>297988</td>\n",
              "      <td>39792</td>\n",
              "      <td>Eizouken ni wa Te wo Dasu na!</td>\n",
              "      <td>Adventure, Comedy, School, Seinen</td>\n",
              "      <td>dori Asakusa sees the world a bit differently....</td>\n",
              "      <td>eizouken ni wa te wo dasu na adventure comedy ...</td>\n",
              "      <td>[0.0040238313, -0.023263225, 0.051207397, 0.00...</td>\n",
              "    </tr>\n",
              "    <tr>\n",
              "      <th>2971</th>\n",
              "      <td>297988</td>\n",
              "      <td>24997</td>\n",
              "      <td>Love Live! The School Idol Movie</td>\n",
              "      <td>Music, School, Slice of Life</td>\n",
              "      <td>Hot on the heels of the third year students' g...</td>\n",
              "      <td>love live the school idol movie music school s...</td>\n",
              "      <td>[0.018229159, -0.06500579, 0.056879036, 0.0077...</td>\n",
              "    </tr>\n",
              "    <tr>\n",
              "      <th>5008</th>\n",
              "      <td>46569</td>\n",
              "      <td>17831</td>\n",
              "      <td>Inu to Hasami wa Tsukaiyou</td>\n",
              "      <td>Comedy, Supernatural</td>\n",
              "      <td>onsense comical mystery. Harumi Kazuhito is a ...</td>\n",
              "      <td>inu to hasami wa tsukaiyou comedy supernatural...</td>\n",
              "      <td>[-0.034103345, 0.019513372, 0.058939904, 0.016...</td>\n",
              "    </tr>\n",
              "    <tr>\n",
              "      <th>11789</th>\n",
              "      <td>297988</td>\n",
              "      <td>31715</td>\n",
              "      <td>Working!!!: Lord of the Takanashi</td>\n",
              "      <td>Comedy, Romance, Seinen, Slice of Life</td>\n",
              "      <td>The light-hearted Working!! franchise comes to...</td>\n",
              "      <td>working lord of the takanashi comedy romance s...</td>\n",
              "      <td>[-0.0012632638, -0.060349874, -0.04605421, 0.0...</td>\n",
              "    </tr>\n",
              "    <tr>\n",
              "      <th>12390</th>\n",
              "      <td>46569</td>\n",
              "      <td>8917</td>\n",
              "      <td>Mouretsu Pirates</td>\n",
              "      <td>Sci-Fi, Space</td>\n",
              "      <td>The story centers around a spirited high schoo...</td>\n",
              "      <td>mouretsu pirates sci fi space the story center...</td>\n",
              "      <td>[-0.04125525, 0.03119162, -0.00015191689, -0.0...</td>\n",
              "    </tr>\n",
              "    <tr>\n",
              "      <th>...</th>\n",
              "      <td>...</td>\n",
              "      <td>...</td>\n",
              "      <td>...</td>\n",
              "      <td>...</td>\n",
              "      <td>...</td>\n",
              "      <td>...</td>\n",
              "      <td>...</td>\n",
              "    </tr>\n",
              "    <tr>\n",
              "      <th>1431814</th>\n",
              "      <td>29392</td>\n",
              "      <td>384</td>\n",
              "      <td>Gantz</td>\n",
              "      <td>Action, Sci-Fi, Horror, Psychological, Superna...</td>\n",
              "      <td>Thought your life was bad? Sometimes, death is...</td>\n",
              "      <td>gantz action sci fi horror psychological super...</td>\n",
              "      <td>[-0.04904998, -0.05601833, 0.02441025, 0.04205...</td>\n",
              "    </tr>\n",
              "    <tr>\n",
              "      <th>1431950</th>\n",
              "      <td>297988</td>\n",
              "      <td>28701</td>\n",
              "      <td>Fate/stay night: Unlimited Blade Works 2nd Season</td>\n",
              "      <td>Action, Fantasy, Magic, Supernatural</td>\n",
              "      <td>In the midst of the Fifth Holy Grail War, Cast...</td>\n",
              "      <td>fate stay night unlimited blade works 2nd seas...</td>\n",
              "      <td>[-0.007831398, -0.062394254, 0.03911761, 0.008...</td>\n",
              "    </tr>\n",
              "    <tr>\n",
              "      <th>1437123</th>\n",
              "      <td>29392</td>\n",
              "      <td>7647</td>\n",
              "      <td>Arakawa Under the Bridge</td>\n",
              "      <td>Comedy, Romance, Seinen</td>\n",
              "      <td>Kou Ichinomiya is the son of a wealthy busines...</td>\n",
              "      <td>arakawa under the bridge comedy romance seinen...</td>\n",
              "      <td>[-0.01709859, -0.05084746, -0.062101483, 0.008...</td>\n",
              "    </tr>\n",
              "    <tr>\n",
              "      <th>1445638</th>\n",
              "      <td>297988</td>\n",
              "      <td>10793</td>\n",
              "      <td>Guilty Crown</td>\n",
              "      <td>Action, Sci-Fi, Super Power, Drama, Romance, M...</td>\n",
              "      <td>Japan, 2039. Ten years after the outbreak of t...</td>\n",
              "      <td>guilty crown action sci fi super power drama r...</td>\n",
              "      <td>[-0.012651658, -0.06657339, -0.009437248, 0.01...</td>\n",
              "    </tr>\n",
              "    <tr>\n",
              "      <th>1470285</th>\n",
              "      <td>46569</td>\n",
              "      <td>32951</td>\n",
              "      <td>Rokudenashi Majutsu Koushi to Akashic Records</td>\n",
              "      <td>Action, Magic, Fantasy, School</td>\n",
              "      <td>The Alzano Empire is home to one of the most d...</td>\n",
              "      <td>rokudenashi majutsu koushi to akashic records ...</td>\n",
              "      <td>[-0.04220114, 0.010830639, 0.027881768, -0.021...</td>\n",
              "    </tr>\n",
              "  </tbody>\n",
              "</table>\n",
              "<p>253 rows × 7 columns</p>\n",
              "</div>"
            ],
            "text/plain": [
              "         user_id  ...                                 content_embeddings\n",
              "2080      297988  ...  [0.0040238313, -0.023263225, 0.051207397, 0.00...\n",
              "2971      297988  ...  [0.018229159, -0.06500579, 0.056879036, 0.0077...\n",
              "5008       46569  ...  [-0.034103345, 0.019513372, 0.058939904, 0.016...\n",
              "11789     297988  ...  [-0.0012632638, -0.060349874, -0.04605421, 0.0...\n",
              "12390      46569  ...  [-0.04125525, 0.03119162, -0.00015191689, -0.0...\n",
              "...          ...  ...                                                ...\n",
              "1431814    29392  ...  [-0.04904998, -0.05601833, 0.02441025, 0.04205...\n",
              "1431950   297988  ...  [-0.007831398, -0.062394254, 0.03911761, 0.008...\n",
              "1437123    29392  ...  [-0.01709859, -0.05084746, -0.062101483, 0.008...\n",
              "1445638   297988  ...  [-0.012651658, -0.06657339, -0.009437248, 0.01...\n",
              "1470285    46569  ...  [-0.04220114, 0.010830639, 0.027881768, -0.021...\n",
              "\n",
              "[253 rows x 7 columns]"
            ]
          },
          "metadata": {},
          "execution_count": 138
        }
      ]
    },
    {
      "cell_type": "code",
      "metadata": {
        "id": "DDEAFd_Tzksw",
        "colab": {
          "base_uri": "https://localhost:8080/",
          "height": 537
        },
        "outputId": "8babb32f-a49d-4666-9b6d-85cc2aab20be"
      },
      "source": [
        "selected_users_anime_info[selected_users_anime_info.user_id == 297988].sort_values(by=\"Name\").head(25).tail(10)"
      ],
      "execution_count": 144,
      "outputs": [
        {
          "output_type": "execute_result",
          "data": {
            "text/html": [
              "<div>\n",
              "<style scoped>\n",
              "    .dataframe tbody tr th:only-of-type {\n",
              "        vertical-align: middle;\n",
              "    }\n",
              "\n",
              "    .dataframe tbody tr th {\n",
              "        vertical-align: top;\n",
              "    }\n",
              "\n",
              "    .dataframe thead th {\n",
              "        text-align: right;\n",
              "    }\n",
              "</style>\n",
              "<table border=\"1\" class=\"dataframe\">\n",
              "  <thead>\n",
              "    <tr style=\"text-align: right;\">\n",
              "      <th></th>\n",
              "      <th>user_id</th>\n",
              "      <th>anime_id</th>\n",
              "      <th>Name</th>\n",
              "      <th>Genres</th>\n",
              "      <th>Synopsis</th>\n",
              "      <th>content</th>\n",
              "      <th>content_embeddings</th>\n",
              "    </tr>\n",
              "  </thead>\n",
              "  <tbody>\n",
              "    <tr>\n",
              "      <th>672467</th>\n",
              "      <td>297988</td>\n",
              "      <td>6351</td>\n",
              "      <td>Clannad: After Story - Mou Hitotsu no Sekai, K...</td>\n",
              "      <td>Drama, Romance, School</td>\n",
              "      <td>Included in the 8th and final DVD of Clannad ~...</td>\n",
              "      <td>clannad after story mou hitotsu no sekai kyou ...</td>\n",
              "      <td>[0.043094166, -0.009919153, -0.04819594, 0.050...</td>\n",
              "    </tr>\n",
              "    <tr>\n",
              "      <th>1325450</th>\n",
              "      <td>297988</td>\n",
              "      <td>8888</td>\n",
              "      <td>Code Geass: Boukoku no Akito 1 - Yokuryuu wa M...</td>\n",
              "      <td>Action, Mecha, Military, Sci-Fi</td>\n",
              "      <td>It is the year 2017, and Europe is being invad...</td>\n",
              "      <td>code geass boukoku no akito 1 yokuryuu wa maio...</td>\n",
              "      <td>[-0.025183195, -0.030246357, -0.019525155, -0....</td>\n",
              "    </tr>\n",
              "    <tr>\n",
              "      <th>454723</th>\n",
              "      <td>297988</td>\n",
              "      <td>15197</td>\n",
              "      <td>Code Geass: Boukoku no Akito 2 - Hikisakareshi...</td>\n",
              "      <td>Action, Mecha, Military</td>\n",
              "      <td>h her previous triumphs under her belt, Leila ...</td>\n",
              "      <td>code geass boukoku no akito 2 hikisakareshi yo...</td>\n",
              "      <td>[0.009302648, -0.020827658, 0.016243976, -0.02...</td>\n",
              "    </tr>\n",
              "    <tr>\n",
              "      <th>1298877</th>\n",
              "      <td>297988</td>\n",
              "      <td>30711</td>\n",
              "      <td>Code Geass: Boukoku no Akito 5 - Itoshiki Mono...</td>\n",
              "      <td>Action, Military, Mecha</td>\n",
              "      <td>The Ark Fleet has been destroyed, and a signif...</td>\n",
              "      <td>code geass boukoku no akito 5 itoshiki mono ta...</td>\n",
              "      <td>[-0.03152075, -0.049374696, -0.04542043, -0.00...</td>\n",
              "    </tr>\n",
              "    <tr>\n",
              "      <th>1287685</th>\n",
              "      <td>297988</td>\n",
              "      <td>34437</td>\n",
              "      <td>Code Geass: Fukkatsu no Lelouch</td>\n",
              "      <td>Action, Military, Sci-Fi, Super Power, Drama, ...</td>\n",
              "      <td>Since the demise of the man believed to be Bri...</td>\n",
              "      <td>code geass fukkatsu no lelouch action military...</td>\n",
              "      <td>[-0.030432336, -0.05412831, -0.0465018, -0.005...</td>\n",
              "    </tr>\n",
              "    <tr>\n",
              "      <th>553849</th>\n",
              "      <td>297988</td>\n",
              "      <td>1575</td>\n",
              "      <td>Code Geass: Hangyaku no Lelouch</td>\n",
              "      <td>Action, Military, Sci-Fi, Super Power, Drama, ...</td>\n",
              "      <td>In the year 2010, the Holy Empire of Britannia...</td>\n",
              "      <td>code geass hangyaku no lelouch action military...</td>\n",
              "      <td>[-0.039335374, -0.047463506, -0.038849197, -0....</td>\n",
              "    </tr>\n",
              "    <tr>\n",
              "      <th>935480</th>\n",
              "      <td>297988</td>\n",
              "      <td>2904</td>\n",
              "      <td>Code Geass: Hangyaku no Lelouch R2</td>\n",
              "      <td>Action, Military, Sci-Fi, Super Power, Drama, ...</td>\n",
              "      <td>One year has passed since the Black Rebellion,...</td>\n",
              "      <td>code geass hangyaku no lelouch r2 action milit...</td>\n",
              "      <td>[-0.016263317, -0.060228683, -0.05088897, -0.0...</td>\n",
              "    </tr>\n",
              "    <tr>\n",
              "      <th>1056188</th>\n",
              "      <td>297988</td>\n",
              "      <td>23383</td>\n",
              "      <td>D-Frag!*</td>\n",
              "      <td>Comedy, Seinen</td>\n",
              "      <td>fter Sakura Mizukami shows up at the Kazama ho...</td>\n",
              "      <td>d frag comedy seinen fter sakura mizukami show...</td>\n",
              "      <td>[0.0010475339, -0.055918228, -0.057431236, -0....</td>\n",
              "    </tr>\n",
              "    <tr>\n",
              "      <th>682073</th>\n",
              "      <td>297988</td>\n",
              "      <td>14893</td>\n",
              "      <td>Dakara Boku wa, H ga Dekinai.: Mie Sugi! Mizug...</td>\n",
              "      <td>Comedy, Romance, Ecchi</td>\n",
              "      <td>h their school's pool opening the next day, Ir...</td>\n",
              "      <td>dakara boku wa h ga dekinai mie sugi mizugi co...</td>\n",
              "      <td>[-0.030604001, -0.02403526, -0.00833839, -0.05...</td>\n",
              "    </tr>\n",
              "    <tr>\n",
              "      <th>368938</th>\n",
              "      <td>297988</td>\n",
              "      <td>2025</td>\n",
              "      <td>Darker than Black: Kuro no Keiyakusha</td>\n",
              "      <td>Action, Sci-Fi, Mystery, Super Power</td>\n",
              "      <td>It has been 10 years since Heaven's Gate appea...</td>\n",
              "      <td>darker than black kuro no keiyakusha action sc...</td>\n",
              "      <td>[-0.0435136, 0.007155234, 0.029680954, -0.0408...</td>\n",
              "    </tr>\n",
              "  </tbody>\n",
              "</table>\n",
              "</div>"
            ],
            "text/plain": [
              "         user_id  ...                                 content_embeddings\n",
              "672467    297988  ...  [0.043094166, -0.009919153, -0.04819594, 0.050...\n",
              "1325450   297988  ...  [-0.025183195, -0.030246357, -0.019525155, -0....\n",
              "454723    297988  ...  [0.009302648, -0.020827658, 0.016243976, -0.02...\n",
              "1298877   297988  ...  [-0.03152075, -0.049374696, -0.04542043, -0.00...\n",
              "1287685   297988  ...  [-0.030432336, -0.05412831, -0.0465018, -0.005...\n",
              "553849    297988  ...  [-0.039335374, -0.047463506, -0.038849197, -0....\n",
              "935480    297988  ...  [-0.016263317, -0.060228683, -0.05088897, -0.0...\n",
              "1056188   297988  ...  [0.0010475339, -0.055918228, -0.057431236, -0....\n",
              "682073    297988  ...  [-0.030604001, -0.02403526, -0.00833839, -0.05...\n",
              "368938    297988  ...  [-0.0435136, 0.007155234, 0.029680954, -0.0408...\n",
              "\n",
              "[10 rows x 7 columns]"
            ]
          },
          "metadata": {},
          "execution_count": 144
        }
      ]
    },
    {
      "cell_type": "markdown",
      "metadata": {
        "id": "ItvXpFPrhtAk"
      },
      "source": [
        "Notamos que el usuario más activo ha dado ratings en varias sagas de `Code Geass`."
      ]
    },
    {
      "cell_type": "code",
      "metadata": {
        "id": "Tuf3lE7Ihsih"
      },
      "source": [
        "from collections import Counter\n",
        "\n",
        "theme_counter = Counter()\n",
        "theme_counter.update([j for i in selected_users_anime_info[selected_users_anime_info.user_id == 297988].Genres.str.split(\", \").tolist() for j in i])"
      ],
      "execution_count": 150,
      "outputs": []
    },
    {
      "cell_type": "markdown",
      "metadata": {
        "id": "egxSBWNPibHt"
      },
      "source": [
        "Además, tiene un gran interés por acción y comedia."
      ]
    },
    {
      "cell_type": "code",
      "metadata": {
        "id": "e5ypqkXQzk0h",
        "colab": {
          "base_uri": "https://localhost:8080/"
        },
        "outputId": "73a2bf3e-cc37-4fc4-e2eb-38e7f24c8bf1"
      },
      "source": [
        "theme_counter.most_common(10)"
      ],
      "execution_count": 152,
      "outputs": [
        {
          "output_type": "execute_result",
          "data": {
            "text/plain": [
              "[('Comedy', 66),\n",
              " ('Action', 50),\n",
              " ('Romance', 47),\n",
              " ('School', 46),\n",
              " ('Supernatural', 35),\n",
              " ('Fantasy', 34),\n",
              " ('Shounen', 31),\n",
              " ('Drama', 31),\n",
              " ('Slice of Life', 28),\n",
              " ('Sci-Fi', 27)]"
            ]
          },
          "metadata": {},
          "execution_count": 152
        }
      ]
    },
    {
      "cell_type": "code",
      "metadata": {
        "id": "FFUXBLd7zk6t",
        "colab": {
          "base_uri": "https://localhost:8080/",
          "height": 537
        },
        "outputId": "06d08608-dc98-4bc1-b018-d711ddc2ca04"
      },
      "source": [
        "anime_info[anime_info.anime_id.isin(rec_results[297988])]"
      ],
      "execution_count": 155,
      "outputs": [
        {
          "output_type": "execute_result",
          "data": {
            "text/html": [
              "<div>\n",
              "<style scoped>\n",
              "    .dataframe tbody tr th:only-of-type {\n",
              "        vertical-align: middle;\n",
              "    }\n",
              "\n",
              "    .dataframe tbody tr th {\n",
              "        vertical-align: top;\n",
              "    }\n",
              "\n",
              "    .dataframe thead th {\n",
              "        text-align: right;\n",
              "    }\n",
              "</style>\n",
              "<table border=\"1\" class=\"dataframe\">\n",
              "  <thead>\n",
              "    <tr style=\"text-align: right;\">\n",
              "      <th></th>\n",
              "      <th>anime_id</th>\n",
              "      <th>Name</th>\n",
              "      <th>Genres</th>\n",
              "      <th>Synopsis</th>\n",
              "      <th>content</th>\n",
              "      <th>content_embeddings</th>\n",
              "    </tr>\n",
              "  </thead>\n",
              "  <tbody>\n",
              "    <tr>\n",
              "      <th>166</th>\n",
              "      <td>356</td>\n",
              "      <td>Fate/stay night</td>\n",
              "      <td>Action, Supernatural, Magic, Romance, Fantasy</td>\n",
              "      <td>fter a mysterious inferno kills his family, Sh...</td>\n",
              "      <td>fate stay night action supernatural magic roma...</td>\n",
              "      <td>[-0.039824754, -0.053225905, 0.054206837, -0.0...</td>\n",
              "    </tr>\n",
              "    <tr>\n",
              "      <th>785</th>\n",
              "      <td>6746</td>\n",
              "      <td>Durarara!!</td>\n",
              "      <td>Action, Mystery, Supernatural</td>\n",
              "      <td>In Tokyo's downtown district of Ikebukuro, ami...</td>\n",
              "      <td>durarara action mystery supernatural in tokyo ...</td>\n",
              "      <td>[-0.0056238836, 0.053933885, 0.017773796, -0.0...</td>\n",
              "    </tr>\n",
              "    <tr>\n",
              "      <th>896</th>\n",
              "      <td>8937</td>\n",
              "      <td>Toaru Majutsu no Index II</td>\n",
              "      <td>Action, Magic, Sci-Fi, Super Power</td>\n",
              "      <td>s tensions between the world of magic and Acad...</td>\n",
              "      <td>toaru majutsu no index ii action magic sci fi ...</td>\n",
              "      <td>[-0.019729432, -0.03901631, 0.03931365, 0.0236...</td>\n",
              "    </tr>\n",
              "    <tr>\n",
              "      <th>1041</th>\n",
              "      <td>10719</td>\n",
              "      <td>Boku wa Tomodachi ga Sukunai</td>\n",
              "      <td>Ecchi, Slice of Life, Comedy, Harem, Romance, ...</td>\n",
              "      <td>hen Kodaka Hasegawa finds out that he will be ...</td>\n",
              "      <td>boku wa tomodachi ga sukunai ecchi slice of li...</td>\n",
              "      <td>[0.0063684136, -0.056625903, -0.029381713, 0.0...</td>\n",
              "    </tr>\n",
              "    <tr>\n",
              "      <th>1080</th>\n",
              "      <td>11597</td>\n",
              "      <td>Nisemonogatari</td>\n",
              "      <td>Mystery, Comedy, Supernatural, Ecchi</td>\n",
              "      <td>Surviving a vampire attack, meeting several gi...</td>\n",
              "      <td>nisemonogatari mystery comedy supernatural ecc...</td>\n",
              "      <td>[-0.007218875, -0.017757624, -0.043057144, 0.0...</td>\n",
              "    </tr>\n",
              "    <tr>\n",
              "      <th>1116</th>\n",
              "      <td>12189</td>\n",
              "      <td>Hyouka</td>\n",
              "      <td>Mystery, School, Slice of Life</td>\n",
              "      <td>Energy-conservative high school student Houtar...</td>\n",
              "      <td>hyouka mystery school slice of life energy con...</td>\n",
              "      <td>[-0.055300236, 0.0069037047, 0.034082986, 0.00...</td>\n",
              "    </tr>\n",
              "    <tr>\n",
              "      <th>1486</th>\n",
              "      <td>22199</td>\n",
              "      <td>Akame ga Kill!</td>\n",
              "      <td>Action, Adventure, Drama, Fantasy, Shounen</td>\n",
              "      <td>Night Raid is the covert assassination branch ...</td>\n",
              "      <td>akame ga kill action adventure drama fantasy s...</td>\n",
              "      <td>[0.0083821835, -0.06494852, -0.0063191755, -0....</td>\n",
              "    </tr>\n",
              "    <tr>\n",
              "      <th>1489</th>\n",
              "      <td>22297</td>\n",
              "      <td>Fate/stay night: Unlimited Blade Works</td>\n",
              "      <td>Action, Fantasy, Magic, Supernatural</td>\n",
              "      <td>The Holy Grail War is a battle royale among se...</td>\n",
              "      <td>fate stay night unlimited blade works action f...</td>\n",
              "      <td>[-0.018256538, -0.05802738, 0.058961317, -0.04...</td>\n",
              "    </tr>\n",
              "    <tr>\n",
              "      <th>1538</th>\n",
              "      <td>23847</td>\n",
              "      <td>Yahari Ore no Seishun Love Comedy wa Machigatt...</td>\n",
              "      <td>Slice of Life, Comedy, Drama, Romance, School</td>\n",
              "      <td>Yahari Ore no Seishun Love Comedy wa Machigatt...</td>\n",
              "      <td>yahari ore no seishun love comedy wa machigatt...</td>\n",
              "      <td>[0.009680362, -0.053755116, 0.018353269, 0.036...</td>\n",
              "    </tr>\n",
              "    <tr>\n",
              "      <th>2026</th>\n",
              "      <td>35073</td>\n",
              "      <td>Overlord II</td>\n",
              "      <td>Action, Game, Adventure, Supernatural, Magic, ...</td>\n",
              "      <td>z Ooal Gown, the undead sorcerer formerly know...</td>\n",
              "      <td>overlord ii action game adventure supernatural...</td>\n",
              "      <td>[0.016052395, -0.039178014, -0.03383202, -0.04...</td>\n",
              "    </tr>\n",
              "  </tbody>\n",
              "</table>\n",
              "</div>"
            ],
            "text/plain": [
              "      anime_id  ...                                 content_embeddings\n",
              "166        356  ...  [-0.039824754, -0.053225905, 0.054206837, -0.0...\n",
              "785       6746  ...  [-0.0056238836, 0.053933885, 0.017773796, -0.0...\n",
              "896       8937  ...  [-0.019729432, -0.03901631, 0.03931365, 0.0236...\n",
              "1041     10719  ...  [0.0063684136, -0.056625903, -0.029381713, 0.0...\n",
              "1080     11597  ...  [-0.007218875, -0.017757624, -0.043057144, 0.0...\n",
              "1116     12189  ...  [-0.055300236, 0.0069037047, 0.034082986, 0.00...\n",
              "1486     22199  ...  [0.0083821835, -0.06494852, -0.0063191755, -0....\n",
              "1489     22297  ...  [-0.018256538, -0.05802738, 0.058961317, -0.04...\n",
              "1538     23847  ...  [0.009680362, -0.053755116, 0.018353269, 0.036...\n",
              "2026     35073  ...  [0.016052395, -0.039178014, -0.03383202, -0.04...\n",
              "\n",
              "[10 rows x 6 columns]"
            ]
          },
          "metadata": {},
          "execution_count": 155
        }
      ]
    },
    {
      "cell_type": "code",
      "metadata": {
        "id": "uWT-uCc-zk9D"
      },
      "source": [
        "theme_counter_test = Counter()\n",
        "theme_counter_test.update([j for i in anime_info[anime_info.anime_id.isin(rec_results[297988])].Genres.str.split(\", \").tolist() for j in i])"
      ],
      "execution_count": 156,
      "outputs": []
    },
    {
      "cell_type": "markdown",
      "metadata": {
        "id": "SELw4taHi580"
      },
      "source": [
        "Acción sigue siendo el tema predominante en las recomendaciones, pero se puede ver un poco más de diversidad, al recomendar temas como \"Magic\", que no \n",
        "era de los 10 más preferidos por el usuario `297988`"
      ]
    },
    {
      "cell_type": "code",
      "metadata": {
        "colab": {
          "base_uri": "https://localhost:8080/"
        },
        "id": "-wZ0g4v6iymf",
        "outputId": "c102470b-157f-4719-e572-f6922a031fdc"
      },
      "source": [
        "theme_counter_test.most_common(10)"
      ],
      "execution_count": 157,
      "outputs": [
        {
          "output_type": "execute_result",
          "data": {
            "text/plain": [
              "[('Action', 6),\n",
              " ('Supernatural', 5),\n",
              " ('Magic', 4),\n",
              " ('Fantasy', 4),\n",
              " ('Romance', 3),\n",
              " ('Mystery', 3),\n",
              " ('Slice of Life', 3),\n",
              " ('Comedy', 3),\n",
              " ('School', 3),\n",
              " ('Ecchi', 2)]"
            ]
          },
          "metadata": {},
          "execution_count": 157
        }
      ]
    },
    {
      "cell_type": "code",
      "metadata": {
        "colab": {
          "base_uri": "https://localhost:8080/",
          "height": 537
        },
        "id": "lD1TWL2Ei00G",
        "outputId": "9563f506-9bc4-4bca-9e47-8b9c49a90587"
      },
      "source": [
        "selected_users_anime_info[selected_users_anime_info.user_id == 29392].sort_values(by=\"Name\").head(25).tail(10)"
      ],
      "execution_count": 158,
      "outputs": [
        {
          "output_type": "execute_result",
          "data": {
            "text/html": [
              "<div>\n",
              "<style scoped>\n",
              "    .dataframe tbody tr th:only-of-type {\n",
              "        vertical-align: middle;\n",
              "    }\n",
              "\n",
              "    .dataframe tbody tr th {\n",
              "        vertical-align: top;\n",
              "    }\n",
              "\n",
              "    .dataframe thead th {\n",
              "        text-align: right;\n",
              "    }\n",
              "</style>\n",
              "<table border=\"1\" class=\"dataframe\">\n",
              "  <thead>\n",
              "    <tr style=\"text-align: right;\">\n",
              "      <th></th>\n",
              "      <th>user_id</th>\n",
              "      <th>anime_id</th>\n",
              "      <th>Name</th>\n",
              "      <th>Genres</th>\n",
              "      <th>Synopsis</th>\n",
              "      <th>content</th>\n",
              "      <th>content_embeddings</th>\n",
              "    </tr>\n",
              "  </thead>\n",
              "  <tbody>\n",
              "    <tr>\n",
              "      <th>1157769</th>\n",
              "      <td>29392</td>\n",
              "      <td>6746</td>\n",
              "      <td>Durarara!!</td>\n",
              "      <td>Action, Mystery, Supernatural</td>\n",
              "      <td>In Tokyo's downtown district of Ikebukuro, ami...</td>\n",
              "      <td>durarara action mystery supernatural in tokyo ...</td>\n",
              "      <td>[-0.0056238836, 0.053933885, 0.017773796, -0.0...</td>\n",
              "    </tr>\n",
              "    <tr>\n",
              "      <th>1252042</th>\n",
              "      <td>29392</td>\n",
              "      <td>226</td>\n",
              "      <td>Elfen Lied</td>\n",
              "      <td>Action, Horror, Psychological, Supernatural, D...</td>\n",
              "      <td>ucy is a special breed of human referred to as...</td>\n",
              "      <td>elfen lied action horror psychological superna...</td>\n",
              "      <td>[-0.040714208, 0.048942212, -0.010696577, -0.0...</td>\n",
              "    </tr>\n",
              "    <tr>\n",
              "      <th>834713</th>\n",
              "      <td>29392</td>\n",
              "      <td>7465</td>\n",
              "      <td>Eve no Jikan (Movie)</td>\n",
              "      <td>Sci-Fi, Slice of Life</td>\n",
              "      <td>In the Japan of the future, employing androids...</td>\n",
              "      <td>eve no jikan movie sci fi slice of life in the...</td>\n",
              "      <td>[-0.03512491, 0.05989203, -0.009472137, -0.028...</td>\n",
              "    </tr>\n",
              "    <tr>\n",
              "      <th>1353318</th>\n",
              "      <td>29392</td>\n",
              "      <td>28701</td>\n",
              "      <td>Fate/stay night: Unlimited Blade Works 2nd Season</td>\n",
              "      <td>Action, Fantasy, Magic, Supernatural</td>\n",
              "      <td>In the midst of the Fifth Holy Grail War, Cast...</td>\n",
              "      <td>fate stay night unlimited blade works 2nd seas...</td>\n",
              "      <td>[-0.007831398, -0.062394254, 0.03911761, 0.008...</td>\n",
              "    </tr>\n",
              "    <tr>\n",
              "      <th>1431814</th>\n",
              "      <td>29392</td>\n",
              "      <td>384</td>\n",
              "      <td>Gantz</td>\n",
              "      <td>Action, Sci-Fi, Horror, Psychological, Superna...</td>\n",
              "      <td>Thought your life was bad? Sometimes, death is...</td>\n",
              "      <td>gantz action sci fi horror psychological super...</td>\n",
              "      <td>[-0.04904998, -0.05601833, 0.02441025, 0.04205...</td>\n",
              "    </tr>\n",
              "    <tr>\n",
              "      <th>72920</th>\n",
              "      <td>29392</td>\n",
              "      <td>29101</td>\n",
              "      <td>Grisaia no Kajitsu Specials</td>\n",
              "      <td>Ecchi</td>\n",
              "      <td>Short specials added to Blu-ray/DVD volumes.</td>\n",
              "      <td>grisaia no kajitsu specials ecchi short specia...</td>\n",
              "      <td>[-0.06523412, -0.03200778, -0.0023487334, -0.0...</td>\n",
              "    </tr>\n",
              "    <tr>\n",
              "      <th>125141</th>\n",
              "      <td>29392</td>\n",
              "      <td>256</td>\n",
              "      <td>Hoshi no Koe</td>\n",
              "      <td>Sci-Fi, Space, Drama, Romance, Mecha</td>\n",
              "      <td>It is the year 2046, Noboru Terao and Mikako N...</td>\n",
              "      <td>hoshi no koe sci fi space drama romance mecha ...</td>\n",
              "      <td>[-0.044461228, -0.01060096, -0.036010813, 0.03...</td>\n",
              "    </tr>\n",
              "    <tr>\n",
              "      <th>734795</th>\n",
              "      <td>29392</td>\n",
              "      <td>578</td>\n",
              "      <td>Hotaru no Haka</td>\n",
              "      <td>Drama, Historical</td>\n",
              "      <td>s World War II reaches its conclusion in 1945,...</td>\n",
              "      <td>hotaru no haka drama historical s world war ii...</td>\n",
              "      <td>[0.0076241395, -0.030911423, -0.052517917, 0.0...</td>\n",
              "    </tr>\n",
              "    <tr>\n",
              "      <th>365344</th>\n",
              "      <td>29392</td>\n",
              "      <td>37086</td>\n",
              "      <td>Kakegurui××</td>\n",
              "      <td>Drama, Game, Mystery, Psychological, School, S...</td>\n",
              "      <td>s Yumeko Jabami's fame grows and the reputatio...</td>\n",
              "      <td>kakegurui drama game mystery psychological sch...</td>\n",
              "      <td>[-0.044282574, -0.065331556, -0.028320655, -0....</td>\n",
              "    </tr>\n",
              "    <tr>\n",
              "      <th>147533</th>\n",
              "      <td>29392</td>\n",
              "      <td>16001</td>\n",
              "      <td>Kokoro Connect: Michi Random</td>\n",
              "      <td>Comedy, Drama, Romance, School, Slice of Life,...</td>\n",
              "      <td>Not long after putting the previous supernatur...</td>\n",
              "      <td>kokoro connect michi random comedy drama roman...</td>\n",
              "      <td>[0.02201407, -0.012864347, -0.023527015, 0.044...</td>\n",
              "    </tr>\n",
              "  </tbody>\n",
              "</table>\n",
              "</div>"
            ],
            "text/plain": [
              "         user_id  ...                                 content_embeddings\n",
              "1157769    29392  ...  [-0.0056238836, 0.053933885, 0.017773796, -0.0...\n",
              "1252042    29392  ...  [-0.040714208, 0.048942212, -0.010696577, -0.0...\n",
              "834713     29392  ...  [-0.03512491, 0.05989203, -0.009472137, -0.028...\n",
              "1353318    29392  ...  [-0.007831398, -0.062394254, 0.03911761, 0.008...\n",
              "1431814    29392  ...  [-0.04904998, -0.05601833, 0.02441025, 0.04205...\n",
              "72920      29392  ...  [-0.06523412, -0.03200778, -0.0023487334, -0.0...\n",
              "125141     29392  ...  [-0.044461228, -0.01060096, -0.036010813, 0.03...\n",
              "734795     29392  ...  [0.0076241395, -0.030911423, -0.052517917, 0.0...\n",
              "365344     29392  ...  [-0.044282574, -0.065331556, -0.028320655, -0....\n",
              "147533     29392  ...  [0.02201407, -0.012864347, -0.023527015, 0.044...\n",
              "\n",
              "[10 rows x 7 columns]"
            ]
          },
          "metadata": {},
          "execution_count": 158
        }
      ]
    },
    {
      "cell_type": "markdown",
      "metadata": {
        "id": "mmMcxtsQjaUe"
      },
      "source": [
        "De forma análoga, para el usuario con menos ratings en train, veremos si existe\n",
        "algún problema de tipo cold-start"
      ]
    },
    {
      "cell_type": "code",
      "metadata": {
        "id": "QEffJ7IvjSIm"
      },
      "source": [
        "theme_counter = Counter()\n",
        "theme_counter.update([j for i in selected_users_anime_info[selected_users_anime_info.user_id == 29392].Genres.str.split(\", \").tolist() for j in i])"
      ],
      "execution_count": 159,
      "outputs": []
    },
    {
      "cell_type": "markdown",
      "metadata": {
        "id": "t9zN2i3Yjn7g"
      },
      "source": [
        "Vemos que el usuario `29392` prefiere temáticas como comedia, drama y romance"
      ]
    },
    {
      "cell_type": "code",
      "metadata": {
        "colab": {
          "base_uri": "https://localhost:8080/"
        },
        "id": "_-MCzObJjjN0",
        "outputId": "b23cab4d-d805-42fd-ffef-c061a10987e2"
      },
      "source": [
        "theme_counter.most_common(10)"
      ],
      "execution_count": 160,
      "outputs": [
        {
          "output_type": "execute_result",
          "data": {
            "text/plain": [
              "[('Drama', 18),\n",
              " ('Comedy', 18),\n",
              " ('Romance', 13),\n",
              " ('School', 13),\n",
              " ('Supernatural', 12),\n",
              " ('Action', 12),\n",
              " ('Shounen', 12),\n",
              " ('Slice of Life', 10),\n",
              " ('Adventure', 7),\n",
              " ('Sci-Fi', 7)]"
            ]
          },
          "metadata": {},
          "execution_count": 160
        }
      ]
    },
    {
      "cell_type": "code",
      "metadata": {
        "id": "NFmNSR4xjmzs"
      },
      "source": [
        "theme_counter_test = Counter()\n",
        "theme_counter_test.update([j for i in anime_info[anime_info.anime_id.isin(rec_results[29392])].Genres.str.split(\", \").tolist() for j in i])"
      ],
      "execution_count": 161,
      "outputs": []
    },
    {
      "cell_type": "markdown",
      "metadata": {
        "id": "1dXqjgrcj2Ip"
      },
      "source": [
        "El método parece funcionar! Recomienda temáticas que el usuario ha declarado \n",
        "como relevantes. En este caso no hay tanta diversidad o quizás\n",
        "serendipia como para el usuario con más ratings, pero de todas formas\n",
        "es una recomendación que seguramente es relevante."
      ]
    },
    {
      "cell_type": "code",
      "metadata": {
        "colab": {
          "base_uri": "https://localhost:8080/"
        },
        "id": "RoJxZkuGjxoN",
        "outputId": "93d70974-66ac-44e5-f2dc-9cc67f9b19f6"
      },
      "source": [
        "theme_counter_test.most_common(10)"
      ],
      "execution_count": 162,
      "outputs": [
        {
          "output_type": "execute_result",
          "data": {
            "text/plain": [
              "[('Romance', 5),\n",
              " ('School', 5),\n",
              " ('Comedy', 4),\n",
              " ('Drama', 4),\n",
              " ('Action', 3),\n",
              " ('Supernatural', 3),\n",
              " ('Fantasy', 3),\n",
              " ('Mystery', 3),\n",
              " ('Slice of Life', 3),\n",
              " ('Shounen', 3)]"
            ]
          },
          "metadata": {},
          "execution_count": 162
        }
      ]
    },
    {
      "cell_type": "markdown",
      "metadata": {
        "id": "szzokIOakFWe"
      },
      "source": [
        "Finalmente, analizando el usuario intermedio `46569`"
      ]
    },
    {
      "cell_type": "code",
      "metadata": {
        "id": "8SPGXoSpjzKh"
      },
      "source": [
        "theme_counter = Counter()\n",
        "theme_counter.update([j for i in selected_users_anime_info[selected_users_anime_info.user_id == 46569].Genres.str.split(\", \").tolist() for j in i])"
      ],
      "execution_count": 163,
      "outputs": []
    },
    {
      "cell_type": "markdown",
      "metadata": {
        "id": "EFxbyNy5kSRj"
      },
      "source": [
        "Tiene un evidente interés por acción y ciencia ficción"
      ]
    },
    {
      "cell_type": "code",
      "metadata": {
        "colab": {
          "base_uri": "https://localhost:8080/"
        },
        "id": "SZ1bHKdvkQA8",
        "outputId": "a069bac4-9ebc-4f6f-bfb6-04d0197469d4"
      },
      "source": [
        "theme_counter.most_common(10)"
      ],
      "execution_count": 164,
      "outputs": [
        {
          "output_type": "execute_result",
          "data": {
            "text/plain": [
              "[('Action', 51),\n",
              " ('Sci-Fi', 29),\n",
              " ('Comedy', 27),\n",
              " ('Supernatural', 24),\n",
              " ('Fantasy', 23),\n",
              " ('Adventure', 19),\n",
              " ('Mecha', 17),\n",
              " ('Shounen', 16),\n",
              " ('Drama', 15),\n",
              " ('School', 15)]"
            ]
          },
          "metadata": {},
          "execution_count": 164
        }
      ]
    },
    {
      "cell_type": "code",
      "metadata": {
        "id": "Xb-Yy3K4kRO8"
      },
      "source": [
        "theme_counter_test = Counter()\n",
        "theme_counter_test.update([j for i in anime_info[anime_info.anime_id.isin(rec_results[46569])].Genres.str.split(\", \").tolist() for j in i])"
      ],
      "execution_count": 166,
      "outputs": []
    },
    {
      "cell_type": "markdown",
      "metadata": {
        "id": "QucgbCvakdc0"
      },
      "source": [
        "El recomendador se va a la segura con acción, pero deja sci-fi un poco detrás. \n",
        "Nótese, en todo caso, que tiene la misma frecuencia que comedia,\n",
        "lo cual es consistente con los datos de training.\n",
        "Se observa también algo de diversidad en la recomendación de temáticas"
      ]
    },
    {
      "cell_type": "code",
      "metadata": {
        "colab": {
          "base_uri": "https://localhost:8080/"
        },
        "id": "FqmE17yZkXJw",
        "outputId": "22cd2ba1-ac54-446e-9ad4-70038c8d799d"
      },
      "source": [
        "theme_counter_test.most_common(10)"
      ],
      "execution_count": 167,
      "outputs": [
        {
          "output_type": "execute_result",
          "data": {
            "text/plain": [
              "[('Action', 5),\n",
              " ('Comedy', 3),\n",
              " ('Drama', 3),\n",
              " ('Fantasy', 3),\n",
              " ('Magic', 3),\n",
              " ('Military', 3),\n",
              " ('Psychological', 3),\n",
              " ('Sci-Fi', 3),\n",
              " ('Adventure', 2),\n",
              " ('Slice of Life', 2)]"
            ]
          },
          "metadata": {},
          "execution_count": 167
        }
      ]
    },
    {
      "cell_type": "code",
      "metadata": {
        "id": "n3LigckmkZ2s"
      },
      "source": [
        ""
      ],
      "execution_count": null,
      "outputs": []
    }
  ]
}